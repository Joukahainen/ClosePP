{
 "cells": [
  {
   "cell_type": "code",
   "execution_count": 4,
   "metadata": {},
   "outputs": [],
   "source": [
    "import matplotlib.pyplot as plt"
   ]
  },
  {
   "cell_type": "code",
   "execution_count": 5,
   "metadata": {},
   "outputs": [],
   "source": [
    "x = np.arange(-5,5, 0.1)"
   ]
  },
  {
   "cell_type": "code",
   "execution_count": 3,
   "metadata": {},
   "outputs": [],
   "source": [
    "import numpy as np"
   ]
  },
  {
   "cell_type": "code",
   "execution_count": 6,
   "metadata": {},
   "outputs": [
    {
     "data": {
      "text/plain": [
       "array([-5.00000000e+00, -4.90000000e+00, -4.80000000e+00, -4.70000000e+00,\n",
       "       -4.60000000e+00, -4.50000000e+00, -4.40000000e+00, -4.30000000e+00,\n",
       "       -4.20000000e+00, -4.10000000e+00, -4.00000000e+00, -3.90000000e+00,\n",
       "       -3.80000000e+00, -3.70000000e+00, -3.60000000e+00, -3.50000000e+00,\n",
       "       -3.40000000e+00, -3.30000000e+00, -3.20000000e+00, -3.10000000e+00,\n",
       "       -3.00000000e+00, -2.90000000e+00, -2.80000000e+00, -2.70000000e+00,\n",
       "       -2.60000000e+00, -2.50000000e+00, -2.40000000e+00, -2.30000000e+00,\n",
       "       -2.20000000e+00, -2.10000000e+00, -2.00000000e+00, -1.90000000e+00,\n",
       "       -1.80000000e+00, -1.70000000e+00, -1.60000000e+00, -1.50000000e+00,\n",
       "       -1.40000000e+00, -1.30000000e+00, -1.20000000e+00, -1.10000000e+00,\n",
       "       -1.00000000e+00, -9.00000000e-01, -8.00000000e-01, -7.00000000e-01,\n",
       "       -6.00000000e-01, -5.00000000e-01, -4.00000000e-01, -3.00000000e-01,\n",
       "       -2.00000000e-01, -1.00000000e-01, -1.77635684e-14,  1.00000000e-01,\n",
       "        2.00000000e-01,  3.00000000e-01,  4.00000000e-01,  5.00000000e-01,\n",
       "        6.00000000e-01,  7.00000000e-01,  8.00000000e-01,  9.00000000e-01,\n",
       "        1.00000000e+00,  1.10000000e+00,  1.20000000e+00,  1.30000000e+00,\n",
       "        1.40000000e+00,  1.50000000e+00,  1.60000000e+00,  1.70000000e+00,\n",
       "        1.80000000e+00,  1.90000000e+00,  2.00000000e+00,  2.10000000e+00,\n",
       "        2.20000000e+00,  2.30000000e+00,  2.40000000e+00,  2.50000000e+00,\n",
       "        2.60000000e+00,  2.70000000e+00,  2.80000000e+00,  2.90000000e+00,\n",
       "        3.00000000e+00,  3.10000000e+00,  3.20000000e+00,  3.30000000e+00,\n",
       "        3.40000000e+00,  3.50000000e+00,  3.60000000e+00,  3.70000000e+00,\n",
       "        3.80000000e+00,  3.90000000e+00,  4.00000000e+00,  4.10000000e+00,\n",
       "        4.20000000e+00,  4.30000000e+00,  4.40000000e+00,  4.50000000e+00,\n",
       "        4.60000000e+00,  4.70000000e+00,  4.80000000e+00,  4.90000000e+00])"
      ]
     },
     "execution_count": 6,
     "metadata": {},
     "output_type": "execute_result"
    }
   ],
   "source": [
    "x"
   ]
  },
  {
   "cell_type": "code",
   "execution_count": 7,
   "metadata": {},
   "outputs": [],
   "source": [
    "y = np.arange(-5,5,0.1)"
   ]
  },
  {
   "cell_type": "code",
   "execution_count": 8,
   "metadata": {},
   "outputs": [],
   "source": [
    "xx, yy = np.meshgrid(x, y, sparse = True)"
   ]
  },
  {
   "cell_type": "code",
   "execution_count": 9,
   "metadata": {},
   "outputs": [
    {
     "data": {
      "text/plain": [
       "array([[-5.00000000e+00, -4.90000000e+00, -4.80000000e+00,\n",
       "        -4.70000000e+00, -4.60000000e+00, -4.50000000e+00,\n",
       "        -4.40000000e+00, -4.30000000e+00, -4.20000000e+00,\n",
       "        -4.10000000e+00, -4.00000000e+00, -3.90000000e+00,\n",
       "        -3.80000000e+00, -3.70000000e+00, -3.60000000e+00,\n",
       "        -3.50000000e+00, -3.40000000e+00, -3.30000000e+00,\n",
       "        -3.20000000e+00, -3.10000000e+00, -3.00000000e+00,\n",
       "        -2.90000000e+00, -2.80000000e+00, -2.70000000e+00,\n",
       "        -2.60000000e+00, -2.50000000e+00, -2.40000000e+00,\n",
       "        -2.30000000e+00, -2.20000000e+00, -2.10000000e+00,\n",
       "        -2.00000000e+00, -1.90000000e+00, -1.80000000e+00,\n",
       "        -1.70000000e+00, -1.60000000e+00, -1.50000000e+00,\n",
       "        -1.40000000e+00, -1.30000000e+00, -1.20000000e+00,\n",
       "        -1.10000000e+00, -1.00000000e+00, -9.00000000e-01,\n",
       "        -8.00000000e-01, -7.00000000e-01, -6.00000000e-01,\n",
       "        -5.00000000e-01, -4.00000000e-01, -3.00000000e-01,\n",
       "        -2.00000000e-01, -1.00000000e-01, -1.77635684e-14,\n",
       "         1.00000000e-01,  2.00000000e-01,  3.00000000e-01,\n",
       "         4.00000000e-01,  5.00000000e-01,  6.00000000e-01,\n",
       "         7.00000000e-01,  8.00000000e-01,  9.00000000e-01,\n",
       "         1.00000000e+00,  1.10000000e+00,  1.20000000e+00,\n",
       "         1.30000000e+00,  1.40000000e+00,  1.50000000e+00,\n",
       "         1.60000000e+00,  1.70000000e+00,  1.80000000e+00,\n",
       "         1.90000000e+00,  2.00000000e+00,  2.10000000e+00,\n",
       "         2.20000000e+00,  2.30000000e+00,  2.40000000e+00,\n",
       "         2.50000000e+00,  2.60000000e+00,  2.70000000e+00,\n",
       "         2.80000000e+00,  2.90000000e+00,  3.00000000e+00,\n",
       "         3.10000000e+00,  3.20000000e+00,  3.30000000e+00,\n",
       "         3.40000000e+00,  3.50000000e+00,  3.60000000e+00,\n",
       "         3.70000000e+00,  3.80000000e+00,  3.90000000e+00,\n",
       "         4.00000000e+00,  4.10000000e+00,  4.20000000e+00,\n",
       "         4.30000000e+00,  4.40000000e+00,  4.50000000e+00,\n",
       "         4.60000000e+00,  4.70000000e+00,  4.80000000e+00,\n",
       "         4.90000000e+00]])"
      ]
     },
     "execution_count": 9,
     "metadata": {},
     "output_type": "execute_result"
    }
   ],
   "source": [
    "xx"
   ]
  },
  {
   "cell_type": "code",
   "execution_count": 19,
   "metadata": {},
   "outputs": [],
   "source": [
    "z = np.sin(xx**2 - yy**2) / (xx**2 + yy**2)"
   ]
  },
  {
   "cell_type": "code",
   "execution_count": 20,
   "metadata": {},
   "outputs": [
    {
     "data": {
      "text/plain": [
       "array([[ 0.00000000e+00, -1.70582734e-02, -1.92591907e-02, ...,\n",
       "        -4.87423969e-03, -1.92591907e-02, -1.70582734e-02],\n",
       "       [ 1.70582734e-02,  0.00000000e+00, -1.75321087e-02, ...,\n",
       "        -2.03827652e-02, -1.75321087e-02, -7.25043608e-15],\n",
       "       [ 1.92591907e-02,  1.75321087e-02,  0.00000000e+00, ...,\n",
       "        -1.80238313e-02, -7.40148683e-15,  1.75321087e-02],\n",
       "       ...,\n",
       "       [ 4.87423969e-03,  2.03827652e-02,  1.80238313e-02, ...,\n",
       "         0.00000000e+00,  1.80238313e-02,  2.03827652e-02],\n",
       "       [ 1.92591907e-02,  1.75321087e-02,  7.40148683e-15, ...,\n",
       "        -1.80238313e-02,  0.00000000e+00,  1.75321087e-02],\n",
       "       [ 1.70582734e-02,  7.25043608e-15, -1.75321087e-02, ...,\n",
       "        -2.03827652e-02, -1.75321087e-02,  0.00000000e+00]])"
      ]
     },
     "execution_count": 20,
     "metadata": {},
     "output_type": "execute_result"
    }
   ],
   "source": [
    "z"
   ]
  },
  {
   "cell_type": "code",
   "execution_count": 21,
   "metadata": {},
   "outputs": [
    {
     "data": {
      "image/png": "[encoded data removed]",
      "text/plain": [
       "<Figure size 432x288 with 1 Axes>"
      ]
     },
     "metadata": {
      "needs_background": "light"
     },
     "output_type": "display_data"
    }
   ],
   "source": [
    "h = plt.contourf(x,y,z)"
   ]
  },
  {
   "cell_type": "code",
   "execution_count": 14,
   "metadata": {},
   "outputs": [],
   "source": [
    "plt.show()"
   ]
  },
  {
   "cell_type": "code",
   "execution_count": 22,
   "metadata": {},
   "outputs": [],
   "source": [
    "z = np.linspace(-5, 5, 200)"
   ]
  },
  {
   "cell_type": "code",
   "execution_count": 23,
   "metadata": {},
   "outputs": [
    {
     "data": {
      "text/plain": [
       "array([-5.        , -4.94974874, -4.89949749, -4.84924623, -4.79899497,\n",
       "       -4.74874372, -4.69849246, -4.64824121, -4.59798995, -4.54773869,\n",
       "       -4.49748744, -4.44723618, -4.39698492, -4.34673367, -4.29648241,\n",
       "       -4.24623116, -4.1959799 , -4.14572864, -4.09547739, -4.04522613,\n",
       "       -3.99497487, -3.94472362, -3.89447236, -3.84422111, -3.79396985,\n",
       "       -3.74371859, -3.69346734, -3.64321608, -3.59296482, -3.54271357,\n",
       "       -3.49246231, -3.44221106, -3.3919598 , -3.34170854, -3.29145729,\n",
       "       -3.24120603, -3.19095477, -3.14070352, -3.09045226, -3.04020101,\n",
       "       -2.98994975, -2.93969849, -2.88944724, -2.83919598, -2.78894472,\n",
       "       -2.73869347, -2.68844221, -2.63819095, -2.5879397 , -2.53768844,\n",
       "       -2.48743719, -2.43718593, -2.38693467, -2.33668342, -2.28643216,\n",
       "       -2.2361809 , -2.18592965, -2.13567839, -2.08542714, -2.03517588,\n",
       "       -1.98492462, -1.93467337, -1.88442211, -1.83417085, -1.7839196 ,\n",
       "       -1.73366834, -1.68341709, -1.63316583, -1.58291457, -1.53266332,\n",
       "       -1.48241206, -1.4321608 , -1.38190955, -1.33165829, -1.28140704,\n",
       "       -1.23115578, -1.18090452, -1.13065327, -1.08040201, -1.03015075,\n",
       "       -0.9798995 , -0.92964824, -0.87939698, -0.82914573, -0.77889447,\n",
       "       -0.72864322, -0.67839196, -0.6281407 , -0.57788945, -0.52763819,\n",
       "       -0.47738693, -0.42713568, -0.37688442, -0.32663317, -0.27638191,\n",
       "       -0.22613065, -0.1758794 , -0.12562814, -0.07537688, -0.02512563,\n",
       "        0.02512563,  0.07537688,  0.12562814,  0.1758794 ,  0.22613065,\n",
       "        0.27638191,  0.32663317,  0.37688442,  0.42713568,  0.47738693,\n",
       "        0.52763819,  0.57788945,  0.6281407 ,  0.67839196,  0.72864322,\n",
       "        0.77889447,  0.82914573,  0.87939698,  0.92964824,  0.9798995 ,\n",
       "        1.03015075,  1.08040201,  1.13065327,  1.18090452,  1.23115578,\n",
       "        1.28140704,  1.33165829,  1.38190955,  1.4321608 ,  1.48241206,\n",
       "        1.53266332,  1.58291457,  1.63316583,  1.68341709,  1.73366834,\n",
       "        1.7839196 ,  1.83417085,  1.88442211,  1.93467337,  1.98492462,\n",
       "        2.03517588,  2.08542714,  2.13567839,  2.18592965,  2.2361809 ,\n",
       "        2.28643216,  2.33668342,  2.38693467,  2.43718593,  2.48743719,\n",
       "        2.53768844,  2.5879397 ,  2.63819095,  2.68844221,  2.73869347,\n",
       "        2.78894472,  2.83919598,  2.88944724,  2.93969849,  2.98994975,\n",
       "        3.04020101,  3.09045226,  3.14070352,  3.19095477,  3.24120603,\n",
       "        3.29145729,  3.34170854,  3.3919598 ,  3.44221106,  3.49246231,\n",
       "        3.54271357,  3.59296482,  3.64321608,  3.69346734,  3.74371859,\n",
       "        3.79396985,  3.84422111,  3.89447236,  3.94472362,  3.99497487,\n",
       "        4.04522613,  4.09547739,  4.14572864,  4.1959799 ,  4.24623116,\n",
       "        4.29648241,  4.34673367,  4.39698492,  4.44723618,  4.49748744,\n",
       "        4.54773869,  4.59798995,  4.64824121,  4.69849246,  4.74874372,\n",
       "        4.79899497,  4.84924623,  4.89949749,  4.94974874,  5.        ])"
      ]
     },
     "execution_count": 23,
     "metadata": {},
     "output_type": "execute_result"
    }
   ],
   "source": [
    "z"
   ]
  },
  {
   "cell_type": "code",
   "execution_count": null,
   "metadata": {},
   "outputs": [],
   "source": []
  }
 ],
 "metadata": {
  "kernelspec": {
   "display_name": "Python 3",
   "language": "python",
   "name": "python3"
  },
  "language_info": {
   "codemirror_mode": {
    "name": "ipython",
    "version": 3
   },
   "file_extension": ".py",
   "mimetype": "text/x-python",
   "name": "python",
   "nbconvert_exporter": "python",
   "pygments_lexer": "ipython3",
   "version": "3.7.5"
  }
 },
 "nbformat": 4,
 "nbformat_minor": 2
}
