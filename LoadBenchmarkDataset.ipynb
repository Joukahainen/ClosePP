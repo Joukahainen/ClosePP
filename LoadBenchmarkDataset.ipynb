{
 "cells": [
  {
   "cell_type": "markdown",
   "metadata": {},
   "source": [
    "# Loading data from \"Benchmark dataset\""
   ]
  },
  {
   "cell_type": "code",
   "execution_count": 1,
   "metadata": {
    "pycharm": {
     "is_executing": false
    }
   },
   "outputs": [],
   "source": [
    "import sys\n",
    "import sklearn\n",
    "import tensorflow as tf\n",
    "from tensorflow import keras\n",
    "import numpy as np\n",
    "import os\n",
    "import matplotlib as mpl\n",
    "import matplotlib.pyplot as plt\n"
   ]
  },
  {
   "cell_type": "code",
   "execution_count": 2,
   "metadata": {
    "pycharm": {
     "is_executing": false
    }
   },
   "outputs": [
    {
     "name": "stdout",
     "output_type": "stream",
     "text": [
      "/Users/arto/opt/anaconda3/envs/ds/bin/python\n"
     ]
    }
   ],
   "source": [
    "print(sys.executable)"
   ]
  },
  {
   "cell_type": "code",
   "execution_count": 3,
   "metadata": {
    "pycharm": {
     "is_executing": false
    }
   },
   "outputs": [],
   "source": [
    "%matplotlib inline\n",
    "import matplotlib as mpl\n",
    "import matplotlib.pyplot as plt"
   ]
  },
  {
   "cell_type": "code",
   "execution_count": 4,
   "metadata": {
    "pycharm": {
     "is_executing": false
    }
   },
   "outputs": [],
   "source": [
    "import pandas as pd"
   ]
  },
  {
   "cell_type": "code",
   "execution_count": 5,
   "metadata": {
    "pycharm": {
     "is_executing": false
    }
   },
   "outputs": [],
   "source": [
    "config = tf.compat.v1.ConfigProto()\n",
    "config.gpu_options.allow_growth = True\n",
    "sess = tf.compat.v1.Session(config=config)"
   ]
  },
  {
   "cell_type": "code",
   "execution_count": 6,
   "metadata": {
    "pycharm": {
     "is_executing": false
    }
   },
   "outputs": [],
   "source": [
    "PROJECT_ROOT_DIR = \"/Users/arto/Dropbox/Data\" #this is the working directory for the project"
   ]
  },
  {
   "cell_type": "code",
   "execution_count": 7,
   "metadata": {
    "pycharm": {
     "is_executing": false
    }
   },
   "outputs": [],
   "source": [
    "mpl.rc('axes', labelsize=14)\n",
    "mpl.rc('xtick', labelsize=12)\n",
    "mpl.rc('ytick', labelsize=12)"
   ]
  },
  {
   "cell_type": "code",
   "execution_count": 8,
   "metadata": {
    "pycharm": {
     "is_executing": false
    }
   },
   "outputs": [
    {
     "name": "stdout",
     "output_type": "stream",
     "text": [
      "/Users/arto/Dropbox/Data/BenchmarkDatasets/NoAuction/1.NoAuction_Zscore/NoAuction_Zscore_Training\n"
     ]
    }
   ],
   "source": [
    "cd /Users/arto/Dropbox/Data/BenchmarkDatasets/NoAuction/1.NoAuction_Zscore/NoAuction_Zscore_Training"
   ]
  },
  {
   "cell_type": "code",
   "execution_count": 9,
   "metadata": {
    "pycharm": {
     "is_executing": false
    }
   },
   "outputs": [
    {
     "name": "stdout",
     "output_type": "stream",
     "text": [
      "\u001b[34mTest\u001b[m\u001b[m/                                Train_Dst_NoAuction_ZScore_CF_5.txt\r\n",
      "Train_Dst_NoAuction_ZScore_CF_1.txt  Train_Dst_NoAuction_ZScore_CF_6.txt\r\n",
      "Train_Dst_NoAuction_ZScore_CF_2.txt  Train_Dst_NoAuction_ZScore_CF_7.txt\r\n",
      "Train_Dst_NoAuction_ZScore_CF_3.txt  Train_Dst_NoAuction_ZScore_CF_8.txt\r\n",
      "Train_Dst_NoAuction_ZScore_CF_4.txt  Train_Dst_NoAuction_ZScore_CF_9.txt\r\n"
     ]
    }
   ],
   "source": [
    "ls"
   ]
  },
  {
   "cell_type": "code",
   "execution_count": 10,
   "metadata": {
    "pycharm": {
     "is_executing": false
    }
   },
   "outputs": [],
   "source": [
    "dataset = pd.read_csv('Train_Dst_NoAuction_ZScore_CF_1.txt', delim_whitespace=True, header = None)"
   ]
  },
  {
   "cell_type": "markdown",
   "metadata": {},
   "source": [
    "### Comparison of auction vs. non-auction dataset"
   ]
  },
  {
   "cell_type": "code",
   "execution_count": 9,
   "metadata": {},
   "outputs": [],
   "source": [
    "dataset = pd.read_csv('Train_Dst_NoAuction_ZScore_CF_1.txt', delim_whitespace=True, header = None)"
   ]
  },
  {
   "cell_type": "code",
   "execution_count": null,
   "metadata": {},
   "outputs": [],
   "source": [
    "cd /Users/arto/Dropbox/Data/BenchmarkDatasets/NoAuction/1.NoAuction_Zscore/NoAuction_Zscore_Training"
   ]
  },
  {
   "cell_type": "code",
   "execution_count": 12,
   "metadata": {},
   "outputs": [
    {
     "name": "stdout",
     "output_type": "stream",
     "text": [
      "/Users/arto/Dropbox/Data/BenchmarkDatasets/Auction/1.Auction_Zscore/Auction_Zscore_Training\n"
     ]
    }
   ],
   "source": [
    "cd /Users/arto/Dropbox/Data/BenchmarkDatasets/Auction/1.Auction_Zscore/Auction_Zscore_Training"
   ]
  },
  {
   "cell_type": "code",
   "execution_count": 14,
   "metadata": {},
   "outputs": [],
   "source": [
    "datasetA = pd.read_csv('Train_Dst_Auction_ZScore_CF_1.txt', delim_whitespace=True, header = None)"
   ]
  },
  {
   "cell_type": "code",
   "execution_count": 16,
   "metadata": {},
   "outputs": [
    {
     "data": {
      "text/html": [
       "<div>\n",
       "<style scoped>\n",
       "    .dataframe tbody tr th:only-of-type {\n",
       "        vertical-align: middle;\n",
       "    }\n",
       "\n",
       "    .dataframe tbody tr th {\n",
       "        vertical-align: top;\n",
       "    }\n",
       "\n",
       "    .dataframe thead th {\n",
       "        text-align: right;\n",
       "    }\n",
       "</style>\n",
       "<table border=\"1\" class=\"dataframe\">\n",
       "  <thead>\n",
       "    <tr style=\"text-align: right;\">\n",
       "      <th></th>\n",
       "      <th>0</th>\n",
       "      <th>1</th>\n",
       "      <th>2</th>\n",
       "      <th>3</th>\n",
       "      <th>4</th>\n",
       "      <th>5</th>\n",
       "      <th>6</th>\n",
       "      <th>7</th>\n",
       "      <th>8</th>\n",
       "      <th>9</th>\n",
       "      <th>...</th>\n",
       "      <th>39502</th>\n",
       "      <th>39503</th>\n",
       "      <th>39504</th>\n",
       "      <th>39505</th>\n",
       "      <th>39506</th>\n",
       "      <th>39507</th>\n",
       "      <th>39508</th>\n",
       "      <th>39509</th>\n",
       "      <th>39510</th>\n",
       "      <th>39511</th>\n",
       "    </tr>\n",
       "  </thead>\n",
       "  <tbody>\n",
       "    <tr>\n",
       "      <th>0</th>\n",
       "      <td>0.408275</td>\n",
       "      <td>0.408275</td>\n",
       "      <td>0.407254</td>\n",
       "      <td>0.407254</td>\n",
       "      <td>0.407254</td>\n",
       "      <td>0.407254</td>\n",
       "      <td>0.407254</td>\n",
       "      <td>0.410317</td>\n",
       "      <td>0.410317</td>\n",
       "      <td>0.410317</td>\n",
       "      <td>...</td>\n",
       "      <td>1.308769</td>\n",
       "      <td>1.308769</td>\n",
       "      <td>1.309790</td>\n",
       "      <td>1.307748</td>\n",
       "      <td>1.307748</td>\n",
       "      <td>1.307748</td>\n",
       "      <td>1.307748</td>\n",
       "      <td>1.307748</td>\n",
       "      <td>1.307748</td>\n",
       "      <td>1.307748</td>\n",
       "    </tr>\n",
       "    <tr>\n",
       "      <th>1</th>\n",
       "      <td>-0.509405</td>\n",
       "      <td>-0.604272</td>\n",
       "      <td>-0.663731</td>\n",
       "      <td>-0.530115</td>\n",
       "      <td>-0.530115</td>\n",
       "      <td>-0.530115</td>\n",
       "      <td>-0.737220</td>\n",
       "      <td>-0.131941</td>\n",
       "      <td>-0.198749</td>\n",
       "      <td>-0.198749</td>\n",
       "      <td>...</td>\n",
       "      <td>-0.585566</td>\n",
       "      <td>-0.585566</td>\n",
       "      <td>-0.428568</td>\n",
       "      <td>-0.547485</td>\n",
       "      <td>-0.547485</td>\n",
       "      <td>-0.547485</td>\n",
       "      <td>-0.547485</td>\n",
       "      <td>-0.547485</td>\n",
       "      <td>-0.547485</td>\n",
       "      <td>-0.547485</td>\n",
       "    </tr>\n",
       "    <tr>\n",
       "      <th>2</th>\n",
       "      <td>0.403577</td>\n",
       "      <td>0.403577</td>\n",
       "      <td>0.403577</td>\n",
       "      <td>0.403577</td>\n",
       "      <td>0.403577</td>\n",
       "      <td>0.404600</td>\n",
       "      <td>0.404600</td>\n",
       "      <td>0.408691</td>\n",
       "      <td>0.408691</td>\n",
       "      <td>0.409714</td>\n",
       "      <td>...</td>\n",
       "      <td>1.308724</td>\n",
       "      <td>1.308724</td>\n",
       "      <td>1.311792</td>\n",
       "      <td>1.311792</td>\n",
       "      <td>1.311792</td>\n",
       "      <td>1.308724</td>\n",
       "      <td>1.308724</td>\n",
       "      <td>1.308724</td>\n",
       "      <td>1.307701</td>\n",
       "      <td>1.307701</td>\n",
       "    </tr>\n",
       "    <tr>\n",
       "      <th>3</th>\n",
       "      <td>-0.479331</td>\n",
       "      <td>-0.479331</td>\n",
       "      <td>-0.479331</td>\n",
       "      <td>-0.479331</td>\n",
       "      <td>-0.479331</td>\n",
       "      <td>-0.531439</td>\n",
       "      <td>-0.442366</td>\n",
       "      <td>-0.446374</td>\n",
       "      <td>-0.446374</td>\n",
       "      <td>-0.401837</td>\n",
       "      <td>...</td>\n",
       "      <td>-0.440584</td>\n",
       "      <td>-0.485121</td>\n",
       "      <td>-0.604925</td>\n",
       "      <td>-0.604925</td>\n",
       "      <td>-0.604925</td>\n",
       "      <td>-0.485121</td>\n",
       "      <td>-0.485121</td>\n",
       "      <td>-0.485121</td>\n",
       "      <td>-0.440584</td>\n",
       "      <td>-0.440584</td>\n",
       "    </tr>\n",
       "    <tr>\n",
       "      <th>4</th>\n",
       "      <td>0.409877</td>\n",
       "      <td>0.410898</td>\n",
       "      <td>0.406815</td>\n",
       "      <td>0.408857</td>\n",
       "      <td>0.408857</td>\n",
       "      <td>0.408857</td>\n",
       "      <td>0.407836</td>\n",
       "      <td>0.410898</td>\n",
       "      <td>0.409877</td>\n",
       "      <td>0.409877</td>\n",
       "      <td>...</td>\n",
       "      <td>1.308127</td>\n",
       "      <td>1.308127</td>\n",
       "      <td>1.309147</td>\n",
       "      <td>1.308127</td>\n",
       "      <td>1.307106</td>\n",
       "      <td>1.307106</td>\n",
       "      <td>1.307106</td>\n",
       "      <td>1.307106</td>\n",
       "      <td>1.307106</td>\n",
       "      <td>1.307106</td>\n",
       "    </tr>\n",
       "  </tbody>\n",
       "</table>\n",
       "<p>5 rows × 39512 columns</p>\n",
       "</div>"
      ],
      "text/plain": [
       "      0         1         2         3         4         5         6      \\\n",
       "0  0.408275  0.408275  0.407254  0.407254  0.407254  0.407254  0.407254   \n",
       "1 -0.509405 -0.604272 -0.663731 -0.530115 -0.530115 -0.530115 -0.737220   \n",
       "2  0.403577  0.403577  0.403577  0.403577  0.403577  0.404600  0.404600   \n",
       "3 -0.479331 -0.479331 -0.479331 -0.479331 -0.479331 -0.531439 -0.442366   \n",
       "4  0.409877  0.410898  0.406815  0.408857  0.408857  0.408857  0.407836   \n",
       "\n",
       "      7         8         9      ...     39502     39503     39504     39505  \\\n",
       "0  0.410317  0.410317  0.410317  ...  1.308769  1.308769  1.309790  1.307748   \n",
       "1 -0.131941 -0.198749 -0.198749  ... -0.585566 -0.585566 -0.428568 -0.547485   \n",
       "2  0.408691  0.408691  0.409714  ...  1.308724  1.308724  1.311792  1.311792   \n",
       "3 -0.446374 -0.446374 -0.401837  ... -0.440584 -0.485121 -0.604925 -0.604925   \n",
       "4  0.410898  0.409877  0.409877  ...  1.308127  1.308127  1.309147  1.308127   \n",
       "\n",
       "      39506     39507     39508     39509     39510     39511  \n",
       "0  1.307748  1.307748  1.307748  1.307748  1.307748  1.307748  \n",
       "1 -0.547485 -0.547485 -0.547485 -0.547485 -0.547485 -0.547485  \n",
       "2  1.311792  1.308724  1.308724  1.308724  1.307701  1.307701  \n",
       "3 -0.604925 -0.485121 -0.485121 -0.485121 -0.440584 -0.440584  \n",
       "4  1.307106  1.307106  1.307106  1.307106  1.307106  1.307106  \n",
       "\n",
       "[5 rows x 39512 columns]"
      ]
     },
     "execution_count": 16,
     "metadata": {},
     "output_type": "execute_result"
    }
   ],
   "source": [
    "dataset.head()"
   ]
  },
  {
   "cell_type": "code",
   "execution_count": 17,
   "metadata": {},
   "outputs": [
    {
     "data": {
      "text/html": [
       "<div>\n",
       "<style scoped>\n",
       "    .dataframe tbody tr th:only-of-type {\n",
       "        vertical-align: middle;\n",
       "    }\n",
       "\n",
       "    .dataframe tbody tr th {\n",
       "        vertical-align: top;\n",
       "    }\n",
       "\n",
       "    .dataframe thead th {\n",
       "        text-align: right;\n",
       "    }\n",
       "</style>\n",
       "<table border=\"1\" class=\"dataframe\">\n",
       "  <thead>\n",
       "    <tr style=\"text-align: right;\">\n",
       "      <th></th>\n",
       "      <th>0</th>\n",
       "      <th>1</th>\n",
       "      <th>2</th>\n",
       "      <th>3</th>\n",
       "      <th>4</th>\n",
       "      <th>5</th>\n",
       "      <th>6</th>\n",
       "      <th>7</th>\n",
       "      <th>8</th>\n",
       "      <th>9</th>\n",
       "      <th>...</th>\n",
       "      <th>47332</th>\n",
       "      <th>47333</th>\n",
       "      <th>47334</th>\n",
       "      <th>47335</th>\n",
       "      <th>47336</th>\n",
       "      <th>47337</th>\n",
       "      <th>47338</th>\n",
       "      <th>47339</th>\n",
       "      <th>47340</th>\n",
       "      <th>47341</th>\n",
       "    </tr>\n",
       "  </thead>\n",
       "  <tbody>\n",
       "    <tr>\n",
       "      <th>0</th>\n",
       "      <td>0.390233</td>\n",
       "      <td>0.404428</td>\n",
       "      <td>0.404428</td>\n",
       "      <td>0.404428</td>\n",
       "      <td>0.404428</td>\n",
       "      <td>0.408483</td>\n",
       "      <td>0.415581</td>\n",
       "      <td>0.415581</td>\n",
       "      <td>0.415581</td>\n",
       "      <td>0.415581</td>\n",
       "      <td>...</td>\n",
       "      <td>1.270325</td>\n",
       "      <td>1.270325</td>\n",
       "      <td>1.270325</td>\n",
       "      <td>1.270325</td>\n",
       "      <td>1.273367</td>\n",
       "      <td>1.273367</td>\n",
       "      <td>1.273367</td>\n",
       "      <td>1.273367</td>\n",
       "      <td>1.273367</td>\n",
       "      <td>1.273367</td>\n",
       "    </tr>\n",
       "    <tr>\n",
       "      <th>1</th>\n",
       "      <td>-0.450053</td>\n",
       "      <td>-0.675916</td>\n",
       "      <td>-0.675916</td>\n",
       "      <td>-0.675916</td>\n",
       "      <td>-0.675916</td>\n",
       "      <td>-0.631240</td>\n",
       "      <td>-0.675916</td>\n",
       "      <td>-0.675916</td>\n",
       "      <td>-0.675916</td>\n",
       "      <td>-0.675916</td>\n",
       "      <td>...</td>\n",
       "      <td>-0.686464</td>\n",
       "      <td>-0.686464</td>\n",
       "      <td>-0.686464</td>\n",
       "      <td>-0.686464</td>\n",
       "      <td>-0.072788</td>\n",
       "      <td>-0.072788</td>\n",
       "      <td>-0.072788</td>\n",
       "      <td>-0.072788</td>\n",
       "      <td>-0.072788</td>\n",
       "      <td>-0.072788</td>\n",
       "    </tr>\n",
       "    <tr>\n",
       "      <th>2</th>\n",
       "      <td>0.379217</td>\n",
       "      <td>0.394453</td>\n",
       "      <td>0.394453</td>\n",
       "      <td>0.394453</td>\n",
       "      <td>0.394453</td>\n",
       "      <td>0.394453</td>\n",
       "      <td>0.380233</td>\n",
       "      <td>0.380233</td>\n",
       "      <td>0.383280</td>\n",
       "      <td>0.380233</td>\n",
       "      <td>...</td>\n",
       "      <td>1.267952</td>\n",
       "      <td>1.267952</td>\n",
       "      <td>1.267952</td>\n",
       "      <td>1.267952</td>\n",
       "      <td>1.264905</td>\n",
       "      <td>1.264905</td>\n",
       "      <td>1.264905</td>\n",
       "      <td>1.264905</td>\n",
       "      <td>1.264905</td>\n",
       "      <td>1.264905</td>\n",
       "    </tr>\n",
       "    <tr>\n",
       "      <th>3</th>\n",
       "      <td>-0.306095</td>\n",
       "      <td>-0.524863</td>\n",
       "      <td>-0.524863</td>\n",
       "      <td>-0.524863</td>\n",
       "      <td>-0.524863</td>\n",
       "      <td>-0.524863</td>\n",
       "      <td>-0.361850</td>\n",
       "      <td>-0.341532</td>\n",
       "      <td>-0.409572</td>\n",
       "      <td>-0.097249</td>\n",
       "      <td>...</td>\n",
       "      <td>-0.099612</td>\n",
       "      <td>-0.099612</td>\n",
       "      <td>-0.099612</td>\n",
       "      <td>-0.099612</td>\n",
       "      <td>-0.146862</td>\n",
       "      <td>-0.146862</td>\n",
       "      <td>-0.146862</td>\n",
       "      <td>-0.146862</td>\n",
       "      <td>-0.146862</td>\n",
       "      <td>-0.146862</td>\n",
       "    </tr>\n",
       "    <tr>\n",
       "      <th>4</th>\n",
       "      <td>0.400832</td>\n",
       "      <td>0.421105</td>\n",
       "      <td>0.421105</td>\n",
       "      <td>0.421105</td>\n",
       "      <td>0.406914</td>\n",
       "      <td>0.421105</td>\n",
       "      <td>0.421105</td>\n",
       "      <td>0.421105</td>\n",
       "      <td>0.418064</td>\n",
       "      <td>0.418064</td>\n",
       "      <td>...</td>\n",
       "      <td>1.269548</td>\n",
       "      <td>1.269548</td>\n",
       "      <td>1.269548</td>\n",
       "      <td>1.269548</td>\n",
       "      <td>1.286780</td>\n",
       "      <td>1.286780</td>\n",
       "      <td>1.286780</td>\n",
       "      <td>1.286780</td>\n",
       "      <td>1.286780</td>\n",
       "      <td>1.286780</td>\n",
       "    </tr>\n",
       "  </tbody>\n",
       "</table>\n",
       "<p>5 rows × 47342 columns</p>\n",
       "</div>"
      ],
      "text/plain": [
       "      0         1         2         3         4         5         6      \\\n",
       "0  0.390233  0.404428  0.404428  0.404428  0.404428  0.408483  0.415581   \n",
       "1 -0.450053 -0.675916 -0.675916 -0.675916 -0.675916 -0.631240 -0.675916   \n",
       "2  0.379217  0.394453  0.394453  0.394453  0.394453  0.394453  0.380233   \n",
       "3 -0.306095 -0.524863 -0.524863 -0.524863 -0.524863 -0.524863 -0.361850   \n",
       "4  0.400832  0.421105  0.421105  0.421105  0.406914  0.421105  0.421105   \n",
       "\n",
       "      7         8         9      ...     47332     47333     47334     47335  \\\n",
       "0  0.415581  0.415581  0.415581  ...  1.270325  1.270325  1.270325  1.270325   \n",
       "1 -0.675916 -0.675916 -0.675916  ... -0.686464 -0.686464 -0.686464 -0.686464   \n",
       "2  0.380233  0.383280  0.380233  ...  1.267952  1.267952  1.267952  1.267952   \n",
       "3 -0.341532 -0.409572 -0.097249  ... -0.099612 -0.099612 -0.099612 -0.099612   \n",
       "4  0.421105  0.418064  0.418064  ...  1.269548  1.269548  1.269548  1.269548   \n",
       "\n",
       "      47336     47337     47338     47339     47340     47341  \n",
       "0  1.273367  1.273367  1.273367  1.273367  1.273367  1.273367  \n",
       "1 -0.072788 -0.072788 -0.072788 -0.072788 -0.072788 -0.072788  \n",
       "2  1.264905  1.264905  1.264905  1.264905  1.264905  1.264905  \n",
       "3 -0.146862 -0.146862 -0.146862 -0.146862 -0.146862 -0.146862  \n",
       "4  1.286780  1.286780  1.286780  1.286780  1.286780  1.286780  \n",
       "\n",
       "[5 rows x 47342 columns]"
      ]
     },
     "execution_count": 17,
     "metadata": {},
     "output_type": "execute_result"
    }
   ],
   "source": [
    "datasetA.head()"
   ]
  },
  {
   "cell_type": "code",
   "execution_count": 19,
   "metadata": {},
   "outputs": [
    {
     "data": {
      "text/html": [
       "<div>\n",
       "<style scoped>\n",
       "    .dataframe tbody tr th:only-of-type {\n",
       "        vertical-align: middle;\n",
       "    }\n",
       "\n",
       "    .dataframe tbody tr th {\n",
       "        vertical-align: top;\n",
       "    }\n",
       "\n",
       "    .dataframe thead th {\n",
       "        text-align: right;\n",
       "    }\n",
       "</style>\n",
       "<table border=\"1\" class=\"dataframe\">\n",
       "  <thead>\n",
       "    <tr style=\"text-align: right;\">\n",
       "      <th></th>\n",
       "      <th>count</th>\n",
       "      <th>mean</th>\n",
       "      <th>std</th>\n",
       "      <th>min</th>\n",
       "      <th>25%</th>\n",
       "      <th>50%</th>\n",
       "      <th>75%</th>\n",
       "      <th>max</th>\n",
       "    </tr>\n",
       "  </thead>\n",
       "  <tbody>\n",
       "    <tr>\n",
       "      <th>0</th>\n",
       "      <td>39512.0</td>\n",
       "      <td>-1.318586e-10</td>\n",
       "      <td>1.0</td>\n",
       "      <td>-0.983306</td>\n",
       "      <td>-0.970033</td>\n",
       "      <td>-0.51366</td>\n",
       "      <td>1.22505</td>\n",
       "      <td>1.330209</td>\n",
       "    </tr>\n",
       "  </tbody>\n",
       "</table>\n",
       "</div>"
      ],
      "text/plain": [
       "     count          mean  std       min       25%      50%      75%       max\n",
       "0  39512.0 -1.318586e-10  1.0 -0.983306 -0.970033 -0.51366  1.22505  1.330209"
      ]
     },
     "execution_count": 19,
     "metadata": {},
     "output_type": "execute_result"
    }
   ],
   "source": [
    "dataset.iloc[:1,:].apply(pd.DataFrame.describe, axis =1)"
   ]
  },
  {
   "cell_type": "code",
   "execution_count": 20,
   "metadata": {},
   "outputs": [
    {
     "data": {
      "text/html": [
       "<div>\n",
       "<style scoped>\n",
       "    .dataframe tbody tr th:only-of-type {\n",
       "        vertical-align: middle;\n",
       "    }\n",
       "\n",
       "    .dataframe tbody tr th {\n",
       "        vertical-align: top;\n",
       "    }\n",
       "\n",
       "    .dataframe thead th {\n",
       "        text-align: right;\n",
       "    }\n",
       "</style>\n",
       "<table border=\"1\" class=\"dataframe\">\n",
       "  <thead>\n",
       "    <tr style=\"text-align: right;\">\n",
       "      <th></th>\n",
       "      <th>count</th>\n",
       "      <th>mean</th>\n",
       "      <th>std</th>\n",
       "      <th>min</th>\n",
       "      <th>25%</th>\n",
       "      <th>50%</th>\n",
       "      <th>75%</th>\n",
       "      <th>max</th>\n",
       "    </tr>\n",
       "  </thead>\n",
       "  <tbody>\n",
       "    <tr>\n",
       "      <th>0</th>\n",
       "      <td>47342.0</td>\n",
       "      <td>-1.408897e-09</td>\n",
       "      <td>1.0</td>\n",
       "      <td>-1.10126</td>\n",
       "      <td>-0.990742</td>\n",
       "      <td>-0.5365</td>\n",
       "      <td>1.188196</td>\n",
       "      <td>1.289589</td>\n",
       "    </tr>\n",
       "  </tbody>\n",
       "</table>\n",
       "</div>"
      ],
      "text/plain": [
       "     count          mean  std      min       25%     50%       75%       max\n",
       "0  47342.0 -1.408897e-09  1.0 -1.10126 -0.990742 -0.5365  1.188196  1.289589"
      ]
     },
     "execution_count": 20,
     "metadata": {},
     "output_type": "execute_result"
    }
   ],
   "source": [
    "datasetA.iloc[:1,:].apply(pd.DataFrame.describe, axis =1)"
   ]
  },
  {
   "cell_type": "code",
   "execution_count": 21,
   "metadata": {},
   "outputs": [
    {
     "data": {
      "text/plain": [
       "[<matplotlib.lines.Line2D at 0xa3c324a50>,\n",
       " <matplotlib.lines.Line2D at 0xa3c358dd0>,\n",
       " <matplotlib.lines.Line2D at 0xa3c358850>,\n",
       " <matplotlib.lines.Line2D at 0xa3c358b10>,\n",
       " <matplotlib.lines.Line2D at 0xa3c358590>,\n",
       " <matplotlib.lines.Line2D at 0xa3c358390>,\n",
       " <matplotlib.lines.Line2D at 0xa3c339790>,\n",
       " <matplotlib.lines.Line2D at 0xa3c339cd0>,\n",
       " <matplotlib.lines.Line2D at 0xa3c358790>,\n",
       " <matplotlib.lines.Line2D at 0xa3c358310>,\n",
       " <matplotlib.lines.Line2D at 0xa3c307ed0>,\n",
       " <matplotlib.lines.Line2D at 0xa3c339990>,\n",
       " <matplotlib.lines.Line2D at 0xa3ada2690>,\n",
       " <matplotlib.lines.Line2D at 0xa3b620290>,\n",
       " <matplotlib.lines.Line2D at 0xa3b42b050>,\n",
       " <matplotlib.lines.Line2D at 0x10b3dc410>,\n",
       " <matplotlib.lines.Line2D at 0x10b3dca90>,\n",
       " <matplotlib.lines.Line2D at 0xa3b925bd0>,\n",
       " <matplotlib.lines.Line2D at 0xa3b925d90>,\n",
       " <matplotlib.lines.Line2D at 0xa3ada4550>,\n",
       " <matplotlib.lines.Line2D at 0xa3c332f90>,\n",
       " <matplotlib.lines.Line2D at 0xa3c332e50>,\n",
       " <matplotlib.lines.Line2D at 0xa3c332cd0>,\n",
       " <matplotlib.lines.Line2D at 0xa3c332890>,\n",
       " <matplotlib.lines.Line2D at 0xa3c332310>,\n",
       " <matplotlib.lines.Line2D at 0xa3c3325d0>,\n",
       " <matplotlib.lines.Line2D at 0xa3c332050>,\n",
       " <matplotlib.lines.Line2D at 0xa3c87d450>,\n",
       " <matplotlib.lines.Line2D at 0xa3c87df10>,\n",
       " <matplotlib.lines.Line2D at 0xa3c87db50>,\n",
       " <matplotlib.lines.Line2D at 0xa3c87d6d0>,\n",
       " <matplotlib.lines.Line2D at 0xa3c87d990>,\n",
       " <matplotlib.lines.Line2D at 0xa3c87d610>,\n",
       " <matplotlib.lines.Line2D at 0xa3c87d1d0>,\n",
       " <matplotlib.lines.Line2D at 0xa3c87de50>,\n",
       " <matplotlib.lines.Line2D at 0xa3c319e10>,\n",
       " <matplotlib.lines.Line2D at 0xa3c319d10>,\n",
       " <matplotlib.lines.Line2D at 0xa3c319d50>,\n",
       " <matplotlib.lines.Line2D at 0xa3c3199d0>,\n",
       " <matplotlib.lines.Line2D at 0xa3c319590>,\n",
       " <matplotlib.lines.Line2D at 0xa3c3193d0>,\n",
       " <matplotlib.lines.Line2D at 0xa3c3192d0>,\n",
       " <matplotlib.lines.Line2D at 0xa3b61ab10>,\n",
       " <matplotlib.lines.Line2D at 0xa3c884710>,\n",
       " <matplotlib.lines.Line2D at 0xa3c884190>,\n",
       " <matplotlib.lines.Line2D at 0xa3c884450>,\n",
       " <matplotlib.lines.Line2D at 0xa3c884510>,\n",
       " <matplotlib.lines.Line2D at 0xa3c884610>,\n",
       " <matplotlib.lines.Line2D at 0xa3c884b90>,\n",
       " <matplotlib.lines.Line2D at 0xa3c884d50>,\n",
       " <matplotlib.lines.Line2D at 0xa3c884f10>,\n",
       " <matplotlib.lines.Line2D at 0xa3c962110>,\n",
       " <matplotlib.lines.Line2D at 0xa3c9622d0>,\n",
       " <matplotlib.lines.Line2D at 0xa3c962490>,\n",
       " <matplotlib.lines.Line2D at 0xa3c962650>,\n",
       " <matplotlib.lines.Line2D at 0xa3c962810>,\n",
       " <matplotlib.lines.Line2D at 0xa3c9629d0>,\n",
       " <matplotlib.lines.Line2D at 0xa3c962b90>,\n",
       " <matplotlib.lines.Line2D at 0xa3c962d50>,\n",
       " <matplotlib.lines.Line2D at 0xa3c962f10>,\n",
       " <matplotlib.lines.Line2D at 0xa3c95b110>,\n",
       " <matplotlib.lines.Line2D at 0xa3c95b2d0>,\n",
       " <matplotlib.lines.Line2D at 0xa3c95b490>,\n",
       " <matplotlib.lines.Line2D at 0xa3c95b650>,\n",
       " <matplotlib.lines.Line2D at 0xa3c95b810>,\n",
       " <matplotlib.lines.Line2D at 0xa3c95b9d0>,\n",
       " <matplotlib.lines.Line2D at 0xa3c95bb90>,\n",
       " <matplotlib.lines.Line2D at 0xa3c95bd50>,\n",
       " <matplotlib.lines.Line2D at 0xa3c95bf10>,\n",
       " <matplotlib.lines.Line2D at 0xa3c956110>,\n",
       " <matplotlib.lines.Line2D at 0xa3c9562d0>,\n",
       " <matplotlib.lines.Line2D at 0xa3c956490>,\n",
       " <matplotlib.lines.Line2D at 0xa3c956650>,\n",
       " <matplotlib.lines.Line2D at 0xa3c956810>,\n",
       " <matplotlib.lines.Line2D at 0xa3c9569d0>,\n",
       " <matplotlib.lines.Line2D at 0xa3c956b90>,\n",
       " <matplotlib.lines.Line2D at 0xa3c956d50>,\n",
       " <matplotlib.lines.Line2D at 0xa3c956f10>,\n",
       " <matplotlib.lines.Line2D at 0xa3c950110>,\n",
       " <matplotlib.lines.Line2D at 0xa3c9502d0>,\n",
       " <matplotlib.lines.Line2D at 0xa3c950490>,\n",
       " <matplotlib.lines.Line2D at 0xa3c950650>,\n",
       " <matplotlib.lines.Line2D at 0xa3c950810>,\n",
       " <matplotlib.lines.Line2D at 0xa3c9509d0>,\n",
       " <matplotlib.lines.Line2D at 0xa3c950b90>,\n",
       " <matplotlib.lines.Line2D at 0xa3c950d50>,\n",
       " <matplotlib.lines.Line2D at 0xa3c950f10>,\n",
       " <matplotlib.lines.Line2D at 0xa3c949110>,\n",
       " <matplotlib.lines.Line2D at 0xa3c9492d0>,\n",
       " <matplotlib.lines.Line2D at 0xa3c949490>,\n",
       " <matplotlib.lines.Line2D at 0xa3c949650>,\n",
       " <matplotlib.lines.Line2D at 0xa3c949810>,\n",
       " <matplotlib.lines.Line2D at 0xa3c9499d0>,\n",
       " <matplotlib.lines.Line2D at 0xa3c949b90>,\n",
       " <matplotlib.lines.Line2D at 0xa3c949d50>,\n",
       " <matplotlib.lines.Line2D at 0xa3c949f10>,\n",
       " <matplotlib.lines.Line2D at 0xa3c943110>,\n",
       " <matplotlib.lines.Line2D at 0xa3c9432d0>,\n",
       " <matplotlib.lines.Line2D at 0xa3c943490>,\n",
       " <matplotlib.lines.Line2D at 0xa3c943650>,\n",
       " <matplotlib.lines.Line2D at 0xa3c943810>,\n",
       " <matplotlib.lines.Line2D at 0xa3c9439d0>,\n",
       " <matplotlib.lines.Line2D at 0xa3c943b90>,\n",
       " <matplotlib.lines.Line2D at 0xa3c943d50>,\n",
       " <matplotlib.lines.Line2D at 0xa3c943f10>,\n",
       " <matplotlib.lines.Line2D at 0xa3c93e110>,\n",
       " <matplotlib.lines.Line2D at 0xa3c93e2d0>,\n",
       " <matplotlib.lines.Line2D at 0xa3c93e490>,\n",
       " <matplotlib.lines.Line2D at 0xa3c93e650>,\n",
       " <matplotlib.lines.Line2D at 0xa3c93e810>,\n",
       " <matplotlib.lines.Line2D at 0xa3c93e9d0>,\n",
       " <matplotlib.lines.Line2D at 0xa3c93eb90>,\n",
       " <matplotlib.lines.Line2D at 0xa3c93ed50>,\n",
       " <matplotlib.lines.Line2D at 0xa3c93ef10>,\n",
       " <matplotlib.lines.Line2D at 0xa3c938110>,\n",
       " <matplotlib.lines.Line2D at 0xa3c9382d0>,\n",
       " <matplotlib.lines.Line2D at 0xa3c938490>,\n",
       " <matplotlib.lines.Line2D at 0xa3c938650>,\n",
       " <matplotlib.lines.Line2D at 0xa3c938810>,\n",
       " <matplotlib.lines.Line2D at 0xa3c9389d0>,\n",
       " <matplotlib.lines.Line2D at 0xa3c938b90>,\n",
       " <matplotlib.lines.Line2D at 0xa3c938d50>,\n",
       " <matplotlib.lines.Line2D at 0xa3c938f10>,\n",
       " <matplotlib.lines.Line2D at 0xa3c959110>,\n",
       " <matplotlib.lines.Line2D at 0xa3c9592d0>,\n",
       " <matplotlib.lines.Line2D at 0xa3c959490>,\n",
       " <matplotlib.lines.Line2D at 0xa3c959650>,\n",
       " <matplotlib.lines.Line2D at 0xa3c959810>,\n",
       " <matplotlib.lines.Line2D at 0xa3c9599d0>,\n",
       " <matplotlib.lines.Line2D at 0xa3c959b90>,\n",
       " <matplotlib.lines.Line2D at 0xa3c959d50>,\n",
       " <matplotlib.lines.Line2D at 0xa3c959f10>,\n",
       " <matplotlib.lines.Line2D at 0xa3c94b110>,\n",
       " <matplotlib.lines.Line2D at 0xa3c94b2d0>,\n",
       " <matplotlib.lines.Line2D at 0xa3c94b490>,\n",
       " <matplotlib.lines.Line2D at 0xa3c94b650>,\n",
       " <matplotlib.lines.Line2D at 0xa3c94b810>,\n",
       " <matplotlib.lines.Line2D at 0xa3c94b9d0>,\n",
       " <matplotlib.lines.Line2D at 0xa3c94bb90>,\n",
       " <matplotlib.lines.Line2D at 0xa3c94bd50>,\n",
       " <matplotlib.lines.Line2D at 0xa3c94bf10>,\n",
       " <matplotlib.lines.Line2D at 0xa3c939110>,\n",
       " <matplotlib.lines.Line2D at 0xa3c9392d0>,\n",
       " <matplotlib.lines.Line2D at 0xa3c939490>,\n",
       " <matplotlib.lines.Line2D at 0xa3c939650>,\n",
       " <matplotlib.lines.Line2D at 0xa3c939810>,\n",
       " <matplotlib.lines.Line2D at 0xa3c9399d0>,\n",
       " <matplotlib.lines.Line2D at 0xa3c939b90>,\n",
       " <matplotlib.lines.Line2D at 0xa3c939d50>,\n",
       " <matplotlib.lines.Line2D at 0xa3c939f10>,\n",
       " <matplotlib.lines.Line2D at 0xa3bcac110>,\n",
       " <matplotlib.lines.Line2D at 0xa3bcac2d0>,\n",
       " <matplotlib.lines.Line2D at 0xa3bcac490>,\n",
       " <matplotlib.lines.Line2D at 0xa3bcac650>,\n",
       " <matplotlib.lines.Line2D at 0xa3bcac810>,\n",
       " <matplotlib.lines.Line2D at 0xa3bcac9d0>,\n",
       " <matplotlib.lines.Line2D at 0xa3bcacb90>,\n",
       " <matplotlib.lines.Line2D at 0xa3bcacd50>,\n",
       " <matplotlib.lines.Line2D at 0xa3bcacf10>,\n",
       " <matplotlib.lines.Line2D at 0xa3bcb5110>,\n",
       " <matplotlib.lines.Line2D at 0xa3bcb52d0>,\n",
       " <matplotlib.lines.Line2D at 0xa3bcb5490>,\n",
       " <matplotlib.lines.Line2D at 0xa3bcb5650>,\n",
       " <matplotlib.lines.Line2D at 0xa3bcb5810>,\n",
       " <matplotlib.lines.Line2D at 0xa3bcb59d0>,\n",
       " <matplotlib.lines.Line2D at 0xa3bcb5b90>,\n",
       " <matplotlib.lines.Line2D at 0xa3bcb5d50>,\n",
       " <matplotlib.lines.Line2D at 0xa3bcb5f10>,\n",
       " <matplotlib.lines.Line2D at 0xa3bcbe110>,\n",
       " <matplotlib.lines.Line2D at 0xa3bcbe2d0>,\n",
       " <matplotlib.lines.Line2D at 0xa3bcbe490>,\n",
       " <matplotlib.lines.Line2D at 0xa3bcbe650>,\n",
       " <matplotlib.lines.Line2D at 0xa3bcbe810>,\n",
       " <matplotlib.lines.Line2D at 0xa3bcbe9d0>,\n",
       " <matplotlib.lines.Line2D at 0xa3bcbeb90>,\n",
       " <matplotlib.lines.Line2D at 0xa3bcbed50>,\n",
       " <matplotlib.lines.Line2D at 0xa3bcbef10>,\n",
       " <matplotlib.lines.Line2D at 0xa3bcc7110>,\n",
       " <matplotlib.lines.Line2D at 0xa3bcc72d0>,\n",
       " <matplotlib.lines.Line2D at 0xa3bcc7490>,\n",
       " <matplotlib.lines.Line2D at 0xa3bcc7650>,\n",
       " <matplotlib.lines.Line2D at 0xa3bcc7810>,\n",
       " <matplotlib.lines.Line2D at 0xa3bcc79d0>,\n",
       " <matplotlib.lines.Line2D at 0xa3bcc7b90>,\n",
       " <matplotlib.lines.Line2D at 0xa3bcc7d50>,\n",
       " <matplotlib.lines.Line2D at 0xa3bcc7f10>,\n",
       " <matplotlib.lines.Line2D at 0xa3bcd1110>,\n",
       " <matplotlib.lines.Line2D at 0xa3bcd12d0>,\n",
       " <matplotlib.lines.Line2D at 0xa3bcd1490>,\n",
       " <matplotlib.lines.Line2D at 0xa3bcd1650>,\n",
       " <matplotlib.lines.Line2D at 0xa3bcd1810>,\n",
       " <matplotlib.lines.Line2D at 0xa3bcd19d0>,\n",
       " <matplotlib.lines.Line2D at 0xa3bcd1b90>,\n",
       " <matplotlib.lines.Line2D at 0xa3bcd1d50>,\n",
       " <matplotlib.lines.Line2D at 0xa3bcd1f10>,\n",
       " <matplotlib.lines.Line2D at 0xa3bcda110>,\n",
       " <matplotlib.lines.Line2D at 0xa3bcda2d0>,\n",
       " <matplotlib.lines.Line2D at 0xa3bcda490>,\n",
       " <matplotlib.lines.Line2D at 0xa3bcda650>,\n",
       " <matplotlib.lines.Line2D at 0xa3bcda810>,\n",
       " <matplotlib.lines.Line2D at 0xa3bcda9d0>,\n",
       " <matplotlib.lines.Line2D at 0xa3bcdab90>,\n",
       " <matplotlib.lines.Line2D at 0xa3bcdad50>,\n",
       " <matplotlib.lines.Line2D at 0xa3bcdaf10>,\n",
       " <matplotlib.lines.Line2D at 0xa3bcde110>,\n",
       " <matplotlib.lines.Line2D at 0xa3bcde2d0>,\n",
       " <matplotlib.lines.Line2D at 0xa3bcde490>,\n",
       " <matplotlib.lines.Line2D at 0xa3bcde650>,\n",
       " <matplotlib.lines.Line2D at 0xa3bcde810>,\n",
       " <matplotlib.lines.Line2D at 0xa3bcde9d0>,\n",
       " <matplotlib.lines.Line2D at 0xa3bcdeb90>,\n",
       " <matplotlib.lines.Line2D at 0xa3bcded50>,\n",
       " <matplotlib.lines.Line2D at 0xa3bcdef10>,\n",
       " <matplotlib.lines.Line2D at 0xa3bce2110>,\n",
       " <matplotlib.lines.Line2D at 0xa3bce22d0>,\n",
       " <matplotlib.lines.Line2D at 0xa3bce2490>,\n",
       " <matplotlib.lines.Line2D at 0xa3bce2650>,\n",
       " <matplotlib.lines.Line2D at 0xa3bce2810>,\n",
       " <matplotlib.lines.Line2D at 0xa3bce29d0>,\n",
       " <matplotlib.lines.Line2D at 0xa3bce2b90>,\n",
       " <matplotlib.lines.Line2D at 0xa3bce2d50>,\n",
       " <matplotlib.lines.Line2D at 0xa3bce2f10>,\n",
       " <matplotlib.lines.Line2D at 0xa3bccf110>,\n",
       " <matplotlib.lines.Line2D at 0xa3bccf2d0>,\n",
       " <matplotlib.lines.Line2D at 0xa3bccf490>,\n",
       " <matplotlib.lines.Line2D at 0xa3bccf650>,\n",
       " <matplotlib.lines.Line2D at 0xa3bccf810>,\n",
       " <matplotlib.lines.Line2D at 0xa3bccf9d0>,\n",
       " <matplotlib.lines.Line2D at 0xa3bccfb90>,\n",
       " <matplotlib.lines.Line2D at 0xa3bccfd50>,\n",
       " <matplotlib.lines.Line2D at 0xa3bccff10>,\n",
       " <matplotlib.lines.Line2D at 0xa3bcc6110>,\n",
       " <matplotlib.lines.Line2D at 0xa3bcc62d0>,\n",
       " <matplotlib.lines.Line2D at 0xa3bcc6490>,\n",
       " <matplotlib.lines.Line2D at 0xa3bcc6650>,\n",
       " <matplotlib.lines.Line2D at 0xa3bcc6810>,\n",
       " <matplotlib.lines.Line2D at 0xa3bcc69d0>,\n",
       " <matplotlib.lines.Line2D at 0xa3bcc6b90>,\n",
       " <matplotlib.lines.Line2D at 0xa3bcc6d50>,\n",
       " <matplotlib.lines.Line2D at 0xa3bcc6f10>,\n",
       " <matplotlib.lines.Line2D at 0xa3bcbd110>,\n",
       " <matplotlib.lines.Line2D at 0xa3bcbd2d0>,\n",
       " <matplotlib.lines.Line2D at 0xa3bcbd490>,\n",
       " <matplotlib.lines.Line2D at 0xa3bcbd650>,\n",
       " <matplotlib.lines.Line2D at 0xa3bcbd810>,\n",
       " <matplotlib.lines.Line2D at 0xa3bcbd9d0>,\n",
       " <matplotlib.lines.Line2D at 0xa3bcbdb90>,\n",
       " <matplotlib.lines.Line2D at 0xa3bcbdd50>,\n",
       " <matplotlib.lines.Line2D at 0xa3bcbdf10>,\n",
       " <matplotlib.lines.Line2D at 0xa3bcb6110>,\n",
       " <matplotlib.lines.Line2D at 0xa3bcb62d0>,\n",
       " <matplotlib.lines.Line2D at 0xa3bcb6490>,\n",
       " <matplotlib.lines.Line2D at 0xa3bcb6650>,\n",
       " <matplotlib.lines.Line2D at 0xa3bcb6810>,\n",
       " <matplotlib.lines.Line2D at 0xa3bcb69d0>,\n",
       " <matplotlib.lines.Line2D at 0xa3bcb6b90>,\n",
       " <matplotlib.lines.Line2D at 0xa3bcb6d50>,\n",
       " <matplotlib.lines.Line2D at 0xa3bcb6f10>,\n",
       " <matplotlib.lines.Line2D at 0xa3bcae110>,\n",
       " <matplotlib.lines.Line2D at 0xa3bcae2d0>,\n",
       " <matplotlib.lines.Line2D at 0xa3bcae490>,\n",
       " <matplotlib.lines.Line2D at 0xa3bcae650>,\n",
       " <matplotlib.lines.Line2D at 0xa3bcae810>,\n",
       " <matplotlib.lines.Line2D at 0xa3bcae9d0>,\n",
       " <matplotlib.lines.Line2D at 0xa3bcaeb90>,\n",
       " <matplotlib.lines.Line2D at 0xa3bcaed50>,\n",
       " <matplotlib.lines.Line2D at 0xa3bcaef10>,\n",
       " <matplotlib.lines.Line2D at 0xa3bca7110>,\n",
       " <matplotlib.lines.Line2D at 0xa3bca72d0>,\n",
       " <matplotlib.lines.Line2D at 0xa3bca7490>,\n",
       " <matplotlib.lines.Line2D at 0xa3bca7650>,\n",
       " <matplotlib.lines.Line2D at 0xa3bca7810>,\n",
       " <matplotlib.lines.Line2D at 0xa3bca79d0>,\n",
       " <matplotlib.lines.Line2D at 0xa3bca7b90>,\n",
       " <matplotlib.lines.Line2D at 0xa3bca7d50>,\n",
       " <matplotlib.lines.Line2D at 0xa3bca7f10>,\n",
       " <matplotlib.lines.Line2D at 0xa42d18110>,\n",
       " <matplotlib.lines.Line2D at 0xa42d182d0>,\n",
       " <matplotlib.lines.Line2D at 0xa42d18490>,\n",
       " <matplotlib.lines.Line2D at 0xa42d18650>,\n",
       " <matplotlib.lines.Line2D at 0xa42d18810>,\n",
       " <matplotlib.lines.Line2D at 0xa42d189d0>,\n",
       " <matplotlib.lines.Line2D at 0xa42d18b90>,\n",
       " <matplotlib.lines.Line2D at 0xa42d18d50>,\n",
       " <matplotlib.lines.Line2D at 0xa42d18f10>,\n",
       " <matplotlib.lines.Line2D at 0xa42d12110>,\n",
       " <matplotlib.lines.Line2D at 0xa42d122d0>,\n",
       " <matplotlib.lines.Line2D at 0xa42d12490>,\n",
       " <matplotlib.lines.Line2D at 0xa42d12650>,\n",
       " <matplotlib.lines.Line2D at 0xa42d12810>,\n",
       " <matplotlib.lines.Line2D at 0xa42d129d0>,\n",
       " <matplotlib.lines.Line2D at 0xa42d12b90>,\n",
       " <matplotlib.lines.Line2D at 0xa42d12d50>,\n",
       " <matplotlib.lines.Line2D at 0xa42d12f10>,\n",
       " <matplotlib.lines.Line2D at 0xa42d10110>,\n",
       " <matplotlib.lines.Line2D at 0xa42d102d0>,\n",
       " <matplotlib.lines.Line2D at 0xa42d10490>,\n",
       " <matplotlib.lines.Line2D at 0xa42d10650>,\n",
       " <matplotlib.lines.Line2D at 0xa42d10810>,\n",
       " <matplotlib.lines.Line2D at 0xa42d109d0>,\n",
       " <matplotlib.lines.Line2D at 0xa42d10b90>,\n",
       " <matplotlib.lines.Line2D at 0xa42d10d50>,\n",
       " <matplotlib.lines.Line2D at 0xa42d10f10>,\n",
       " <matplotlib.lines.Line2D at 0xa42d0c110>,\n",
       " <matplotlib.lines.Line2D at 0xa42d0c2d0>,\n",
       " <matplotlib.lines.Line2D at 0xa42d0c490>,\n",
       " <matplotlib.lines.Line2D at 0xa42d0c650>,\n",
       " <matplotlib.lines.Line2D at 0xa42d0c810>,\n",
       " <matplotlib.lines.Line2D at 0xa42d0c9d0>,\n",
       " <matplotlib.lines.Line2D at 0xa42d0cb90>,\n",
       " <matplotlib.lines.Line2D at 0xa42d0cd50>,\n",
       " <matplotlib.lines.Line2D at 0xa42d0cf10>,\n",
       " <matplotlib.lines.Line2D at 0xa42d07110>,\n",
       " <matplotlib.lines.Line2D at 0xa42d072d0>,\n",
       " <matplotlib.lines.Line2D at 0xa42d07490>,\n",
       " <matplotlib.lines.Line2D at 0xa42d07650>,\n",
       " <matplotlib.lines.Line2D at 0xa42d07810>,\n",
       " <matplotlib.lines.Line2D at 0xa42d079d0>,\n",
       " <matplotlib.lines.Line2D at 0xa42d07b90>,\n",
       " <matplotlib.lines.Line2D at 0xa42d07d50>,\n",
       " <matplotlib.lines.Line2D at 0xa42d07f10>,\n",
       " <matplotlib.lines.Line2D at 0xa42d00110>,\n",
       " <matplotlib.lines.Line2D at 0xa42d002d0>,\n",
       " <matplotlib.lines.Line2D at 0xa42d00490>,\n",
       " <matplotlib.lines.Line2D at 0xa42d00650>,\n",
       " <matplotlib.lines.Line2D at 0xa42d00810>,\n",
       " <matplotlib.lines.Line2D at 0xa42d009d0>,\n",
       " <matplotlib.lines.Line2D at 0xa42d00b90>,\n",
       " <matplotlib.lines.Line2D at 0xa42d00d50>,\n",
       " <matplotlib.lines.Line2D at 0xa42d00f10>,\n",
       " <matplotlib.lines.Line2D at 0xa42cfd110>,\n",
       " <matplotlib.lines.Line2D at 0xa42cfd2d0>,\n",
       " <matplotlib.lines.Line2D at 0xa42cfd490>,\n",
       " <matplotlib.lines.Line2D at 0xa42cfd650>,\n",
       " <matplotlib.lines.Line2D at 0xa42cfd810>,\n",
       " <matplotlib.lines.Line2D at 0xa42cfd9d0>,\n",
       " <matplotlib.lines.Line2D at 0xa42cfdb90>,\n",
       " <matplotlib.lines.Line2D at 0xa42cfdd50>,\n",
       " <matplotlib.lines.Line2D at 0xa42cfdf10>,\n",
       " <matplotlib.lines.Line2D at 0xa42cfb110>,\n",
       " <matplotlib.lines.Line2D at 0xa42cfb2d0>,\n",
       " <matplotlib.lines.Line2D at 0xa42cfb490>,\n",
       " <matplotlib.lines.Line2D at 0xa42cfb650>,\n",
       " <matplotlib.lines.Line2D at 0xa42cfb810>,\n",
       " <matplotlib.lines.Line2D at 0xa42cfb9d0>,\n",
       " <matplotlib.lines.Line2D at 0xa42cfbb90>,\n",
       " <matplotlib.lines.Line2D at 0xa42cfbd50>,\n",
       " <matplotlib.lines.Line2D at 0xa42cfbf10>,\n",
       " <matplotlib.lines.Line2D at 0xa42cf5110>,\n",
       " <matplotlib.lines.Line2D at 0xa42cf52d0>,\n",
       " <matplotlib.lines.Line2D at 0xa42cf5490>,\n",
       " <matplotlib.lines.Line2D at 0xa42cf5650>,\n",
       " <matplotlib.lines.Line2D at 0xa42cf5810>,\n",
       " <matplotlib.lines.Line2D at 0xa42cf59d0>,\n",
       " <matplotlib.lines.Line2D at 0xa42cf5b90>,\n",
       " <matplotlib.lines.Line2D at 0xa42cf5d50>,\n",
       " <matplotlib.lines.Line2D at 0xa42cf5f10>,\n",
       " <matplotlib.lines.Line2D at 0xa42cf3110>,\n",
       " <matplotlib.lines.Line2D at 0xa42cf32d0>,\n",
       " <matplotlib.lines.Line2D at 0xa42cf3490>,\n",
       " <matplotlib.lines.Line2D at 0xa42cf3650>,\n",
       " <matplotlib.lines.Line2D at 0xa42cf3810>,\n",
       " <matplotlib.lines.Line2D at 0xa42cf39d0>,\n",
       " <matplotlib.lines.Line2D at 0xa42cf3b90>,\n",
       " <matplotlib.lines.Line2D at 0xa42cf3d50>,\n",
       " <matplotlib.lines.Line2D at 0xa42cf3f10>,\n",
       " <matplotlib.lines.Line2D at 0xa42d1d110>,\n",
       " <matplotlib.lines.Line2D at 0xa42d1d2d0>,\n",
       " <matplotlib.lines.Line2D at 0xa42d1d490>,\n",
       " <matplotlib.lines.Line2D at 0xa42d1d650>,\n",
       " <matplotlib.lines.Line2D at 0xa42d1d810>,\n",
       " <matplotlib.lines.Line2D at 0xa42d1d9d0>,\n",
       " <matplotlib.lines.Line2D at 0xa42d1db90>,\n",
       " <matplotlib.lines.Line2D at 0xa42d1dd50>,\n",
       " <matplotlib.lines.Line2D at 0xa42d1df10>,\n",
       " <matplotlib.lines.Line2D at 0xa42d21110>,\n",
       " <matplotlib.lines.Line2D at 0xa42d212d0>,\n",
       " <matplotlib.lines.Line2D at 0xa42d21490>,\n",
       " <matplotlib.lines.Line2D at 0xa42d21650>,\n",
       " <matplotlib.lines.Line2D at 0xa42d21810>,\n",
       " <matplotlib.lines.Line2D at 0xa42d219d0>,\n",
       " <matplotlib.lines.Line2D at 0xa42d21b90>,\n",
       " <matplotlib.lines.Line2D at 0xa42d21d50>,\n",
       " <matplotlib.lines.Line2D at 0xa42d21f10>,\n",
       " <matplotlib.lines.Line2D at 0xa42d25110>,\n",
       " <matplotlib.lines.Line2D at 0xa42d252d0>,\n",
       " <matplotlib.lines.Line2D at 0xa42d25490>,\n",
       " <matplotlib.lines.Line2D at 0xa42d25650>,\n",
       " <matplotlib.lines.Line2D at 0xa42d25810>,\n",
       " <matplotlib.lines.Line2D at 0xa42d259d0>,\n",
       " <matplotlib.lines.Line2D at 0xa42d25b90>,\n",
       " <matplotlib.lines.Line2D at 0xa42d25d50>,\n",
       " <matplotlib.lines.Line2D at 0xa42d25f10>,\n",
       " <matplotlib.lines.Line2D at 0xa42d29110>,\n",
       " <matplotlib.lines.Line2D at 0xa42d292d0>,\n",
       " <matplotlib.lines.Line2D at 0xa42d29490>,\n",
       " <matplotlib.lines.Line2D at 0xa42d29650>,\n",
       " <matplotlib.lines.Line2D at 0xa42d29810>,\n",
       " <matplotlib.lines.Line2D at 0xa42d299d0>,\n",
       " <matplotlib.lines.Line2D at 0xa42d29b90>,\n",
       " <matplotlib.lines.Line2D at 0xa42d29d50>,\n",
       " <matplotlib.lines.Line2D at 0xa42d29f10>,\n",
       " <matplotlib.lines.Line2D at 0xa42d2f110>,\n",
       " <matplotlib.lines.Line2D at 0xa42d2f2d0>,\n",
       " <matplotlib.lines.Line2D at 0xa42d2f490>,\n",
       " <matplotlib.lines.Line2D at 0xa42d2f650>,\n",
       " <matplotlib.lines.Line2D at 0xa42d2f810>,\n",
       " <matplotlib.lines.Line2D at 0xa42d2f9d0>,\n",
       " <matplotlib.lines.Line2D at 0xa42d2fb90>,\n",
       " <matplotlib.lines.Line2D at 0xa42d2fd50>,\n",
       " <matplotlib.lines.Line2D at 0xa42d2ff10>,\n",
       " <matplotlib.lines.Line2D at 0xa3d331110>,\n",
       " <matplotlib.lines.Line2D at 0xa3d3312d0>,\n",
       " <matplotlib.lines.Line2D at 0xa3d331490>,\n",
       " <matplotlib.lines.Line2D at 0xa3b9e2f10>,\n",
       " <matplotlib.lines.Line2D at 0x10939f150>,\n",
       " <matplotlib.lines.Line2D at 0x10b3dc710>,\n",
       " <matplotlib.lines.Line2D at 0xa3c358750>,\n",
       " <matplotlib.lines.Line2D at 0xa3c36f1d0>,\n",
       " <matplotlib.lines.Line2D at 0xa3c36fc50>,\n",
       " <matplotlib.lines.Line2D at 0xa3c373710>,\n",
       " <matplotlib.lines.Line2D at 0xa3c2f91d0>,\n",
       " <matplotlib.lines.Line2D at 0xa3c2f9c50>,\n",
       " <matplotlib.lines.Line2D at 0xa3c2fc710>,\n",
       " <matplotlib.lines.Line2D at 0xa3c3041d0>,\n",
       " <matplotlib.lines.Line2D at 0xa3c304c50>,\n",
       " <matplotlib.lines.Line2D at 0xa3c307710>,\n",
       " <matplotlib.lines.Line2D at 0xa3c30c1d0>,\n",
       " <matplotlib.lines.Line2D at 0xa3c30cc50>,\n",
       " <matplotlib.lines.Line2D at 0xa3c311710>,\n",
       " <matplotlib.lines.Line2D at 0xa3c3191d0>,\n",
       " <matplotlib.lines.Line2D at 0xa3c319c50>,\n",
       " <matplotlib.lines.Line2D at 0xa3d331710>,\n",
       " <matplotlib.lines.Line2D at 0xa3d331890>,\n",
       " <matplotlib.lines.Line2D at 0xa3d331a50>,\n",
       " <matplotlib.lines.Line2D at 0xa3d331c10>,\n",
       " <matplotlib.lines.Line2D at 0xa3d331dd0>,\n",
       " <matplotlib.lines.Line2D at 0xa3d331f90>,\n",
       " <matplotlib.lines.Line2D at 0xa3c328190>,\n",
       " <matplotlib.lines.Line2D at 0xa3c328350>,\n",
       " <matplotlib.lines.Line2D at 0xa3c328510>,\n",
       " <matplotlib.lines.Line2D at 0xa3c3286d0>,\n",
       " <matplotlib.lines.Line2D at 0xa3c328890>,\n",
       " <matplotlib.lines.Line2D at 0xa3c328a50>,\n",
       " <matplotlib.lines.Line2D at 0xa3c328c10>,\n",
       " <matplotlib.lines.Line2D at 0xa3c328dd0>,\n",
       " <matplotlib.lines.Line2D at 0xa3c328f90>,\n",
       " <matplotlib.lines.Line2D at 0xa3c321190>,\n",
       " <matplotlib.lines.Line2D at 0xa3c321350>,\n",
       " <matplotlib.lines.Line2D at 0xa3c321510>,\n",
       " <matplotlib.lines.Line2D at 0xa3c3216d0>,\n",
       " <matplotlib.lines.Line2D at 0xa3c321890>,\n",
       " <matplotlib.lines.Line2D at 0xa3c321a50>,\n",
       " <matplotlib.lines.Line2D at 0xa3c321c10>,\n",
       " <matplotlib.lines.Line2D at 0xa3c321dd0>,\n",
       " <matplotlib.lines.Line2D at 0xa3c321f90>,\n",
       " <matplotlib.lines.Line2D at 0xa3c318190>,\n",
       " <matplotlib.lines.Line2D at 0xa3c318350>,\n",
       " <matplotlib.lines.Line2D at 0xa3c318510>,\n",
       " <matplotlib.lines.Line2D at 0xa3c3186d0>,\n",
       " <matplotlib.lines.Line2D at 0xa3c318890>,\n",
       " <matplotlib.lines.Line2D at 0xa3c318a50>,\n",
       " <matplotlib.lines.Line2D at 0xa3c318c10>,\n",
       " <matplotlib.lines.Line2D at 0xa3c318dd0>,\n",
       " <matplotlib.lines.Line2D at 0xa3c318f90>,\n",
       " <matplotlib.lines.Line2D at 0xa3c355190>,\n",
       " <matplotlib.lines.Line2D at 0xa3c355350>,\n",
       " <matplotlib.lines.Line2D at 0xa3c355510>,\n",
       " <matplotlib.lines.Line2D at 0xa3c3556d0>,\n",
       " <matplotlib.lines.Line2D at 0xa3c355890>,\n",
       " <matplotlib.lines.Line2D at 0xa3c355a50>,\n",
       " <matplotlib.lines.Line2D at 0xa3c355c10>,\n",
       " <matplotlib.lines.Line2D at 0xa3c355dd0>,\n",
       " <matplotlib.lines.Line2D at 0xa3c355f90>,\n",
       " <matplotlib.lines.Line2D at 0xa3c34e190>,\n",
       " <matplotlib.lines.Line2D at 0xa3c34e350>,\n",
       " <matplotlib.lines.Line2D at 0xa3c34e510>,\n",
       " <matplotlib.lines.Line2D at 0xa3c34e6d0>,\n",
       " <matplotlib.lines.Line2D at 0xa3c34e890>,\n",
       " <matplotlib.lines.Line2D at 0xa3c34ea50>,\n",
       " <matplotlib.lines.Line2D at 0xa3c34ec10>,\n",
       " <matplotlib.lines.Line2D at 0xa3c34edd0>,\n",
       " <matplotlib.lines.Line2D at 0xa3c34ef90>,\n",
       " <matplotlib.lines.Line2D at 0xa3c345190>,\n",
       " <matplotlib.lines.Line2D at 0xa3c345350>,\n",
       " <matplotlib.lines.Line2D at 0xa3c345510>,\n",
       " <matplotlib.lines.Line2D at 0xa3c3456d0>,\n",
       " <matplotlib.lines.Line2D at 0xa3c345890>,\n",
       " <matplotlib.lines.Line2D at 0xa3c345a50>,\n",
       " <matplotlib.lines.Line2D at 0xa3c345c10>,\n",
       " <matplotlib.lines.Line2D at 0xa3c345dd0>,\n",
       " <matplotlib.lines.Line2D at 0xa3c345f90>,\n",
       " <matplotlib.lines.Line2D at 0xa3c33e190>,\n",
       " <matplotlib.lines.Line2D at 0xa3c33e350>,\n",
       " <matplotlib.lines.Line2D at 0xa3c33e510>,\n",
       " <matplotlib.lines.Line2D at 0xa3c33e6d0>,\n",
       " <matplotlib.lines.Line2D at 0xa3c33e890>,\n",
       " <matplotlib.lines.Line2D at 0xa3c33ea50>,\n",
       " <matplotlib.lines.Line2D at 0xa3c33ec10>,\n",
       " <matplotlib.lines.Line2D at 0xa3c33edd0>,\n",
       " <matplotlib.lines.Line2D at 0xa3c33ef90>,\n",
       " <matplotlib.lines.Line2D at 0xa3c337190>,\n",
       " <matplotlib.lines.Line2D at 0xa3c337350>,\n",
       " <matplotlib.lines.Line2D at 0xa3c337510>,\n",
       " <matplotlib.lines.Line2D at 0xa3c3376d0>,\n",
       " <matplotlib.lines.Line2D at 0xa3c337890>,\n",
       " <matplotlib.lines.Line2D at 0xa3c337a50>,\n",
       " <matplotlib.lines.Line2D at 0xa3c337c10>,\n",
       " <matplotlib.lines.Line2D at 0xa3c337dd0>,\n",
       " <matplotlib.lines.Line2D at 0xa3c337f90>,\n",
       " <matplotlib.lines.Line2D at 0xa40ca4190>,\n",
       " <matplotlib.lines.Line2D at 0xa40ca4350>,\n",
       " <matplotlib.lines.Line2D at 0xa40ca4510>,\n",
       " <matplotlib.lines.Line2D at 0xa40ca46d0>,\n",
       " <matplotlib.lines.Line2D at 0xa40ca4890>,\n",
       " <matplotlib.lines.Line2D at 0xa40ca4a50>,\n",
       " <matplotlib.lines.Line2D at 0xa40ca4c10>,\n",
       " <matplotlib.lines.Line2D at 0xa40ca4dd0>,\n",
       " <matplotlib.lines.Line2D at 0xa40ca4f90>,\n",
       " <matplotlib.lines.Line2D at 0xa40ca0190>,\n",
       " <matplotlib.lines.Line2D at 0xa40ca0350>,\n",
       " <matplotlib.lines.Line2D at 0xa40ca0510>,\n",
       " <matplotlib.lines.Line2D at 0xa40ca06d0>,\n",
       " <matplotlib.lines.Line2D at 0xa40ca0890>,\n",
       " <matplotlib.lines.Line2D at 0xa40ca0a50>,\n",
       " <matplotlib.lines.Line2D at 0xa40ca0c10>,\n",
       " <matplotlib.lines.Line2D at 0xa40ca0dd0>,\n",
       " <matplotlib.lines.Line2D at 0xa40ca0f90>,\n",
       " <matplotlib.lines.Line2D at 0xa40c9c190>,\n",
       " <matplotlib.lines.Line2D at 0xa40c9c350>,\n",
       " <matplotlib.lines.Line2D at 0xa40c9c510>,\n",
       " <matplotlib.lines.Line2D at 0xa40c9c6d0>,\n",
       " <matplotlib.lines.Line2D at 0xa40c9c890>,\n",
       " <matplotlib.lines.Line2D at 0xa40c9ca50>,\n",
       " <matplotlib.lines.Line2D at 0xa40c9cc10>,\n",
       " <matplotlib.lines.Line2D at 0xa40c9cdd0>,\n",
       " <matplotlib.lines.Line2D at 0xa40c9cf90>,\n",
       " <matplotlib.lines.Line2D at 0xa40c98190>,\n",
       " <matplotlib.lines.Line2D at 0xa40c98350>,\n",
       " <matplotlib.lines.Line2D at 0xa40c98510>,\n",
       " <matplotlib.lines.Line2D at 0xa40c986d0>,\n",
       " <matplotlib.lines.Line2D at 0xa40c98890>,\n",
       " <matplotlib.lines.Line2D at 0xa40c98a50>,\n",
       " <matplotlib.lines.Line2D at 0xa40c98c10>,\n",
       " <matplotlib.lines.Line2D at 0xa40c98dd0>,\n",
       " <matplotlib.lines.Line2D at 0xa40c98f90>,\n",
       " <matplotlib.lines.Line2D at 0xa40c94190>,\n",
       " <matplotlib.lines.Line2D at 0xa40c94350>,\n",
       " <matplotlib.lines.Line2D at 0xa40c94510>,\n",
       " <matplotlib.lines.Line2D at 0xa40c946d0>,\n",
       " <matplotlib.lines.Line2D at 0xa40c94890>,\n",
       " <matplotlib.lines.Line2D at 0xa40c94a50>,\n",
       " <matplotlib.lines.Line2D at 0xa40c94c10>,\n",
       " <matplotlib.lines.Line2D at 0xa40c94dd0>,\n",
       " <matplotlib.lines.Line2D at 0xa40c94f90>,\n",
       " <matplotlib.lines.Line2D at 0xa40c8f190>,\n",
       " <matplotlib.lines.Line2D at 0xa40c8f350>,\n",
       " <matplotlib.lines.Line2D at 0xa40c8f510>,\n",
       " <matplotlib.lines.Line2D at 0xa40c8f6d0>,\n",
       " <matplotlib.lines.Line2D at 0xa40c8f890>,\n",
       " <matplotlib.lines.Line2D at 0xa40c8fa50>,\n",
       " <matplotlib.lines.Line2D at 0xa40c8fc10>,\n",
       " <matplotlib.lines.Line2D at 0xa40c8fdd0>,\n",
       " <matplotlib.lines.Line2D at 0xa40c8ff90>,\n",
       " <matplotlib.lines.Line2D at 0xa40c8a190>,\n",
       " <matplotlib.lines.Line2D at 0xa40c8a350>,\n",
       " <matplotlib.lines.Line2D at 0xa40c8a510>,\n",
       " <matplotlib.lines.Line2D at 0xa40c8a6d0>,\n",
       " <matplotlib.lines.Line2D at 0xa40c8a890>,\n",
       " <matplotlib.lines.Line2D at 0xa40c8aa50>,\n",
       " <matplotlib.lines.Line2D at 0xa40c8ac10>,\n",
       " <matplotlib.lines.Line2D at 0xa40c8add0>,\n",
       " <matplotlib.lines.Line2D at 0xa40c8af90>,\n",
       " <matplotlib.lines.Line2D at 0xa40c86190>,\n",
       " <matplotlib.lines.Line2D at 0xa40c86350>,\n",
       " <matplotlib.lines.Line2D at 0xa40c86510>,\n",
       " <matplotlib.lines.Line2D at 0xa40c866d0>,\n",
       " <matplotlib.lines.Line2D at 0xa40c86890>,\n",
       " <matplotlib.lines.Line2D at 0xa40c86a50>,\n",
       " <matplotlib.lines.Line2D at 0xa40c86c10>,\n",
       " <matplotlib.lines.Line2D at 0xa40c86dd0>,\n",
       " <matplotlib.lines.Line2D at 0xa40c86f90>,\n",
       " <matplotlib.lines.Line2D at 0xa3d32c190>,\n",
       " <matplotlib.lines.Line2D at 0xa3d32c350>,\n",
       " <matplotlib.lines.Line2D at 0xa3d32c510>,\n",
       " <matplotlib.lines.Line2D at 0xa3d32c6d0>,\n",
       " <matplotlib.lines.Line2D at 0xa3d32c890>,\n",
       " <matplotlib.lines.Line2D at 0xa3d32ca50>,\n",
       " <matplotlib.lines.Line2D at 0xa3d32cc10>,\n",
       " <matplotlib.lines.Line2D at 0xa3d32cdd0>,\n",
       " <matplotlib.lines.Line2D at 0xa3d32cf90>,\n",
       " <matplotlib.lines.Line2D at 0xa3d326190>,\n",
       " <matplotlib.lines.Line2D at 0xa3d326350>,\n",
       " <matplotlib.lines.Line2D at 0xa3d326510>,\n",
       " <matplotlib.lines.Line2D at 0xa3d3266d0>,\n",
       " <matplotlib.lines.Line2D at 0xa3d326890>,\n",
       " <matplotlib.lines.Line2D at 0xa3d326a50>,\n",
       " <matplotlib.lines.Line2D at 0xa3d326c10>,\n",
       " <matplotlib.lines.Line2D at 0xa3d326dd0>,\n",
       " <matplotlib.lines.Line2D at 0xa3d326f90>,\n",
       " <matplotlib.lines.Line2D at 0xa3d321190>,\n",
       " <matplotlib.lines.Line2D at 0xa3d321350>,\n",
       " <matplotlib.lines.Line2D at 0xa3d321510>,\n",
       " <matplotlib.lines.Line2D at 0xa3d3216d0>,\n",
       " <matplotlib.lines.Line2D at 0xa3d321890>,\n",
       " <matplotlib.lines.Line2D at 0xa3d321a50>,\n",
       " <matplotlib.lines.Line2D at 0xa3d321c10>,\n",
       " <matplotlib.lines.Line2D at 0xa3d321dd0>,\n",
       " <matplotlib.lines.Line2D at 0xa3d321f90>,\n",
       " <matplotlib.lines.Line2D at 0xa3d324190>,\n",
       " <matplotlib.lines.Line2D at 0xa3d324350>,\n",
       " <matplotlib.lines.Line2D at 0xa3d324510>,\n",
       " <matplotlib.lines.Line2D at 0xa3d3246d0>,\n",
       " <matplotlib.lines.Line2D at 0xa3d324890>,\n",
       " <matplotlib.lines.Line2D at 0xa3d324a50>,\n",
       " <matplotlib.lines.Line2D at 0xa3d324c10>,\n",
       " <matplotlib.lines.Line2D at 0xa3d324dd0>,\n",
       " <matplotlib.lines.Line2D at 0xa3d324f90>,\n",
       " <matplotlib.lines.Line2D at 0xa3d312190>,\n",
       " <matplotlib.lines.Line2D at 0xa3d312350>,\n",
       " <matplotlib.lines.Line2D at 0xa3d312510>,\n",
       " <matplotlib.lines.Line2D at 0xa3d3126d0>,\n",
       " <matplotlib.lines.Line2D at 0xa3d312890>,\n",
       " <matplotlib.lines.Line2D at 0xa3d312a50>,\n",
       " <matplotlib.lines.Line2D at 0xa3d312c10>,\n",
       " <matplotlib.lines.Line2D at 0xa3d312dd0>,\n",
       " <matplotlib.lines.Line2D at 0xa3d312f90>,\n",
       " <matplotlib.lines.Line2D at 0xa3d33a190>,\n",
       " <matplotlib.lines.Line2D at 0xa3d33a350>,\n",
       " <matplotlib.lines.Line2D at 0xa3d33a510>,\n",
       " <matplotlib.lines.Line2D at 0xa3d33a6d0>,\n",
       " <matplotlib.lines.Line2D at 0xa3d33a890>,\n",
       " <matplotlib.lines.Line2D at 0xa3d33aa50>,\n",
       " <matplotlib.lines.Line2D at 0xa3d33ac10>,\n",
       " <matplotlib.lines.Line2D at 0xa3d33add0>,\n",
       " <matplotlib.lines.Line2D at 0xa3d33af90>,\n",
       " <matplotlib.lines.Line2D at 0xa3d340190>,\n",
       " <matplotlib.lines.Line2D at 0xa3d340350>,\n",
       " <matplotlib.lines.Line2D at 0xa3d340510>,\n",
       " <matplotlib.lines.Line2D at 0xa3d3406d0>,\n",
       " <matplotlib.lines.Line2D at 0xa3d340890>,\n",
       " <matplotlib.lines.Line2D at 0xa3d340a50>,\n",
       " <matplotlib.lines.Line2D at 0xa3d340c10>,\n",
       " <matplotlib.lines.Line2D at 0xa3d340dd0>,\n",
       " <matplotlib.lines.Line2D at 0xa3d340f90>,\n",
       " <matplotlib.lines.Line2D at 0xa3d346190>,\n",
       " <matplotlib.lines.Line2D at 0xa3d346350>,\n",
       " <matplotlib.lines.Line2D at 0xa3d346510>,\n",
       " <matplotlib.lines.Line2D at 0xa3d3466d0>,\n",
       " <matplotlib.lines.Line2D at 0xa3d346890>,\n",
       " <matplotlib.lines.Line2D at 0xa3d346a50>,\n",
       " <matplotlib.lines.Line2D at 0xa3d346c10>,\n",
       " <matplotlib.lines.Line2D at 0xa3d346dd0>,\n",
       " <matplotlib.lines.Line2D at 0xa3d346f90>,\n",
       " <matplotlib.lines.Line2D at 0xa3d30d190>,\n",
       " <matplotlib.lines.Line2D at 0xa3d30d350>,\n",
       " <matplotlib.lines.Line2D at 0xa3d30d510>,\n",
       " <matplotlib.lines.Line2D at 0xa3d30d6d0>,\n",
       " <matplotlib.lines.Line2D at 0xa3d30d890>,\n",
       " <matplotlib.lines.Line2D at 0xa3d30da50>,\n",
       " <matplotlib.lines.Line2D at 0xa3d30dc10>,\n",
       " <matplotlib.lines.Line2D at 0xa3d30ddd0>,\n",
       " <matplotlib.lines.Line2D at 0xa3d30df90>,\n",
       " <matplotlib.lines.Line2D at 0xa3d317190>,\n",
       " <matplotlib.lines.Line2D at 0xa3d317350>,\n",
       " <matplotlib.lines.Line2D at 0xa3d317510>,\n",
       " <matplotlib.lines.Line2D at 0xa3d3176d0>,\n",
       " <matplotlib.lines.Line2D at 0xa3d317890>,\n",
       " <matplotlib.lines.Line2D at 0xa3d317a50>,\n",
       " <matplotlib.lines.Line2D at 0xa3d317c10>,\n",
       " <matplotlib.lines.Line2D at 0xa3d317dd0>,\n",
       " <matplotlib.lines.Line2D at 0xa3d317f90>,\n",
       " <matplotlib.lines.Line2D at 0xa3d318190>,\n",
       " <matplotlib.lines.Line2D at 0xa3d318350>,\n",
       " <matplotlib.lines.Line2D at 0xa3d318510>,\n",
       " <matplotlib.lines.Line2D at 0xa3d3186d0>,\n",
       " <matplotlib.lines.Line2D at 0xa3d318890>,\n",
       " <matplotlib.lines.Line2D at 0xa3d318a50>,\n",
       " <matplotlib.lines.Line2D at 0xa3d318c10>,\n",
       " <matplotlib.lines.Line2D at 0xa3d318dd0>,\n",
       " <matplotlib.lines.Line2D at 0xa3d318f90>,\n",
       " <matplotlib.lines.Line2D at 0xa3d345190>,\n",
       " <matplotlib.lines.Line2D at 0xa3d345350>,\n",
       " <matplotlib.lines.Line2D at 0xa3d345510>,\n",
       " <matplotlib.lines.Line2D at 0xa3d3456d0>,\n",
       " <matplotlib.lines.Line2D at 0xa3d345890>,\n",
       " <matplotlib.lines.Line2D at 0xa3d345a50>,\n",
       " <matplotlib.lines.Line2D at 0xa3d345c10>,\n",
       " <matplotlib.lines.Line2D at 0xa3d345dd0>,\n",
       " <matplotlib.lines.Line2D at 0xa3d345f90>,\n",
       " <matplotlib.lines.Line2D at 0xa3d338190>,\n",
       " <matplotlib.lines.Line2D at 0xa3d338350>,\n",
       " <matplotlib.lines.Line2D at 0xa3d338510>,\n",
       " <matplotlib.lines.Line2D at 0xa3d3386d0>,\n",
       " <matplotlib.lines.Line2D at 0xa3d338890>,\n",
       " <matplotlib.lines.Line2D at 0xa3d338a50>,\n",
       " <matplotlib.lines.Line2D at 0xa3d338c10>,\n",
       " <matplotlib.lines.Line2D at 0xa3d338dd0>,\n",
       " <matplotlib.lines.Line2D at 0xa3d338f90>,\n",
       " <matplotlib.lines.Line2D at 0xa47482190>,\n",
       " <matplotlib.lines.Line2D at 0xa47482350>,\n",
       " <matplotlib.lines.Line2D at 0xa47482510>,\n",
       " <matplotlib.lines.Line2D at 0xa474826d0>,\n",
       " <matplotlib.lines.Line2D at 0xa47482890>,\n",
       " <matplotlib.lines.Line2D at 0xa47482a50>,\n",
       " <matplotlib.lines.Line2D at 0xa47482c10>,\n",
       " <matplotlib.lines.Line2D at 0xa47482dd0>,\n",
       " <matplotlib.lines.Line2D at 0xa47482f90>,\n",
       " <matplotlib.lines.Line2D at 0xa4747e190>,\n",
       " <matplotlib.lines.Line2D at 0xa4747e350>,\n",
       " <matplotlib.lines.Line2D at 0xa4747e510>,\n",
       " <matplotlib.lines.Line2D at 0xa4747e6d0>,\n",
       " <matplotlib.lines.Line2D at 0xa4747e890>,\n",
       " <matplotlib.lines.Line2D at 0xa4747ea50>,\n",
       " <matplotlib.lines.Line2D at 0xa4747ec10>,\n",
       " <matplotlib.lines.Line2D at 0xa4747edd0>,\n",
       " <matplotlib.lines.Line2D at 0xa4747ef90>,\n",
       " <matplotlib.lines.Line2D at 0xa4747a190>,\n",
       " <matplotlib.lines.Line2D at 0xa4747a350>,\n",
       " <matplotlib.lines.Line2D at 0xa4747a510>,\n",
       " <matplotlib.lines.Line2D at 0xa4747a6d0>,\n",
       " <matplotlib.lines.Line2D at 0xa4747a890>,\n",
       " <matplotlib.lines.Line2D at 0xa4747aa50>,\n",
       " <matplotlib.lines.Line2D at 0xa4747ac10>,\n",
       " <matplotlib.lines.Line2D at 0xa4747add0>,\n",
       " <matplotlib.lines.Line2D at 0xa4747af90>,\n",
       " <matplotlib.lines.Line2D at 0xa47476190>,\n",
       " <matplotlib.lines.Line2D at 0xa47476350>,\n",
       " <matplotlib.lines.Line2D at 0xa47476510>,\n",
       " <matplotlib.lines.Line2D at 0xa474766d0>,\n",
       " <matplotlib.lines.Line2D at 0xa47476890>,\n",
       " <matplotlib.lines.Line2D at 0xa47476a50>,\n",
       " <matplotlib.lines.Line2D at 0xa47476c10>,\n",
       " <matplotlib.lines.Line2D at 0xa47476dd0>,\n",
       " <matplotlib.lines.Line2D at 0xa47476f90>,\n",
       " <matplotlib.lines.Line2D at 0xa47470190>,\n",
       " <matplotlib.lines.Line2D at 0xa47470350>,\n",
       " <matplotlib.lines.Line2D at 0xa47470510>,\n",
       " <matplotlib.lines.Line2D at 0xa474706d0>,\n",
       " <matplotlib.lines.Line2D at 0xa47470890>,\n",
       " <matplotlib.lines.Line2D at 0xa47470a50>,\n",
       " <matplotlib.lines.Line2D at 0xa47470c10>,\n",
       " <matplotlib.lines.Line2D at 0xa47470dd0>,\n",
       " <matplotlib.lines.Line2D at 0xa47470f90>,\n",
       " <matplotlib.lines.Line2D at 0xa4746a190>,\n",
       " <matplotlib.lines.Line2D at 0xa4746a350>,\n",
       " <matplotlib.lines.Line2D at 0xa4746a510>,\n",
       " <matplotlib.lines.Line2D at 0xa4746a6d0>,\n",
       " <matplotlib.lines.Line2D at 0xa4746a890>,\n",
       " <matplotlib.lines.Line2D at 0xa4746aa50>,\n",
       " <matplotlib.lines.Line2D at 0xa4746ac10>,\n",
       " <matplotlib.lines.Line2D at 0xa4746add0>,\n",
       " <matplotlib.lines.Line2D at 0xa4746af90>,\n",
       " <matplotlib.lines.Line2D at 0xa47467190>,\n",
       " <matplotlib.lines.Line2D at 0xa47467350>,\n",
       " <matplotlib.lines.Line2D at 0xa47467510>,\n",
       " <matplotlib.lines.Line2D at 0xa474676d0>,\n",
       " <matplotlib.lines.Line2D at 0xa47467890>,\n",
       " <matplotlib.lines.Line2D at 0xa47467a50>,\n",
       " <matplotlib.lines.Line2D at 0xa47467c10>,\n",
       " <matplotlib.lines.Line2D at 0xa47467dd0>,\n",
       " <matplotlib.lines.Line2D at 0xa47467f90>,\n",
       " <matplotlib.lines.Line2D at 0xa47464190>,\n",
       " <matplotlib.lines.Line2D at 0xa47464350>,\n",
       " <matplotlib.lines.Line2D at 0xa47464510>,\n",
       " <matplotlib.lines.Line2D at 0xa474646d0>,\n",
       " <matplotlib.lines.Line2D at 0xa47464890>,\n",
       " <matplotlib.lines.Line2D at 0xa47464a50>,\n",
       " <matplotlib.lines.Line2D at 0xa47464c10>,\n",
       " <matplotlib.lines.Line2D at 0xa47464dd0>,\n",
       " <matplotlib.lines.Line2D at 0xa47464f90>,\n",
       " <matplotlib.lines.Line2D at 0xa4745f190>,\n",
       " <matplotlib.lines.Line2D at 0xa4745f350>,\n",
       " <matplotlib.lines.Line2D at 0xa4745f510>,\n",
       " <matplotlib.lines.Line2D at 0xa4745f6d0>,\n",
       " <matplotlib.lines.Line2D at 0xa4745f890>,\n",
       " <matplotlib.lines.Line2D at 0xa4745fa50>,\n",
       " <matplotlib.lines.Line2D at 0xa4745fc10>,\n",
       " <matplotlib.lines.Line2D at 0xa4745fdd0>,\n",
       " <matplotlib.lines.Line2D at 0xa4745ff90>,\n",
       " <matplotlib.lines.Line2D at 0xa4745b190>,\n",
       " <matplotlib.lines.Line2D at 0xa4745b350>,\n",
       " <matplotlib.lines.Line2D at 0xa4745b510>,\n",
       " <matplotlib.lines.Line2D at 0xa4745b6d0>,\n",
       " <matplotlib.lines.Line2D at 0xa4745b890>,\n",
       " <matplotlib.lines.Line2D at 0xa4745ba50>,\n",
       " <matplotlib.lines.Line2D at 0xa4745bc10>,\n",
       " <matplotlib.lines.Line2D at 0xa4745bdd0>,\n",
       " <matplotlib.lines.Line2D at 0xa4745bf90>,\n",
       " <matplotlib.lines.Line2D at 0xa47457190>,\n",
       " <matplotlib.lines.Line2D at 0xa47457350>,\n",
       " <matplotlib.lines.Line2D at 0xa47457510>,\n",
       " <matplotlib.lines.Line2D at 0xa474576d0>,\n",
       " <matplotlib.lines.Line2D at 0xa47457890>,\n",
       " <matplotlib.lines.Line2D at 0xa47457a50>,\n",
       " <matplotlib.lines.Line2D at 0xa47457c10>,\n",
       " <matplotlib.lines.Line2D at 0xa47457dd0>,\n",
       " <matplotlib.lines.Line2D at 0xa47457f90>,\n",
       " <matplotlib.lines.Line2D at 0xa47488190>,\n",
       " <matplotlib.lines.Line2D at 0xa47488350>,\n",
       " <matplotlib.lines.Line2D at 0xa47488510>,\n",
       " <matplotlib.lines.Line2D at 0xa474886d0>,\n",
       " <matplotlib.lines.Line2D at 0xa47488890>,\n",
       " <matplotlib.lines.Line2D at 0xa47488a50>,\n",
       " <matplotlib.lines.Line2D at 0xa47488c10>,\n",
       " <matplotlib.lines.Line2D at 0xa47488dd0>,\n",
       " <matplotlib.lines.Line2D at 0xa47488f90>,\n",
       " <matplotlib.lines.Line2D at 0xa4748c190>,\n",
       " <matplotlib.lines.Line2D at 0xa4748c350>,\n",
       " <matplotlib.lines.Line2D at 0xa4748c510>,\n",
       " <matplotlib.lines.Line2D at 0xa4748c6d0>,\n",
       " <matplotlib.lines.Line2D at 0xa4748c890>,\n",
       " <matplotlib.lines.Line2D at 0xa4748ca50>,\n",
       " <matplotlib.lines.Line2D at 0xa4748cc10>,\n",
       " <matplotlib.lines.Line2D at 0xa4748cdd0>,\n",
       " <matplotlib.lines.Line2D at 0xa4748cf90>,\n",
       " <matplotlib.lines.Line2D at 0xa47492190>,\n",
       " <matplotlib.lines.Line2D at 0xa47492350>,\n",
       " <matplotlib.lines.Line2D at 0xa47492510>,\n",
       " <matplotlib.lines.Line2D at 0xa474926d0>,\n",
       " <matplotlib.lines.Line2D at 0xa47492890>,\n",
       " <matplotlib.lines.Line2D at 0xa47492a50>,\n",
       " <matplotlib.lines.Line2D at 0xa47492c10>,\n",
       " <matplotlib.lines.Line2D at 0xa47492dd0>,\n",
       " <matplotlib.lines.Line2D at 0xa47492f90>,\n",
       " <matplotlib.lines.Line2D at 0xa47496190>,\n",
       " <matplotlib.lines.Line2D at 0xa47496350>,\n",
       " <matplotlib.lines.Line2D at 0xa47496510>,\n",
       " <matplotlib.lines.Line2D at 0xa474966d0>,\n",
       " <matplotlib.lines.Line2D at 0xa47496890>,\n",
       " <matplotlib.lines.Line2D at 0xa47496a50>,\n",
       " <matplotlib.lines.Line2D at 0xa47496c10>,\n",
       " <matplotlib.lines.Line2D at 0xa47496dd0>,\n",
       " <matplotlib.lines.Line2D at 0xa47496f90>,\n",
       " <matplotlib.lines.Line2D at 0xa3be00190>,\n",
       " <matplotlib.lines.Line2D at 0xa3be00350>,\n",
       " <matplotlib.lines.Line2D at 0xa3be00510>,\n",
       " <matplotlib.lines.Line2D at 0xa3be006d0>,\n",
       " <matplotlib.lines.Line2D at 0xa3be00890>,\n",
       " <matplotlib.lines.Line2D at 0xa3be00a50>,\n",
       " <matplotlib.lines.Line2D at 0xa3be00c10>,\n",
       " <matplotlib.lines.Line2D at 0xa3be00dd0>,\n",
       " <matplotlib.lines.Line2D at 0xa3be00f90>,\n",
       " <matplotlib.lines.Line2D at 0xa3be03190>,\n",
       " <matplotlib.lines.Line2D at 0xa3be03350>,\n",
       " <matplotlib.lines.Line2D at 0xa3be03510>,\n",
       " <matplotlib.lines.Line2D at 0xa3be036d0>,\n",
       " <matplotlib.lines.Line2D at 0xa3be03890>,\n",
       " <matplotlib.lines.Line2D at 0xa3be03a50>,\n",
       " <matplotlib.lines.Line2D at 0xa3be03c10>,\n",
       " <matplotlib.lines.Line2D at 0xa3be03dd0>,\n",
       " <matplotlib.lines.Line2D at 0xa3be03f90>,\n",
       " <matplotlib.lines.Line2D at 0xa3be07190>,\n",
       " <matplotlib.lines.Line2D at 0xa3be07350>,\n",
       " <matplotlib.lines.Line2D at 0xa3be07510>,\n",
       " <matplotlib.lines.Line2D at 0xa3be076d0>,\n",
       " <matplotlib.lines.Line2D at 0xa3be07890>,\n",
       " <matplotlib.lines.Line2D at 0xa3be07a50>,\n",
       " <matplotlib.lines.Line2D at 0xa3be07c10>,\n",
       " <matplotlib.lines.Line2D at 0xa3be07dd0>,\n",
       " <matplotlib.lines.Line2D at 0xa3be07f90>,\n",
       " <matplotlib.lines.Line2D at 0xa3be0c190>,\n",
       " <matplotlib.lines.Line2D at 0xa3be0c350>,\n",
       " <matplotlib.lines.Line2D at 0xa3be0c510>,\n",
       " <matplotlib.lines.Line2D at 0xa3be0c6d0>,\n",
       " <matplotlib.lines.Line2D at 0xa3be0c890>,\n",
       " <matplotlib.lines.Line2D at 0xa3be0ca50>,\n",
       " <matplotlib.lines.Line2D at 0xa3be0cc10>,\n",
       " <matplotlib.lines.Line2D at 0xa3be0cdd0>,\n",
       " <matplotlib.lines.Line2D at 0xa3be0cf90>,\n",
       " <matplotlib.lines.Line2D at 0xa3be11190>,\n",
       " <matplotlib.lines.Line2D at 0xa3be11350>,\n",
       " <matplotlib.lines.Line2D at 0xa3be11510>,\n",
       " <matplotlib.lines.Line2D at 0xa3be116d0>,\n",
       " <matplotlib.lines.Line2D at 0xa3be11890>,\n",
       " <matplotlib.lines.Line2D at 0xa3be11a50>,\n",
       " <matplotlib.lines.Line2D at 0xa3be11c10>,\n",
       " <matplotlib.lines.Line2D at 0xa3be11dd0>,\n",
       " <matplotlib.lines.Line2D at 0xa3be11f90>,\n",
       " <matplotlib.lines.Line2D at 0xa3be15190>,\n",
       " <matplotlib.lines.Line2D at 0xa3be15350>,\n",
       " <matplotlib.lines.Line2D at 0xa3be15510>,\n",
       " <matplotlib.lines.Line2D at 0xa3be156d0>,\n",
       " <matplotlib.lines.Line2D at 0xa3be15890>,\n",
       " <matplotlib.lines.Line2D at 0xa3be15a50>,\n",
       " <matplotlib.lines.Line2D at 0xa3be15c10>,\n",
       " <matplotlib.lines.Line2D at 0xa3be15dd0>,\n",
       " <matplotlib.lines.Line2D at 0xa3be15f90>,\n",
       " <matplotlib.lines.Line2D at 0xa3be18190>,\n",
       " <matplotlib.lines.Line2D at 0xa3be18350>,\n",
       " <matplotlib.lines.Line2D at 0xa3be18510>,\n",
       " <matplotlib.lines.Line2D at 0xa3be186d0>,\n",
       " <matplotlib.lines.Line2D at 0xa3be18890>,\n",
       " <matplotlib.lines.Line2D at 0xa3be18a50>,\n",
       " <matplotlib.lines.Line2D at 0xa3be18c10>,\n",
       " <matplotlib.lines.Line2D at 0xa3be18dd0>,\n",
       " <matplotlib.lines.Line2D at 0xa3be18f90>,\n",
       " <matplotlib.lines.Line2D at 0xa3be1c190>,\n",
       " <matplotlib.lines.Line2D at 0xa3be1c350>,\n",
       " <matplotlib.lines.Line2D at 0xa3be1c510>,\n",
       " <matplotlib.lines.Line2D at 0xa3be1c6d0>,\n",
       " <matplotlib.lines.Line2D at 0xa3be1c890>,\n",
       " <matplotlib.lines.Line2D at 0xa3be1ca50>,\n",
       " <matplotlib.lines.Line2D at 0xa3be1cc10>,\n",
       " <matplotlib.lines.Line2D at 0xa3be1cdd0>,\n",
       " <matplotlib.lines.Line2D at 0xa3be1cf90>,\n",
       " <matplotlib.lines.Line2D at 0xa3be21190>,\n",
       " <matplotlib.lines.Line2D at 0xa3be21350>,\n",
       " <matplotlib.lines.Line2D at 0xa3be21510>,\n",
       " <matplotlib.lines.Line2D at 0xa3be216d0>,\n",
       " <matplotlib.lines.Line2D at 0xa3be21890>,\n",
       " <matplotlib.lines.Line2D at 0xa3be21a50>,\n",
       " <matplotlib.lines.Line2D at 0xa3be21c10>,\n",
       " <matplotlib.lines.Line2D at 0xa3be21dd0>,\n",
       " <matplotlib.lines.Line2D at 0xa3be21f90>,\n",
       " <matplotlib.lines.Line2D at 0xa3be25190>,\n",
       " <matplotlib.lines.Line2D at 0xa3be25350>,\n",
       " <matplotlib.lines.Line2D at 0xa3be25510>,\n",
       " <matplotlib.lines.Line2D at 0xa3be256d0>,\n",
       " <matplotlib.lines.Line2D at 0xa3be25890>,\n",
       " <matplotlib.lines.Line2D at 0xa3be25a50>,\n",
       " <matplotlib.lines.Line2D at 0xa3be25c10>,\n",
       " <matplotlib.lines.Line2D at 0xa3be25dd0>,\n",
       " <matplotlib.lines.Line2D at 0xa3be25f90>,\n",
       " <matplotlib.lines.Line2D at 0xa3be2e190>,\n",
       " <matplotlib.lines.Line2D at 0xa3be2e350>,\n",
       " <matplotlib.lines.Line2D at 0xa3be2e510>,\n",
       " <matplotlib.lines.Line2D at 0xa3be2e6d0>,\n",
       " <matplotlib.lines.Line2D at 0xa3be2e890>,\n",
       " <matplotlib.lines.Line2D at 0xa3be2ea50>,\n",
       " <matplotlib.lines.Line2D at 0xa3be2ec10>,\n",
       " <matplotlib.lines.Line2D at 0xa3be2edd0>,\n",
       " <matplotlib.lines.Line2D at 0xa3be2ef90>,\n",
       " <matplotlib.lines.Line2D at 0xa3be37190>,\n",
       " <matplotlib.lines.Line2D at 0xa3be37350>,\n",
       " <matplotlib.lines.Line2D at 0xa3be37510>,\n",
       " <matplotlib.lines.Line2D at 0xa3be376d0>,\n",
       " <matplotlib.lines.Line2D at 0xa3be37890>,\n",
       " <matplotlib.lines.Line2D at 0xa3be37a50>,\n",
       " <matplotlib.lines.Line2D at 0xa3be37c10>,\n",
       " <matplotlib.lines.Line2D at 0xa3be37dd0>,\n",
       " <matplotlib.lines.Line2D at 0xa3be37f90>,\n",
       " <matplotlib.lines.Line2D at 0xa3be3a190>,\n",
       " <matplotlib.lines.Line2D at 0xa3be3a350>,\n",
       " <matplotlib.lines.Line2D at 0xa3be3a510>,\n",
       " <matplotlib.lines.Line2D at 0xa3be3a6d0>,\n",
       " <matplotlib.lines.Line2D at 0xa3be3a890>,\n",
       " <matplotlib.lines.Line2D at 0xa3be3aa50>,\n",
       " <matplotlib.lines.Line2D at 0xa3be3ac10>,\n",
       " <matplotlib.lines.Line2D at 0xa3be3add0>,\n",
       " <matplotlib.lines.Line2D at 0xa3be3af90>,\n",
       " <matplotlib.lines.Line2D at 0xa3be33190>,\n",
       " <matplotlib.lines.Line2D at 0xa3be33350>,\n",
       " <matplotlib.lines.Line2D at 0xa3be33510>,\n",
       " <matplotlib.lines.Line2D at 0xa3be336d0>,\n",
       " <matplotlib.lines.Line2D at 0xa3be33890>,\n",
       " <matplotlib.lines.Line2D at 0xa3be33a50>,\n",
       " <matplotlib.lines.Line2D at 0xa3be33c10>,\n",
       " <matplotlib.lines.Line2D at 0xa3be33dd0>,\n",
       " <matplotlib.lines.Line2D at 0xa3be33f90>,\n",
       " <matplotlib.lines.Line2D at 0xa3be2c190>,\n",
       " <matplotlib.lines.Line2D at 0xa3be2c350>,\n",
       " <matplotlib.lines.Line2D at 0xa3be2c510>,\n",
       " <matplotlib.lines.Line2D at 0xa3be2c6d0>,\n",
       " <matplotlib.lines.Line2D at 0xa3be2c890>,\n",
       " <matplotlib.lines.Line2D at 0xa3be2ca50>,\n",
       " <matplotlib.lines.Line2D at 0xa3be2cc10>,\n",
       " <matplotlib.lines.Line2D at 0xa3be2cdd0>,\n",
       " <matplotlib.lines.Line2D at 0xa3be2cf90>,\n",
       " <matplotlib.lines.Line2D at 0xa4276a190>,\n",
       " <matplotlib.lines.Line2D at 0xa4276a350>,\n",
       " <matplotlib.lines.Line2D at 0xa4276a510>,\n",
       " <matplotlib.lines.Line2D at 0xa4276a6d0>,\n",
       " <matplotlib.lines.Line2D at 0xa4276a890>,\n",
       " <matplotlib.lines.Line2D at 0xa4276aa50>,\n",
       " <matplotlib.lines.Line2D at 0xa4276ac10>,\n",
       " <matplotlib.lines.Line2D at 0xa4276add0>,\n",
       " <matplotlib.lines.Line2D at 0xa4276af90>,\n",
       " <matplotlib.lines.Line2D at 0xa42766190>,\n",
       " <matplotlib.lines.Line2D at 0xa42766350>,\n",
       " <matplotlib.lines.Line2D at 0xa42766510>,\n",
       " <matplotlib.lines.Line2D at 0xa427666d0>,\n",
       " <matplotlib.lines.Line2D at 0xa42766890>,\n",
       " <matplotlib.lines.Line2D at 0xa42766a50>,\n",
       " <matplotlib.lines.Line2D at 0xa42766c10>,\n",
       " <matplotlib.lines.Line2D at 0xa42766dd0>,\n",
       " <matplotlib.lines.Line2D at 0xa42766f90>,\n",
       " <matplotlib.lines.Line2D at 0xa4275e190>,\n",
       " <matplotlib.lines.Line2D at 0xa4275e350>,\n",
       " <matplotlib.lines.Line2D at 0xa4275e510>,\n",
       " <matplotlib.lines.Line2D at 0xa4275e6d0>,\n",
       " <matplotlib.lines.Line2D at 0xa4275e890>,\n",
       " <matplotlib.lines.Line2D at 0xa4275ea50>,\n",
       " <matplotlib.lines.Line2D at 0xa4275ec10>,\n",
       " <matplotlib.lines.Line2D at 0xa4275edd0>,\n",
       " <matplotlib.lines.Line2D at 0xa4275ef90>,\n",
       " <matplotlib.lines.Line2D at 0xa4275b190>,\n",
       " <matplotlib.lines.Line2D at 0xa4275b350>,\n",
       " <matplotlib.lines.Line2D at 0xa4275b510>,\n",
       " <matplotlib.lines.Line2D at 0xa4275b6d0>,\n",
       " ...]"
      ]
     },
     "execution_count": 21,
     "metadata": {},
     "output_type": "execute_result"
    },
    {
     "data": {
      "image/png": "[encoded data removed]",
      "text/plain": [
       "<Figure size 432x288 with 1 Axes>"
      ]
     },
     "metadata": {
      "needs_background": "light"
     },
     "output_type": "display_data"
    }
   ],
   "source": [
    "plt.plot(dataset.iloc[:1,:])"
   ]
  },
  {
   "cell_type": "markdown",
   "metadata": {},
   "source": [
    "### Plot dataset"
   ]
  },
  {
   "cell_type": "code",
   "execution_count": 11,
   "metadata": {},
   "outputs": [
    {
     "data": {
      "text/html": [
       "<div>\n",
       "<style scoped>\n",
       "    .dataframe tbody tr th:only-of-type {\n",
       "        vertical-align: middle;\n",
       "    }\n",
       "\n",
       "    .dataframe tbody tr th {\n",
       "        vertical-align: top;\n",
       "    }\n",
       "\n",
       "    .dataframe thead th {\n",
       "        text-align: right;\n",
       "    }\n",
       "</style>\n",
       "<table border=\"1\" class=\"dataframe\">\n",
       "  <thead>\n",
       "    <tr style=\"text-align: right;\">\n",
       "      <th></th>\n",
       "      <th>count</th>\n",
       "      <th>mean</th>\n",
       "      <th>std</th>\n",
       "      <th>min</th>\n",
       "      <th>25%</th>\n",
       "      <th>50%</th>\n",
       "      <th>75%</th>\n",
       "      <th>max</th>\n",
       "    </tr>\n",
       "  </thead>\n",
       "  <tbody>\n",
       "    <tr>\n",
       "      <th>144</th>\n",
       "      <td>39512.0</td>\n",
       "      <td>1.990383</td>\n",
       "      <td>0.607220</td>\n",
       "      <td>1.0</td>\n",
       "      <td>2.0</td>\n",
       "      <td>2.0</td>\n",
       "      <td>2.0</td>\n",
       "      <td>3.0</td>\n",
       "    </tr>\n",
       "    <tr>\n",
       "      <th>145</th>\n",
       "      <td>39512.0</td>\n",
       "      <td>1.986080</td>\n",
       "      <td>0.691340</td>\n",
       "      <td>1.0</td>\n",
       "      <td>2.0</td>\n",
       "      <td>2.0</td>\n",
       "      <td>2.0</td>\n",
       "      <td>3.0</td>\n",
       "    </tr>\n",
       "    <tr>\n",
       "      <th>146</th>\n",
       "      <td>39512.0</td>\n",
       "      <td>1.979196</td>\n",
       "      <td>0.742504</td>\n",
       "      <td>1.0</td>\n",
       "      <td>1.0</td>\n",
       "      <td>2.0</td>\n",
       "      <td>3.0</td>\n",
       "      <td>3.0</td>\n",
       "    </tr>\n",
       "    <tr>\n",
       "      <th>147</th>\n",
       "      <td>39512.0</td>\n",
       "      <td>1.974514</td>\n",
       "      <td>0.805962</td>\n",
       "      <td>1.0</td>\n",
       "      <td>1.0</td>\n",
       "      <td>2.0</td>\n",
       "      <td>3.0</td>\n",
       "      <td>3.0</td>\n",
       "    </tr>\n",
       "    <tr>\n",
       "      <th>148</th>\n",
       "      <td>39512.0</td>\n",
       "      <td>1.964340</td>\n",
       "      <td>0.879848</td>\n",
       "      <td>1.0</td>\n",
       "      <td>1.0</td>\n",
       "      <td>2.0</td>\n",
       "      <td>3.0</td>\n",
       "      <td>3.0</td>\n",
       "    </tr>\n",
       "  </tbody>\n",
       "</table>\n",
       "</div>"
      ],
      "text/plain": [
       "       count      mean       std  min  25%  50%  75%  max\n",
       "144  39512.0  1.990383  0.607220  1.0  2.0  2.0  2.0  3.0\n",
       "145  39512.0  1.986080  0.691340  1.0  2.0  2.0  2.0  3.0\n",
       "146  39512.0  1.979196  0.742504  1.0  1.0  2.0  3.0  3.0\n",
       "147  39512.0  1.974514  0.805962  1.0  1.0  2.0  3.0  3.0\n",
       "148  39512.0  1.964340  0.879848  1.0  1.0  2.0  3.0  3.0"
      ]
     },
     "execution_count": 11,
     "metadata": {},
     "output_type": "execute_result"
    }
   ],
   "source": [
    "dataset.iloc[-5:,:].apply(pd.DataFrame.describe, axis =1)"
   ]
  },
  {
   "cell_type": "code",
   "execution_count": 12,
   "metadata": {},
   "outputs": [],
   "source": [
    "dataset_max = dataset.apply(pd.DataFrame.max, axis = 1)"
   ]
  },
  {
   "cell_type": "markdown",
   "metadata": {},
   "source": [
    "#### Max"
   ]
  },
  {
   "cell_type": "code",
   "execution_count": 13,
   "metadata": {},
   "outputs": [
    {
     "data": {
      "text/plain": [
       "[<matplotlib.lines.Line2D at 0xa382bd610>]"
      ]
     },
     "execution_count": 13,
     "metadata": {},
     "output_type": "execute_result"
    },
    {
     "data": {
      "image/png": "[encoded data removed]",
      "text/plain": [
       "<Figure size 432x288 with 1 Axes>"
      ]
     },
     "metadata": {
      "needs_background": "light"
     },
     "output_type": "display_data"
    }
   ],
   "source": [
    "plt.plot(dataset_max.values)"
   ]
  },
  {
   "cell_type": "markdown",
   "metadata": {},
   "source": [
    "#### Min\n"
   ]
  },
  {
   "cell_type": "code",
   "execution_count": 14,
   "metadata": {},
   "outputs": [
    {
     "data": {
      "text/plain": [
       "[<matplotlib.lines.Line2D at 0xa3d50d4d0>]"
      ]
     },
     "execution_count": 14,
     "metadata": {},
     "output_type": "execute_result"
    },
    {
     "data": {
      "image/png": "[encoded data removed]",
      "text/plain": [
       "<Figure size 432x288 with 1 Axes>"
      ]
     },
     "metadata": {
      "needs_background": "light"
     },
     "output_type": "display_data"
    }
   ],
   "source": [
    "plt.plot(dataset.apply(pd.DataFrame.min, axis =1 ))"
   ]
  },
  {
   "cell_type": "markdown",
   "metadata": {},
   "source": [
    "#### StDev"
   ]
  },
  {
   "cell_type": "code",
   "execution_count": 15,
   "metadata": {},
   "outputs": [
    {
     "data": {
      "text/plain": [
       "[<matplotlib.lines.Line2D at 0xa3dac6a50>]"
      ]
     },
     "execution_count": 15,
     "metadata": {},
     "output_type": "execute_result"
    },
    {
     "data": {
      "image/png": "[encoded data removed]",
      "text/plain": [
       "<Figure size 432x288 with 1 Axes>"
      ]
     },
     "metadata": {
      "needs_background": "light"
     },
     "output_type": "display_data"
    }
   ],
   "source": [
    "plt.plot(dataset.apply(pd.DataFrame.std, axis = 1))"
   ]
  },
  {
   "cell_type": "markdown",
   "metadata": {},
   "source": [
    "#### Mean\n"
   ]
  },
  {
   "cell_type": "code",
   "execution_count": 16,
   "metadata": {},
   "outputs": [
    {
     "data": {
      "text/plain": [
       "[<matplotlib.lines.Line2D at 0xa3be6ca10>]"
      ]
     },
     "execution_count": 16,
     "metadata": {},
     "output_type": "execute_result"
    },
    {
     "data": {
      "image/png": "[encoded data removed]",
      "text/plain": [
       "<Figure size 432x288 with 1 Axes>"
      ]
     },
     "metadata": {
      "needs_background": "light"
     },
     "output_type": "display_data"
    }
   ],
   "source": [
    "plt.plot(dataset.apply(pd.DataFrame.mean, axis = 1))"
   ]
  },
  {
   "cell_type": "markdown",
   "metadata": {},
   "source": [
    "#### Median\n"
   ]
  },
  {
   "cell_type": "code",
   "execution_count": 17,
   "metadata": {},
   "outputs": [
    {
     "data": {
      "text/plain": [
       "[<matplotlib.lines.Line2D at 0xa3da76bd0>]"
      ]
     },
     "execution_count": 17,
     "metadata": {},
     "output_type": "execute_result"
    },
    {
     "data": {
      "image/png": "[encoded data removed]",
      "text/plain": [
       "<Figure size 432x288 with 1 Axes>"
      ]
     },
     "metadata": {
      "needs_background": "light"
     },
     "output_type": "display_data"
    }
   ],
   "source": [
    "plt.plot(dataset.apply(pd.DataFrame.median, axis =1))"
   ]
  },
  {
   "cell_type": "markdown",
   "metadata": {},
   "source": [
    "### Preprocessing not required"
   ]
  },
  {
   "cell_type": "markdown",
   "metadata": {},
   "source": [
    "Since the dataset has already been normalised, no further processing is required.\n"
   ]
  },
  {
   "cell_type": "markdown",
   "metadata": {},
   "source": [
    "## Model"
   ]
  },
  {
   "cell_type": "markdown",
   "metadata": {},
   "source": [
    "https://etsin.avointiede.fi/dataset/urn-nbn-fi-csc-kata20170601153214969115\n",
    "\n",
    "\n",
    "The given files contain both the feature set and the labels. From row 1 to row 144 we provide the features (see 'Benchmark Dataset for Mid-Price Prediction of Limit Order Book Data' for the description) and from row 145 to row 149 we provide labels for 5 classification problems. Labels (row 145 to the end) have the following explanation ‘1’ is for up-movement, ‘2’ is for stationary condition and ‘3’ is for down-movement.\n",
    " "
   ]
  },
  {
   "cell_type": "markdown",
   "metadata": {},
   "source": [
    "Ntakaris et al. 2018: \"Benchmark dataset for mid-price forecasting of limit order book data with machine learning methods\"\n",
    "\n",
    "We formulated five classification tasks based on mid-price movement predictions for 1, 2, 3, 5, and 10 predicted horizons.\n"
   ]
  },
  {
   "cell_type": "markdown",
   "metadata": {},
   "source": [
    "Ntakaris et al. 2018. page 9:\n",
    "\n",
    "Our labels describe the percentage change of the mid-price, which is calculated as follows:\n",
    "\n",
    "[formula]\n",
    "\n",
    "where $m_j$ is the future mid-price (k = 1, 2, 3, 5, or 10 next events in our representations) and $m_i$ is the current mid-price. The extracted labels are based on a threshold for the percentage change of 0.002. For percentage changes equal to or greater than 0.002, we use label 1. For percentage change that varies from −0.00199 to 0.00199, we use label 2, and, for percentage change smaller or equal to −0.002, we use label 3.\n",
    "\n",
    "+- 0.2 bps is unchanged.\n"
   ]
  },
  {
   "cell_type": "markdown",
   "metadata": {},
   "source": [
    "#### Dataset description"
   ]
  },
  {
   "cell_type": "code",
   "execution_count": 18,
   "metadata": {},
   "outputs": [
    {
     "data": {
      "text/plain": [
       "(149, 39512)"
      ]
     },
     "execution_count": 18,
     "metadata": {},
     "output_type": "execute_result"
    }
   ],
   "source": [
    "dataset.shape"
   ]
  },
  {
   "cell_type": "code",
   "execution_count": 19,
   "metadata": {},
   "outputs": [],
   "source": [
    "X_train = dataset.iloc[:144, :20000]"
   ]
  },
  {
   "cell_type": "code",
   "execution_count": 20,
   "metadata": {},
   "outputs": [],
   "source": [
    "X_valid = dataset.iloc[:144, 20000:]"
   ]
  },
  {
   "cell_type": "code",
   "execution_count": 21,
   "metadata": {},
   "outputs": [],
   "source": [
    "y_train = dataset.iloc[-5, :20000]"
   ]
  },
  {
   "cell_type": "code",
   "execution_count": 22,
   "metadata": {},
   "outputs": [],
   "source": [
    "y_valid = dataset.iloc[-5, 20000:]"
   ]
  },
  {
   "cell_type": "code",
   "execution_count": 85,
   "metadata": {},
   "outputs": [
    {
     "name": "stdout",
     "output_type": "stream",
     "text": [
      "(20000, 144, 1)\n",
      "(19512, 144, 1)\n",
      "(20000, 1)\n",
      "(19512, 1)\n"
     ]
    }
   ],
   "source": [
    "print(X_train.shape)\n",
    "print(X_valid.shape)\n",
    "print(y_train.shape)\n",
    "print(y_valid.shape)"
   ]
  },
  {
   "cell_type": "code",
   "execution_count": 27,
   "metadata": {},
   "outputs": [],
   "source": [
    "y_train = np.asarray(y_train)"
   ]
  },
  {
   "cell_type": "code",
   "execution_count": 28,
   "metadata": {},
   "outputs": [],
   "source": [
    "X_train = np.asarray(X_train)"
   ]
  },
  {
   "cell_type": "code",
   "execution_count": 29,
   "metadata": {},
   "outputs": [],
   "source": [
    "y_valid = np.asarray(y_valid)"
   ]
  },
  {
   "cell_type": "code",
   "execution_count": 30,
   "metadata": {},
   "outputs": [],
   "source": [
    "X_valid = np.asarray(X_valid)"
   ]
  },
  {
   "cell_type": "code",
   "execution_count": 31,
   "metadata": {},
   "outputs": [],
   "source": [
    "X_valid = X_valid.transpose()\n",
    "y_valid = y_valid.transpose()\n",
    "X_train = X_train.transpose()\n",
    "y_train = y_train.transpose()\n"
   ]
  },
  {
   "cell_type": "code",
   "execution_count": 32,
   "metadata": {},
   "outputs": [
    {
     "name": "stdout",
     "output_type": "stream",
     "text": [
      "(19512, 144)\n",
      "(19512,)\n",
      "(20000, 144)\n",
      "(20000,)\n"
     ]
    }
   ],
   "source": [
    "print(X_valid.shape)\n",
    "print(y_valid.shape)\n",
    "print(X_train.shape)\n",
    "print(y_train.shape)"
   ]
  },
  {
   "cell_type": "code",
   "execution_count": 33,
   "metadata": {},
   "outputs": [
    {
     "name": "stdout",
     "output_type": "stream",
     "text": [
      "<class 'numpy.ndarray'>\n",
      "<class 'numpy.ndarray'>\n",
      "<class 'numpy.ndarray'>\n",
      "<class 'numpy.ndarray'>\n"
     ]
    }
   ],
   "source": [
    "print(type(X_valid))\n",
    "print(type(y_valid))\n",
    "print(type(X_train))\n",
    "print(type(y_train))"
   ]
  },
  {
   "cell_type": "markdown",
   "metadata": {},
   "source": [
    "#### Helper functions"
   ]
  },
  {
   "cell_type": "code",
   "execution_count": 41,
   "metadata": {},
   "outputs": [],
   "source": [
    "def plot_learning_curves(loss, val_loss):\n",
    "    plt.plot(np.arange(len(loss)) + 0.5, loss, \"b.-\", label=\"Training loss\")\n",
    "    plt.plot(np.arange(len(val_loss)) + 1, val_loss, \"r.-\", label=\"Validation loss\")\n",
    "    plt.gca().xaxis.set_major_locator(mpl.ticker.MaxNLocator(integer=True))\n",
    "    #plt.axis([1, 20, 0, 0.05])\n",
    "    plt.legend(fontsize=14)\n",
    "    plt.xlabel(\"Epochs\")\n",
    "    plt.ylabel(\"Loss\")\n",
    "    plt.grid(True)"
   ]
  },
  {
   "cell_type": "code",
   "execution_count": 46,
   "metadata": {},
   "outputs": [],
   "source": [
    "def plot_series(series, y=None, y_pred=None, x_label=\"$t$\", y_label=\"$x(t)$\"):\n",
    "    plt.plot(series, \".-\")\n",
    "    if y is not None:\n",
    "        plt.plot(n_steps, y, \"bx\", markersize=10)\n",
    "    if y_pred is not None:\n",
    "        plt.plot(n_steps, y_pred, \"ro\")\n",
    "    plt.grid(True)\n",
    "    if x_label:\n",
    "        plt.xlabel(x_label, fontsize=16)\n",
    "    if y_label:\n",
    "        plt.ylabel(y_label, fontsize=16, rotation=0)\n",
    "    plt.hlines(0, 0, 100, linewidth=1)\n",
    "    plt.axis([0, n_steps + 1, -1, 1])\n",
    "\n"
   ]
  },
  {
   "cell_type": "markdown",
   "metadata": {},
   "source": [
    "### Estimate model"
   ]
  },
  {
   "cell_type": "code",
   "execution_count": 86,
   "metadata": {},
   "outputs": [],
   "source": [
    "model = keras.models.Sequential()\n",
    "model.add(keras.layers.Dense(300, activation = \"relu\"))\n",
    "\n"
   ]
  },
  {
   "cell_type": "code",
   "execution_count": 87,
   "metadata": {},
   "outputs": [],
   "source": [
    "model.compile(loss=\"sparse_categorical_crossentropy\",optimizer=\"sgd\", metrics=[\"accuracy\"])"
   ]
  },
  {
   "cell_type": "code",
   "execution_count": 88,
   "metadata": {},
   "outputs": [
    {
     "name": "stdout",
     "output_type": "stream",
     "text": [
      "Train on 20000 samples, validate on 19512 samples\n",
      "Epoch 1/10\n",
      "\r",
      "   32/20000 [..............................] - ETA: 20s"
     ]
    },
    {
     "ename": "ValueError",
     "evalue": "Shape mismatch: The shape of labels (received (32, 1)) should equal the shape of logits except for the last dimension (received (32, 144, 300)).",
     "output_type": "error",
     "traceback": [
      "\u001b[0;31m---------------------------------------------------------------------------\u001b[0m",
      "\u001b[0;31mValueError\u001b[0m                                Traceback (most recent call last)",
      "\u001b[0;32m<ipython-input-88-77526c0d0c2c>\u001b[0m in \u001b[0;36m<module>\u001b[0;34m\u001b[0m\n\u001b[0;32m----> 1\u001b[0;31m \u001b[0mhistory\u001b[0m \u001b[0;34m=\u001b[0m \u001b[0mmodel\u001b[0m\u001b[0;34m.\u001b[0m\u001b[0mfit\u001b[0m\u001b[0;34m(\u001b[0m\u001b[0mX_train\u001b[0m\u001b[0;34m,\u001b[0m \u001b[0my_train\u001b[0m\u001b[0;34m,\u001b[0m \u001b[0mepochs\u001b[0m \u001b[0;34m=\u001b[0m \u001b[0;36m10\u001b[0m\u001b[0;34m,\u001b[0m \u001b[0mvalidation_data\u001b[0m\u001b[0;34m=\u001b[0m\u001b[0;34m(\u001b[0m\u001b[0mX_valid\u001b[0m\u001b[0;34m,\u001b[0m \u001b[0my_valid\u001b[0m\u001b[0;34m)\u001b[0m\u001b[0;34m)\u001b[0m\u001b[0;34m\u001b[0m\u001b[0;34m\u001b[0m\u001b[0m\n\u001b[0m",
      "\u001b[0;32m~/opt/anaconda3/envs/tensorflow/lib/python3.7/site-packages/tensorflow_core/python/keras/engine/training.py\u001b[0m in \u001b[0;36mfit\u001b[0;34m(self, x, y, batch_size, epochs, verbose, callbacks, validation_split, validation_data, shuffle, class_weight, sample_weight, initial_epoch, steps_per_epoch, validation_steps, validation_freq, max_queue_size, workers, use_multiprocessing, **kwargs)\u001b[0m\n\u001b[1;32m    720\u001b[0m         \u001b[0mmax_queue_size\u001b[0m\u001b[0;34m=\u001b[0m\u001b[0mmax_queue_size\u001b[0m\u001b[0;34m,\u001b[0m\u001b[0;34m\u001b[0m\u001b[0;34m\u001b[0m\u001b[0m\n\u001b[1;32m    721\u001b[0m         \u001b[0mworkers\u001b[0m\u001b[0;34m=\u001b[0m\u001b[0mworkers\u001b[0m\u001b[0;34m,\u001b[0m\u001b[0;34m\u001b[0m\u001b[0;34m\u001b[0m\u001b[0m\n\u001b[0;32m--> 722\u001b[0;31m         use_multiprocessing=use_multiprocessing)\n\u001b[0m\u001b[1;32m    723\u001b[0m \u001b[0;34m\u001b[0m\u001b[0m\n\u001b[1;32m    724\u001b[0m   def evaluate(self,\n",
      "\u001b[0;32m~/opt/anaconda3/envs/tensorflow/lib/python3.7/site-packages/tensorflow_core/python/keras/engine/training_v2.py\u001b[0m in \u001b[0;36mfit\u001b[0;34m(self, model, x, y, batch_size, epochs, verbose, callbacks, validation_split, validation_data, shuffle, class_weight, sample_weight, initial_epoch, steps_per_epoch, validation_steps, validation_freq, max_queue_size, workers, use_multiprocessing, **kwargs)\u001b[0m\n\u001b[1;32m    339\u001b[0m                 \u001b[0mmode\u001b[0m\u001b[0;34m=\u001b[0m\u001b[0mModeKeys\u001b[0m\u001b[0;34m.\u001b[0m\u001b[0mTRAIN\u001b[0m\u001b[0;34m,\u001b[0m\u001b[0;34m\u001b[0m\u001b[0;34m\u001b[0m\u001b[0m\n\u001b[1;32m    340\u001b[0m                 \u001b[0mtraining_context\u001b[0m\u001b[0;34m=\u001b[0m\u001b[0mtraining_context\u001b[0m\u001b[0;34m,\u001b[0m\u001b[0;34m\u001b[0m\u001b[0;34m\u001b[0m\u001b[0m\n\u001b[0;32m--> 341\u001b[0;31m                 total_epochs=epochs)\n\u001b[0m\u001b[1;32m    342\u001b[0m             \u001b[0mcbks\u001b[0m\u001b[0;34m.\u001b[0m\u001b[0mmake_logs\u001b[0m\u001b[0;34m(\u001b[0m\u001b[0mmodel\u001b[0m\u001b[0;34m,\u001b[0m \u001b[0mepoch_logs\u001b[0m\u001b[0;34m,\u001b[0m \u001b[0mtraining_result\u001b[0m\u001b[0;34m,\u001b[0m \u001b[0mModeKeys\u001b[0m\u001b[0;34m.\u001b[0m\u001b[0mTRAIN\u001b[0m\u001b[0;34m)\u001b[0m\u001b[0;34m\u001b[0m\u001b[0;34m\u001b[0m\u001b[0m\n\u001b[1;32m    343\u001b[0m \u001b[0;34m\u001b[0m\u001b[0m\n",
      "\u001b[0;32m~/opt/anaconda3/envs/tensorflow/lib/python3.7/site-packages/tensorflow_core/python/keras/engine/training_v2.py\u001b[0m in \u001b[0;36mrun_one_epoch\u001b[0;34m(model, iterator, execution_function, dataset_size, batch_size, strategy, steps_per_epoch, num_samples, mode, training_context, total_epochs)\u001b[0m\n\u001b[1;32m    126\u001b[0m         step=step, mode=mode, size=current_batch_size) as batch_logs:\n\u001b[1;32m    127\u001b[0m       \u001b[0;32mtry\u001b[0m\u001b[0;34m:\u001b[0m\u001b[0;34m\u001b[0m\u001b[0;34m\u001b[0m\u001b[0m\n\u001b[0;32m--> 128\u001b[0;31m         \u001b[0mbatch_outs\u001b[0m \u001b[0;34m=\u001b[0m \u001b[0mexecution_function\u001b[0m\u001b[0;34m(\u001b[0m\u001b[0miterator\u001b[0m\u001b[0;34m)\u001b[0m\u001b[0;34m\u001b[0m\u001b[0;34m\u001b[0m\u001b[0m\n\u001b[0m\u001b[1;32m    129\u001b[0m       \u001b[0;32mexcept\u001b[0m \u001b[0;34m(\u001b[0m\u001b[0mStopIteration\u001b[0m\u001b[0;34m,\u001b[0m \u001b[0merrors\u001b[0m\u001b[0;34m.\u001b[0m\u001b[0mOutOfRangeError\u001b[0m\u001b[0;34m)\u001b[0m\u001b[0;34m:\u001b[0m\u001b[0;34m\u001b[0m\u001b[0;34m\u001b[0m\u001b[0m\n\u001b[1;32m    130\u001b[0m         \u001b[0;31m# TODO(kaftan): File bug about tf function and errors.OutOfRangeError?\u001b[0m\u001b[0;34m\u001b[0m\u001b[0;34m\u001b[0m\u001b[0;34m\u001b[0m\u001b[0m\n",
      "\u001b[0;32m~/opt/anaconda3/envs/tensorflow/lib/python3.7/site-packages/tensorflow_core/python/keras/engine/training_v2_utils.py\u001b[0m in \u001b[0;36mexecution_function\u001b[0;34m(input_fn)\u001b[0m\n\u001b[1;32m     96\u001b[0m     \u001b[0;31m# `numpy` translates Tensors to values in Eager mode.\u001b[0m\u001b[0;34m\u001b[0m\u001b[0;34m\u001b[0m\u001b[0;34m\u001b[0m\u001b[0m\n\u001b[1;32m     97\u001b[0m     return nest.map_structure(_non_none_constant_value,\n\u001b[0;32m---> 98\u001b[0;31m                               distributed_function(input_fn))\n\u001b[0m\u001b[1;32m     99\u001b[0m \u001b[0;34m\u001b[0m\u001b[0m\n\u001b[1;32m    100\u001b[0m   \u001b[0;32mreturn\u001b[0m \u001b[0mexecution_function\u001b[0m\u001b[0;34m\u001b[0m\u001b[0;34m\u001b[0m\u001b[0m\n",
      "\u001b[0;32m~/opt/anaconda3/envs/tensorflow/lib/python3.7/site-packages/tensorflow_core/python/eager/def_function.py\u001b[0m in \u001b[0;36m__call__\u001b[0;34m(self, *args, **kwds)\u001b[0m\n\u001b[1;32m    569\u001b[0m         \u001b[0mxla_context\u001b[0m\u001b[0;34m.\u001b[0m\u001b[0mExit\u001b[0m\u001b[0;34m(\u001b[0m\u001b[0;34m)\u001b[0m\u001b[0;34m\u001b[0m\u001b[0;34m\u001b[0m\u001b[0m\n\u001b[1;32m    570\u001b[0m     \u001b[0;32melse\u001b[0m\u001b[0;34m:\u001b[0m\u001b[0;34m\u001b[0m\u001b[0;34m\u001b[0m\u001b[0m\n\u001b[0;32m--> 571\u001b[0;31m       \u001b[0mresult\u001b[0m \u001b[0;34m=\u001b[0m \u001b[0mself\u001b[0m\u001b[0;34m.\u001b[0m\u001b[0m_call\u001b[0m\u001b[0;34m(\u001b[0m\u001b[0;34m*\u001b[0m\u001b[0margs\u001b[0m\u001b[0;34m,\u001b[0m \u001b[0;34m**\u001b[0m\u001b[0mkwds\u001b[0m\u001b[0;34m)\u001b[0m\u001b[0;34m\u001b[0m\u001b[0;34m\u001b[0m\u001b[0m\n\u001b[0m\u001b[1;32m    572\u001b[0m \u001b[0;34m\u001b[0m\u001b[0m\n\u001b[1;32m    573\u001b[0m     \u001b[0;32mif\u001b[0m \u001b[0mtracing_count\u001b[0m \u001b[0;34m==\u001b[0m \u001b[0mself\u001b[0m\u001b[0;34m.\u001b[0m\u001b[0m_get_tracing_count\u001b[0m\u001b[0;34m(\u001b[0m\u001b[0;34m)\u001b[0m\u001b[0;34m:\u001b[0m\u001b[0;34m\u001b[0m\u001b[0;34m\u001b[0m\u001b[0m\n",
      "\u001b[0;32m~/opt/anaconda3/envs/tensorflow/lib/python3.7/site-packages/tensorflow_core/python/eager/def_function.py\u001b[0m in \u001b[0;36m_call\u001b[0;34m(self, *args, **kwds)\u001b[0m\n\u001b[1;32m    616\u001b[0m       \u001b[0;31m# This is the first call of __call__, so we have to initialize.\u001b[0m\u001b[0;34m\u001b[0m\u001b[0;34m\u001b[0m\u001b[0;34m\u001b[0m\u001b[0m\n\u001b[1;32m    617\u001b[0m       \u001b[0minitializers\u001b[0m \u001b[0;34m=\u001b[0m \u001b[0;34m[\u001b[0m\u001b[0;34m]\u001b[0m\u001b[0;34m\u001b[0m\u001b[0;34m\u001b[0m\u001b[0m\n\u001b[0;32m--> 618\u001b[0;31m       \u001b[0mself\u001b[0m\u001b[0;34m.\u001b[0m\u001b[0m_initialize\u001b[0m\u001b[0;34m(\u001b[0m\u001b[0margs\u001b[0m\u001b[0;34m,\u001b[0m \u001b[0mkwds\u001b[0m\u001b[0;34m,\u001b[0m \u001b[0madd_initializers_to\u001b[0m\u001b[0;34m=\u001b[0m\u001b[0minitializers\u001b[0m\u001b[0;34m)\u001b[0m\u001b[0;34m\u001b[0m\u001b[0;34m\u001b[0m\u001b[0m\n\u001b[0m\u001b[1;32m    619\u001b[0m     \u001b[0;32mfinally\u001b[0m\u001b[0;34m:\u001b[0m\u001b[0;34m\u001b[0m\u001b[0;34m\u001b[0m\u001b[0m\n\u001b[1;32m    620\u001b[0m       \u001b[0;31m# At this point we know that the initialization is complete (or less\u001b[0m\u001b[0;34m\u001b[0m\u001b[0;34m\u001b[0m\u001b[0;34m\u001b[0m\u001b[0m\n",
      "\u001b[0;32m~/opt/anaconda3/envs/tensorflow/lib/python3.7/site-packages/tensorflow_core/python/eager/def_function.py\u001b[0m in \u001b[0;36m_initialize\u001b[0;34m(self, args, kwds, add_initializers_to)\u001b[0m\n\u001b[1;32m    498\u001b[0m     self._concrete_stateful_fn = (\n\u001b[1;32m    499\u001b[0m         self._stateful_fn._get_concrete_function_internal_garbage_collected(  # pylint: disable=protected-access\n\u001b[0;32m--> 500\u001b[0;31m             *args, **kwds))\n\u001b[0m\u001b[1;32m    501\u001b[0m \u001b[0;34m\u001b[0m\u001b[0m\n\u001b[1;32m    502\u001b[0m     \u001b[0;32mdef\u001b[0m \u001b[0minvalid_creator_scope\u001b[0m\u001b[0;34m(\u001b[0m\u001b[0;34m*\u001b[0m\u001b[0munused_args\u001b[0m\u001b[0;34m,\u001b[0m \u001b[0;34m**\u001b[0m\u001b[0munused_kwds\u001b[0m\u001b[0;34m)\u001b[0m\u001b[0;34m:\u001b[0m\u001b[0;34m\u001b[0m\u001b[0;34m\u001b[0m\u001b[0m\n",
      "\u001b[0;32m~/opt/anaconda3/envs/tensorflow/lib/python3.7/site-packages/tensorflow_core/python/eager/function.py\u001b[0m in \u001b[0;36m_get_concrete_function_internal_garbage_collected\u001b[0;34m(self, *args, **kwargs)\u001b[0m\n\u001b[1;32m   2438\u001b[0m       \u001b[0margs\u001b[0m\u001b[0;34m,\u001b[0m \u001b[0mkwargs\u001b[0m \u001b[0;34m=\u001b[0m \u001b[0;32mNone\u001b[0m\u001b[0;34m,\u001b[0m \u001b[0;32mNone\u001b[0m\u001b[0;34m\u001b[0m\u001b[0;34m\u001b[0m\u001b[0m\n\u001b[1;32m   2439\u001b[0m     \u001b[0;32mwith\u001b[0m \u001b[0mself\u001b[0m\u001b[0;34m.\u001b[0m\u001b[0m_lock\u001b[0m\u001b[0;34m:\u001b[0m\u001b[0;34m\u001b[0m\u001b[0;34m\u001b[0m\u001b[0m\n\u001b[0;32m-> 2440\u001b[0;31m       \u001b[0mgraph_function\u001b[0m\u001b[0;34m,\u001b[0m \u001b[0m_\u001b[0m\u001b[0;34m,\u001b[0m \u001b[0m_\u001b[0m \u001b[0;34m=\u001b[0m \u001b[0mself\u001b[0m\u001b[0;34m.\u001b[0m\u001b[0m_maybe_define_function\u001b[0m\u001b[0;34m(\u001b[0m\u001b[0margs\u001b[0m\u001b[0;34m,\u001b[0m \u001b[0mkwargs\u001b[0m\u001b[0;34m)\u001b[0m\u001b[0;34m\u001b[0m\u001b[0;34m\u001b[0m\u001b[0m\n\u001b[0m\u001b[1;32m   2441\u001b[0m     \u001b[0;32mreturn\u001b[0m \u001b[0mgraph_function\u001b[0m\u001b[0;34m\u001b[0m\u001b[0;34m\u001b[0m\u001b[0m\n\u001b[1;32m   2442\u001b[0m \u001b[0;34m\u001b[0m\u001b[0m\n",
      "\u001b[0;32m~/opt/anaconda3/envs/tensorflow/lib/python3.7/site-packages/tensorflow_core/python/eager/function.py\u001b[0m in \u001b[0;36m_maybe_define_function\u001b[0;34m(self, args, kwargs)\u001b[0m\n\u001b[1;32m   2769\u001b[0m \u001b[0;34m\u001b[0m\u001b[0m\n\u001b[1;32m   2770\u001b[0m       \u001b[0mself\u001b[0m\u001b[0;34m.\u001b[0m\u001b[0m_function_cache\u001b[0m\u001b[0;34m.\u001b[0m\u001b[0mmissed\u001b[0m\u001b[0;34m.\u001b[0m\u001b[0madd\u001b[0m\u001b[0;34m(\u001b[0m\u001b[0mcall_context_key\u001b[0m\u001b[0;34m)\u001b[0m\u001b[0;34m\u001b[0m\u001b[0;34m\u001b[0m\u001b[0m\n\u001b[0;32m-> 2771\u001b[0;31m       \u001b[0mgraph_function\u001b[0m \u001b[0;34m=\u001b[0m \u001b[0mself\u001b[0m\u001b[0;34m.\u001b[0m\u001b[0m_create_graph_function\u001b[0m\u001b[0;34m(\u001b[0m\u001b[0margs\u001b[0m\u001b[0;34m,\u001b[0m \u001b[0mkwargs\u001b[0m\u001b[0;34m)\u001b[0m\u001b[0;34m\u001b[0m\u001b[0;34m\u001b[0m\u001b[0m\n\u001b[0m\u001b[1;32m   2772\u001b[0m       \u001b[0mself\u001b[0m\u001b[0;34m.\u001b[0m\u001b[0m_function_cache\u001b[0m\u001b[0;34m.\u001b[0m\u001b[0mprimary\u001b[0m\u001b[0;34m[\u001b[0m\u001b[0mcache_key\u001b[0m\u001b[0;34m]\u001b[0m \u001b[0;34m=\u001b[0m \u001b[0mgraph_function\u001b[0m\u001b[0;34m\u001b[0m\u001b[0;34m\u001b[0m\u001b[0m\n\u001b[1;32m   2773\u001b[0m       \u001b[0;32mreturn\u001b[0m \u001b[0mgraph_function\u001b[0m\u001b[0;34m,\u001b[0m \u001b[0margs\u001b[0m\u001b[0;34m,\u001b[0m \u001b[0mkwargs\u001b[0m\u001b[0;34m\u001b[0m\u001b[0;34m\u001b[0m\u001b[0m\n",
      "\u001b[0;32m~/opt/anaconda3/envs/tensorflow/lib/python3.7/site-packages/tensorflow_core/python/eager/function.py\u001b[0m in \u001b[0;36m_create_graph_function\u001b[0;34m(self, args, kwargs, override_flat_arg_shapes)\u001b[0m\n\u001b[1;32m   2659\u001b[0m             \u001b[0marg_names\u001b[0m\u001b[0;34m=\u001b[0m\u001b[0marg_names\u001b[0m\u001b[0;34m,\u001b[0m\u001b[0;34m\u001b[0m\u001b[0;34m\u001b[0m\u001b[0m\n\u001b[1;32m   2660\u001b[0m             \u001b[0moverride_flat_arg_shapes\u001b[0m\u001b[0;34m=\u001b[0m\u001b[0moverride_flat_arg_shapes\u001b[0m\u001b[0;34m,\u001b[0m\u001b[0;34m\u001b[0m\u001b[0;34m\u001b[0m\u001b[0m\n\u001b[0;32m-> 2661\u001b[0;31m             capture_by_value=self._capture_by_value),\n\u001b[0m\u001b[1;32m   2662\u001b[0m         \u001b[0mself\u001b[0m\u001b[0;34m.\u001b[0m\u001b[0m_function_attributes\u001b[0m\u001b[0;34m,\u001b[0m\u001b[0;34m\u001b[0m\u001b[0;34m\u001b[0m\u001b[0m\n\u001b[1;32m   2663\u001b[0m         \u001b[0;31m# Tell the ConcreteFunction to clean up its graph once it goes out of\u001b[0m\u001b[0;34m\u001b[0m\u001b[0;34m\u001b[0m\u001b[0;34m\u001b[0m\u001b[0m\n",
      "\u001b[0;32m~/opt/anaconda3/envs/tensorflow/lib/python3.7/site-packages/tensorflow_core/python/framework/func_graph.py\u001b[0m in \u001b[0;36mfunc_graph_from_py_func\u001b[0;34m(name, python_func, args, kwargs, signature, func_graph, autograph, autograph_options, add_control_dependencies, arg_names, op_return_value, collections, capture_by_value, override_flat_arg_shapes)\u001b[0m\n\u001b[1;32m    979\u001b[0m         \u001b[0m_\u001b[0m\u001b[0;34m,\u001b[0m \u001b[0moriginal_func\u001b[0m \u001b[0;34m=\u001b[0m \u001b[0mtf_decorator\u001b[0m\u001b[0;34m.\u001b[0m\u001b[0munwrap\u001b[0m\u001b[0;34m(\u001b[0m\u001b[0mpython_func\u001b[0m\u001b[0;34m)\u001b[0m\u001b[0;34m\u001b[0m\u001b[0;34m\u001b[0m\u001b[0m\n\u001b[1;32m    980\u001b[0m \u001b[0;34m\u001b[0m\u001b[0m\n\u001b[0;32m--> 981\u001b[0;31m       \u001b[0mfunc_outputs\u001b[0m \u001b[0;34m=\u001b[0m \u001b[0mpython_func\u001b[0m\u001b[0;34m(\u001b[0m\u001b[0;34m*\u001b[0m\u001b[0mfunc_args\u001b[0m\u001b[0;34m,\u001b[0m \u001b[0;34m**\u001b[0m\u001b[0mfunc_kwargs\u001b[0m\u001b[0;34m)\u001b[0m\u001b[0;34m\u001b[0m\u001b[0;34m\u001b[0m\u001b[0m\n\u001b[0m\u001b[1;32m    982\u001b[0m \u001b[0;34m\u001b[0m\u001b[0m\n\u001b[1;32m    983\u001b[0m       \u001b[0;31m# invariant: `func_outputs` contains only Tensors, CompositeTensors,\u001b[0m\u001b[0;34m\u001b[0m\u001b[0;34m\u001b[0m\u001b[0;34m\u001b[0m\u001b[0m\n",
      "\u001b[0;32m~/opt/anaconda3/envs/tensorflow/lib/python3.7/site-packages/tensorflow_core/python/eager/def_function.py\u001b[0m in \u001b[0;36mwrapped_fn\u001b[0;34m(*args, **kwds)\u001b[0m\n\u001b[1;32m    437\u001b[0m         \u001b[0;31m# __wrapped__ allows AutoGraph to swap in a converted function. We give\u001b[0m\u001b[0;34m\u001b[0m\u001b[0;34m\u001b[0m\u001b[0;34m\u001b[0m\u001b[0m\n\u001b[1;32m    438\u001b[0m         \u001b[0;31m# the function a weak reference to itself to avoid a reference cycle.\u001b[0m\u001b[0;34m\u001b[0m\u001b[0;34m\u001b[0m\u001b[0;34m\u001b[0m\u001b[0m\n\u001b[0;32m--> 439\u001b[0;31m         \u001b[0;32mreturn\u001b[0m \u001b[0mweak_wrapped_fn\u001b[0m\u001b[0;34m(\u001b[0m\u001b[0;34m)\u001b[0m\u001b[0;34m.\u001b[0m\u001b[0m__wrapped__\u001b[0m\u001b[0;34m(\u001b[0m\u001b[0;34m*\u001b[0m\u001b[0margs\u001b[0m\u001b[0;34m,\u001b[0m \u001b[0;34m**\u001b[0m\u001b[0mkwds\u001b[0m\u001b[0;34m)\u001b[0m\u001b[0;34m\u001b[0m\u001b[0;34m\u001b[0m\u001b[0m\n\u001b[0m\u001b[1;32m    440\u001b[0m     \u001b[0mweak_wrapped_fn\u001b[0m \u001b[0;34m=\u001b[0m \u001b[0mweakref\u001b[0m\u001b[0;34m.\u001b[0m\u001b[0mref\u001b[0m\u001b[0;34m(\u001b[0m\u001b[0mwrapped_fn\u001b[0m\u001b[0;34m)\u001b[0m\u001b[0;34m\u001b[0m\u001b[0;34m\u001b[0m\u001b[0m\n\u001b[1;32m    441\u001b[0m \u001b[0;34m\u001b[0m\u001b[0m\n",
      "\u001b[0;32m~/opt/anaconda3/envs/tensorflow/lib/python3.7/site-packages/tensorflow_core/python/keras/engine/training_v2_utils.py\u001b[0m in \u001b[0;36mdistributed_function\u001b[0;34m(input_iterator)\u001b[0m\n\u001b[1;32m     83\u001b[0m     \u001b[0margs\u001b[0m \u001b[0;34m=\u001b[0m \u001b[0m_prepare_feed_values\u001b[0m\u001b[0;34m(\u001b[0m\u001b[0mmodel\u001b[0m\u001b[0;34m,\u001b[0m \u001b[0minput_iterator\u001b[0m\u001b[0;34m,\u001b[0m \u001b[0mmode\u001b[0m\u001b[0;34m,\u001b[0m \u001b[0mstrategy\u001b[0m\u001b[0;34m)\u001b[0m\u001b[0;34m\u001b[0m\u001b[0;34m\u001b[0m\u001b[0m\n\u001b[1;32m     84\u001b[0m     outputs = strategy.experimental_run_v2(\n\u001b[0;32m---> 85\u001b[0;31m         per_replica_function, args=args)\n\u001b[0m\u001b[1;32m     86\u001b[0m     \u001b[0;31m# Out of PerReplica outputs reduce or pick values to return.\u001b[0m\u001b[0;34m\u001b[0m\u001b[0;34m\u001b[0m\u001b[0;34m\u001b[0m\u001b[0m\n\u001b[1;32m     87\u001b[0m     all_outputs = dist_utils.unwrap_output_dict(\n",
      "\u001b[0;32m~/opt/anaconda3/envs/tensorflow/lib/python3.7/site-packages/tensorflow_core/python/distribute/distribute_lib.py\u001b[0m in \u001b[0;36mexperimental_run_v2\u001b[0;34m(self, fn, args, kwargs)\u001b[0m\n\u001b[1;32m    812\u001b[0m       fn = autograph.tf_convert(\n\u001b[1;32m    813\u001b[0m           fn, autograph_ctx.control_status_ctx(), convert_by_default=False)\n\u001b[0;32m--> 814\u001b[0;31m       \u001b[0;32mreturn\u001b[0m \u001b[0mself\u001b[0m\u001b[0;34m.\u001b[0m\u001b[0m_extended\u001b[0m\u001b[0;34m.\u001b[0m\u001b[0mcall_for_each_replica\u001b[0m\u001b[0;34m(\u001b[0m\u001b[0mfn\u001b[0m\u001b[0;34m,\u001b[0m \u001b[0margs\u001b[0m\u001b[0;34m=\u001b[0m\u001b[0margs\u001b[0m\u001b[0;34m,\u001b[0m \u001b[0mkwargs\u001b[0m\u001b[0;34m=\u001b[0m\u001b[0mkwargs\u001b[0m\u001b[0;34m)\u001b[0m\u001b[0;34m\u001b[0m\u001b[0;34m\u001b[0m\u001b[0m\n\u001b[0m\u001b[1;32m    815\u001b[0m \u001b[0;34m\u001b[0m\u001b[0m\n\u001b[1;32m    816\u001b[0m   \u001b[0;32mdef\u001b[0m \u001b[0mreduce\u001b[0m\u001b[0;34m(\u001b[0m\u001b[0mself\u001b[0m\u001b[0;34m,\u001b[0m \u001b[0mreduce_op\u001b[0m\u001b[0;34m,\u001b[0m \u001b[0mvalue\u001b[0m\u001b[0;34m,\u001b[0m \u001b[0maxis\u001b[0m\u001b[0;34m)\u001b[0m\u001b[0;34m:\u001b[0m\u001b[0;34m\u001b[0m\u001b[0;34m\u001b[0m\u001b[0m\n",
      "\u001b[0;32m~/opt/anaconda3/envs/tensorflow/lib/python3.7/site-packages/tensorflow_core/python/distribute/distribute_lib.py\u001b[0m in \u001b[0;36mcall_for_each_replica\u001b[0;34m(self, fn, args, kwargs)\u001b[0m\n\u001b[1;32m   1872\u001b[0m       \u001b[0mkwargs\u001b[0m \u001b[0;34m=\u001b[0m \u001b[0;34m{\u001b[0m\u001b[0;34m}\u001b[0m\u001b[0;34m\u001b[0m\u001b[0;34m\u001b[0m\u001b[0m\n\u001b[1;32m   1873\u001b[0m     \u001b[0;32mwith\u001b[0m \u001b[0mself\u001b[0m\u001b[0;34m.\u001b[0m\u001b[0m_container_strategy\u001b[0m\u001b[0;34m(\u001b[0m\u001b[0;34m)\u001b[0m\u001b[0;34m.\u001b[0m\u001b[0mscope\u001b[0m\u001b[0;34m(\u001b[0m\u001b[0;34m)\u001b[0m\u001b[0;34m:\u001b[0m\u001b[0;34m\u001b[0m\u001b[0;34m\u001b[0m\u001b[0m\n\u001b[0;32m-> 1874\u001b[0;31m       \u001b[0;32mreturn\u001b[0m \u001b[0mself\u001b[0m\u001b[0;34m.\u001b[0m\u001b[0m_call_for_each_replica\u001b[0m\u001b[0;34m(\u001b[0m\u001b[0mfn\u001b[0m\u001b[0;34m,\u001b[0m \u001b[0margs\u001b[0m\u001b[0;34m,\u001b[0m \u001b[0mkwargs\u001b[0m\u001b[0;34m)\u001b[0m\u001b[0;34m\u001b[0m\u001b[0;34m\u001b[0m\u001b[0m\n\u001b[0m\u001b[1;32m   1875\u001b[0m \u001b[0;34m\u001b[0m\u001b[0m\n\u001b[1;32m   1876\u001b[0m   \u001b[0;32mdef\u001b[0m \u001b[0m_call_for_each_replica\u001b[0m\u001b[0;34m(\u001b[0m\u001b[0mself\u001b[0m\u001b[0;34m,\u001b[0m \u001b[0mfn\u001b[0m\u001b[0;34m,\u001b[0m \u001b[0margs\u001b[0m\u001b[0;34m,\u001b[0m \u001b[0mkwargs\u001b[0m\u001b[0;34m)\u001b[0m\u001b[0;34m:\u001b[0m\u001b[0;34m\u001b[0m\u001b[0;34m\u001b[0m\u001b[0m\n",
      "\u001b[0;32m~/opt/anaconda3/envs/tensorflow/lib/python3.7/site-packages/tensorflow_core/python/distribute/distribute_lib.py\u001b[0m in \u001b[0;36m_call_for_each_replica\u001b[0;34m(self, fn, args, kwargs)\u001b[0m\n\u001b[1;32m   2219\u001b[0m         \u001b[0mself\u001b[0m\u001b[0;34m.\u001b[0m\u001b[0m_container_strategy\u001b[0m\u001b[0;34m(\u001b[0m\u001b[0;34m)\u001b[0m\u001b[0;34m,\u001b[0m\u001b[0;34m\u001b[0m\u001b[0;34m\u001b[0m\u001b[0m\n\u001b[1;32m   2220\u001b[0m         replica_id_in_sync_group=constant_op.constant(0, dtypes.int32)):\n\u001b[0;32m-> 2221\u001b[0;31m       \u001b[0;32mreturn\u001b[0m \u001b[0mfn\u001b[0m\u001b[0;34m(\u001b[0m\u001b[0;34m*\u001b[0m\u001b[0margs\u001b[0m\u001b[0;34m,\u001b[0m \u001b[0;34m**\u001b[0m\u001b[0mkwargs\u001b[0m\u001b[0;34m)\u001b[0m\u001b[0;34m\u001b[0m\u001b[0;34m\u001b[0m\u001b[0m\n\u001b[0m\u001b[1;32m   2222\u001b[0m \u001b[0;34m\u001b[0m\u001b[0m\n\u001b[1;32m   2223\u001b[0m   \u001b[0;32mdef\u001b[0m \u001b[0m_reduce_to\u001b[0m\u001b[0;34m(\u001b[0m\u001b[0mself\u001b[0m\u001b[0;34m,\u001b[0m \u001b[0mreduce_op\u001b[0m\u001b[0;34m,\u001b[0m \u001b[0mvalue\u001b[0m\u001b[0;34m,\u001b[0m \u001b[0mdestinations\u001b[0m\u001b[0;34m)\u001b[0m\u001b[0;34m:\u001b[0m\u001b[0;34m\u001b[0m\u001b[0;34m\u001b[0m\u001b[0m\n",
      "\u001b[0;32m~/opt/anaconda3/envs/tensorflow/lib/python3.7/site-packages/tensorflow_core/python/autograph/impl/api.py\u001b[0m in \u001b[0;36mwrapper\u001b[0;34m(*args, **kwargs)\u001b[0m\n\u001b[1;32m    306\u001b[0m   \u001b[0;32mdef\u001b[0m \u001b[0mwrapper\u001b[0m\u001b[0;34m(\u001b[0m\u001b[0;34m*\u001b[0m\u001b[0margs\u001b[0m\u001b[0;34m,\u001b[0m \u001b[0;34m**\u001b[0m\u001b[0mkwargs\u001b[0m\u001b[0;34m)\u001b[0m\u001b[0;34m:\u001b[0m\u001b[0;34m\u001b[0m\u001b[0;34m\u001b[0m\u001b[0m\n\u001b[1;32m    307\u001b[0m     \u001b[0;32mwith\u001b[0m \u001b[0mag_ctx\u001b[0m\u001b[0;34m.\u001b[0m\u001b[0mControlStatusCtx\u001b[0m\u001b[0;34m(\u001b[0m\u001b[0mstatus\u001b[0m\u001b[0;34m=\u001b[0m\u001b[0mag_ctx\u001b[0m\u001b[0;34m.\u001b[0m\u001b[0mStatus\u001b[0m\u001b[0;34m.\u001b[0m\u001b[0mDISABLED\u001b[0m\u001b[0;34m)\u001b[0m\u001b[0;34m:\u001b[0m\u001b[0;34m\u001b[0m\u001b[0;34m\u001b[0m\u001b[0m\n\u001b[0;32m--> 308\u001b[0;31m       \u001b[0;32mreturn\u001b[0m \u001b[0mfunc\u001b[0m\u001b[0;34m(\u001b[0m\u001b[0;34m*\u001b[0m\u001b[0margs\u001b[0m\u001b[0;34m,\u001b[0m \u001b[0;34m**\u001b[0m\u001b[0mkwargs\u001b[0m\u001b[0;34m)\u001b[0m\u001b[0;34m\u001b[0m\u001b[0;34m\u001b[0m\u001b[0m\n\u001b[0m\u001b[1;32m    309\u001b[0m \u001b[0;34m\u001b[0m\u001b[0m\n\u001b[1;32m    310\u001b[0m   \u001b[0;32mif\u001b[0m \u001b[0minspect\u001b[0m\u001b[0;34m.\u001b[0m\u001b[0misfunction\u001b[0m\u001b[0;34m(\u001b[0m\u001b[0mfunc\u001b[0m\u001b[0;34m)\u001b[0m \u001b[0;32mor\u001b[0m \u001b[0minspect\u001b[0m\u001b[0;34m.\u001b[0m\u001b[0mismethod\u001b[0m\u001b[0;34m(\u001b[0m\u001b[0mfunc\u001b[0m\u001b[0;34m)\u001b[0m\u001b[0;34m:\u001b[0m\u001b[0;34m\u001b[0m\u001b[0;34m\u001b[0m\u001b[0m\n",
      "\u001b[0;32m~/opt/anaconda3/envs/tensorflow/lib/python3.7/site-packages/tensorflow_core/python/keras/engine/training_v2_utils.py\u001b[0m in \u001b[0;36mtrain_on_batch\u001b[0;34m(model, x, y, sample_weight, class_weight, reset_metrics, standalone)\u001b[0m\n\u001b[1;32m    431\u001b[0m       \u001b[0my\u001b[0m\u001b[0;34m,\u001b[0m\u001b[0;34m\u001b[0m\u001b[0;34m\u001b[0m\u001b[0m\n\u001b[1;32m    432\u001b[0m       \u001b[0msample_weights\u001b[0m\u001b[0;34m=\u001b[0m\u001b[0msample_weights\u001b[0m\u001b[0;34m,\u001b[0m\u001b[0;34m\u001b[0m\u001b[0;34m\u001b[0m\u001b[0m\n\u001b[0;32m--> 433\u001b[0;31m       output_loss_metrics=model._output_loss_metrics)\n\u001b[0m\u001b[1;32m    434\u001b[0m \u001b[0;34m\u001b[0m\u001b[0m\n\u001b[1;32m    435\u001b[0m   \u001b[0;32mif\u001b[0m \u001b[0mreset_metrics\u001b[0m\u001b[0;34m:\u001b[0m\u001b[0;34m\u001b[0m\u001b[0;34m\u001b[0m\u001b[0m\n",
      "\u001b[0;32m~/opt/anaconda3/envs/tensorflow/lib/python3.7/site-packages/tensorflow_core/python/keras/engine/training_eager.py\u001b[0m in \u001b[0;36mtrain_on_batch\u001b[0;34m(model, inputs, targets, sample_weights, output_loss_metrics)\u001b[0m\n\u001b[1;32m    308\u001b[0m           \u001b[0msample_weights\u001b[0m\u001b[0;34m=\u001b[0m\u001b[0msample_weights\u001b[0m\u001b[0;34m,\u001b[0m\u001b[0;34m\u001b[0m\u001b[0;34m\u001b[0m\u001b[0m\n\u001b[1;32m    309\u001b[0m           \u001b[0mtraining\u001b[0m\u001b[0;34m=\u001b[0m\u001b[0;32mTrue\u001b[0m\u001b[0;34m,\u001b[0m\u001b[0;34m\u001b[0m\u001b[0;34m\u001b[0m\u001b[0m\n\u001b[0;32m--> 310\u001b[0;31m           output_loss_metrics=output_loss_metrics))\n\u001b[0m\u001b[1;32m    311\u001b[0m   \u001b[0;32mif\u001b[0m \u001b[0;32mnot\u001b[0m \u001b[0misinstance\u001b[0m\u001b[0;34m(\u001b[0m\u001b[0mouts\u001b[0m\u001b[0;34m,\u001b[0m \u001b[0mlist\u001b[0m\u001b[0;34m)\u001b[0m\u001b[0;34m:\u001b[0m\u001b[0;34m\u001b[0m\u001b[0;34m\u001b[0m\u001b[0m\n\u001b[1;32m    312\u001b[0m     \u001b[0mouts\u001b[0m \u001b[0;34m=\u001b[0m \u001b[0;34m[\u001b[0m\u001b[0mouts\u001b[0m\u001b[0;34m]\u001b[0m\u001b[0;34m\u001b[0m\u001b[0;34m\u001b[0m\u001b[0m\n",
      "\u001b[0;32m~/opt/anaconda3/envs/tensorflow/lib/python3.7/site-packages/tensorflow_core/python/keras/engine/training_eager.py\u001b[0m in \u001b[0;36m_process_single_batch\u001b[0;34m(model, inputs, targets, output_loss_metrics, sample_weights, training)\u001b[0m\n\u001b[1;32m    250\u001b[0m               \u001b[0moutput_loss_metrics\u001b[0m\u001b[0;34m=\u001b[0m\u001b[0moutput_loss_metrics\u001b[0m\u001b[0;34m,\u001b[0m\u001b[0;34m\u001b[0m\u001b[0;34m\u001b[0m\u001b[0m\n\u001b[1;32m    251\u001b[0m               \u001b[0msample_weights\u001b[0m\u001b[0;34m=\u001b[0m\u001b[0msample_weights\u001b[0m\u001b[0;34m,\u001b[0m\u001b[0;34m\u001b[0m\u001b[0;34m\u001b[0m\u001b[0m\n\u001b[0;32m--> 252\u001b[0;31m               training=training))\n\u001b[0m\u001b[1;32m    253\u001b[0m       \u001b[0;32mif\u001b[0m \u001b[0mtotal_loss\u001b[0m \u001b[0;32mis\u001b[0m \u001b[0;32mNone\u001b[0m\u001b[0;34m:\u001b[0m\u001b[0;34m\u001b[0m\u001b[0;34m\u001b[0m\u001b[0m\n\u001b[1;32m    254\u001b[0m         raise ValueError('The model cannot be run '\n",
      "\u001b[0;32m~/opt/anaconda3/envs/tensorflow/lib/python3.7/site-packages/tensorflow_core/python/keras/engine/training_eager.py\u001b[0m in \u001b[0;36m_model_loss\u001b[0;34m(model, inputs, targets, output_loss_metrics, sample_weights, training)\u001b[0m\n\u001b[1;32m    165\u001b[0m \u001b[0;34m\u001b[0m\u001b[0m\n\u001b[1;32m    166\u001b[0m         \u001b[0;32mif\u001b[0m \u001b[0mhasattr\u001b[0m\u001b[0;34m(\u001b[0m\u001b[0mloss_fn\u001b[0m\u001b[0;34m,\u001b[0m \u001b[0;34m'reduction'\u001b[0m\u001b[0;34m)\u001b[0m\u001b[0;34m:\u001b[0m\u001b[0;34m\u001b[0m\u001b[0;34m\u001b[0m\u001b[0m\n\u001b[0;32m--> 167\u001b[0;31m           \u001b[0mper_sample_losses\u001b[0m \u001b[0;34m=\u001b[0m \u001b[0mloss_fn\u001b[0m\u001b[0;34m.\u001b[0m\u001b[0mcall\u001b[0m\u001b[0;34m(\u001b[0m\u001b[0mtargets\u001b[0m\u001b[0;34m[\u001b[0m\u001b[0mi\u001b[0m\u001b[0;34m]\u001b[0m\u001b[0;34m,\u001b[0m \u001b[0mouts\u001b[0m\u001b[0;34m[\u001b[0m\u001b[0mi\u001b[0m\u001b[0;34m]\u001b[0m\u001b[0;34m)\u001b[0m\u001b[0;34m\u001b[0m\u001b[0;34m\u001b[0m\u001b[0m\n\u001b[0m\u001b[1;32m    168\u001b[0m           weighted_losses = losses_utils.compute_weighted_loss(\n\u001b[1;32m    169\u001b[0m               \u001b[0mper_sample_losses\u001b[0m\u001b[0;34m,\u001b[0m\u001b[0;34m\u001b[0m\u001b[0;34m\u001b[0m\u001b[0m\n",
      "\u001b[0;32m~/opt/anaconda3/envs/tensorflow/lib/python3.7/site-packages/tensorflow_core/python/keras/losses.py\u001b[0m in \u001b[0;36mcall\u001b[0;34m(self, y_true, y_pred)\u001b[0m\n\u001b[1;32m    230\u001b[0m       y_pred, y_true = tf_losses_util.squeeze_or_expand_dimensions(\n\u001b[1;32m    231\u001b[0m           y_pred, y_true)\n\u001b[0;32m--> 232\u001b[0;31m     \u001b[0;32mreturn\u001b[0m \u001b[0mself\u001b[0m\u001b[0;34m.\u001b[0m\u001b[0mfn\u001b[0m\u001b[0;34m(\u001b[0m\u001b[0my_true\u001b[0m\u001b[0;34m,\u001b[0m \u001b[0my_pred\u001b[0m\u001b[0;34m,\u001b[0m \u001b[0;34m**\u001b[0m\u001b[0mself\u001b[0m\u001b[0;34m.\u001b[0m\u001b[0m_fn_kwargs\u001b[0m\u001b[0;34m)\u001b[0m\u001b[0;34m\u001b[0m\u001b[0;34m\u001b[0m\u001b[0m\n\u001b[0m\u001b[1;32m    233\u001b[0m \u001b[0;34m\u001b[0m\u001b[0m\n\u001b[1;32m    234\u001b[0m   \u001b[0;32mdef\u001b[0m \u001b[0mget_config\u001b[0m\u001b[0;34m(\u001b[0m\u001b[0mself\u001b[0m\u001b[0;34m)\u001b[0m\u001b[0;34m:\u001b[0m\u001b[0;34m\u001b[0m\u001b[0;34m\u001b[0m\u001b[0m\n",
      "\u001b[0;32m~/opt/anaconda3/envs/tensorflow/lib/python3.7/site-packages/tensorflow_core/python/keras/losses.py\u001b[0m in \u001b[0;36msparse_categorical_crossentropy\u001b[0;34m(y_true, y_pred, from_logits, axis)\u001b[0m\n\u001b[1;32m   1099\u001b[0m   \u001b[0my_true\u001b[0m \u001b[0;34m=\u001b[0m \u001b[0mmath_ops\u001b[0m\u001b[0;34m.\u001b[0m\u001b[0mcast\u001b[0m\u001b[0;34m(\u001b[0m\u001b[0my_true\u001b[0m\u001b[0;34m,\u001b[0m \u001b[0my_pred\u001b[0m\u001b[0;34m.\u001b[0m\u001b[0mdtype\u001b[0m\u001b[0;34m)\u001b[0m\u001b[0;34m\u001b[0m\u001b[0;34m\u001b[0m\u001b[0m\n\u001b[1;32m   1100\u001b[0m   return K.sparse_categorical_crossentropy(\n\u001b[0;32m-> 1101\u001b[0;31m       y_true, y_pred, from_logits=from_logits, axis=axis)\n\u001b[0m\u001b[1;32m   1102\u001b[0m \u001b[0;34m\u001b[0m\u001b[0m\n\u001b[1;32m   1103\u001b[0m \u001b[0;34m\u001b[0m\u001b[0m\n",
      "\u001b[0;32m~/opt/anaconda3/envs/tensorflow/lib/python3.7/site-packages/tensorflow_core/python/keras/backend.py\u001b[0m in \u001b[0;36msparse_categorical_crossentropy\u001b[0;34m(target, output, from_logits, axis)\u001b[0m\n\u001b[1;32m   4633\u001b[0m     \u001b[0;32mwith\u001b[0m \u001b[0mget_graph\u001b[0m\u001b[0;34m(\u001b[0m\u001b[0;34m)\u001b[0m\u001b[0;34m.\u001b[0m\u001b[0mas_default\u001b[0m\u001b[0;34m(\u001b[0m\u001b[0;34m)\u001b[0m\u001b[0;34m:\u001b[0m\u001b[0;34m\u001b[0m\u001b[0;34m\u001b[0m\u001b[0m\n\u001b[1;32m   4634\u001b[0m       res = nn.sparse_softmax_cross_entropy_with_logits_v2(\n\u001b[0;32m-> 4635\u001b[0;31m           labels=target, logits=output)\n\u001b[0m\u001b[1;32m   4636\u001b[0m   \u001b[0;32melse\u001b[0m\u001b[0;34m:\u001b[0m\u001b[0;34m\u001b[0m\u001b[0;34m\u001b[0m\u001b[0m\n\u001b[1;32m   4637\u001b[0m     res = nn.sparse_softmax_cross_entropy_with_logits_v2(\n",
      "\u001b[0;32m~/opt/anaconda3/envs/tensorflow/lib/python3.7/site-packages/tensorflow_core/python/ops/nn_ops.py\u001b[0m in \u001b[0;36msparse_softmax_cross_entropy_with_logits_v2\u001b[0;34m(labels, logits, name)\u001b[0m\n\u001b[1;32m   3589\u001b[0m   \"\"\"\n\u001b[1;32m   3590\u001b[0m   return sparse_softmax_cross_entropy_with_logits(\n\u001b[0;32m-> 3591\u001b[0;31m       labels=labels, logits=logits, name=name)\n\u001b[0m\u001b[1;32m   3592\u001b[0m \u001b[0;34m\u001b[0m\u001b[0m\n\u001b[1;32m   3593\u001b[0m \u001b[0;34m\u001b[0m\u001b[0m\n",
      "\u001b[0;32m~/opt/anaconda3/envs/tensorflow/lib/python3.7/site-packages/tensorflow_core/python/ops/nn_ops.py\u001b[0m in \u001b[0;36msparse_softmax_cross_entropy_with_logits\u001b[0;34m(_sentinel, labels, logits, name)\u001b[0m\n\u001b[1;32m   3505\u001b[0m                        \u001b[0;34m\"should equal the shape of logits except for the last \"\u001b[0m\u001b[0;34m\u001b[0m\u001b[0;34m\u001b[0m\u001b[0m\n\u001b[1;32m   3506\u001b[0m                        \"dimension (received %s).\" % (labels_static_shape,\n\u001b[0;32m-> 3507\u001b[0;31m                                                      logits.get_shape()))\n\u001b[0m\u001b[1;32m   3508\u001b[0m     \u001b[0;31m# Check if no reshapes are required.\u001b[0m\u001b[0;34m\u001b[0m\u001b[0;34m\u001b[0m\u001b[0;34m\u001b[0m\u001b[0m\n\u001b[1;32m   3509\u001b[0m     \u001b[0;32mif\u001b[0m \u001b[0mlogits\u001b[0m\u001b[0;34m.\u001b[0m\u001b[0mget_shape\u001b[0m\u001b[0;34m(\u001b[0m\u001b[0;34m)\u001b[0m\u001b[0;34m.\u001b[0m\u001b[0mndims\u001b[0m \u001b[0;34m==\u001b[0m \u001b[0;36m2\u001b[0m\u001b[0;34m:\u001b[0m\u001b[0;34m\u001b[0m\u001b[0;34m\u001b[0m\u001b[0m\n",
      "\u001b[0;31mValueError\u001b[0m: Shape mismatch: The shape of labels (received (32, 1)) should equal the shape of logits except for the last dimension (received (32, 144, 300))."
     ]
    }
   ],
   "source": [
    "history = model.fit(X_train, y_train, epochs = 10, validation_data=(X_valid, y_valid))"
   ]
  },
  {
   "cell_type": "code",
   "execution_count": 44,
   "metadata": {},
   "outputs": [
    {
     "data": {
      "text/plain": [
       "{'batch_size': 32,\n",
       " 'epochs': 10,\n",
       " 'steps': 625,\n",
       " 'samples': 20000,\n",
       " 'verbose': 0,\n",
       " 'do_validation': True,\n",
       " 'metrics': ['loss', 'accuracy', 'val_loss', 'val_accuracy']}"
      ]
     },
     "execution_count": 44,
     "metadata": {},
     "output_type": "execute_result"
    }
   ],
   "source": [
    "history.params"
   ]
  },
  {
   "cell_type": "code",
   "execution_count": 35,
   "metadata": {},
   "outputs": [
    {
     "name": "stdout",
     "output_type": "stream",
     "text": [
      "19512/19512 [==============================] - 1s 28us/sample - loss: 13.6416 - accuracy: 0.1685\n"
     ]
    },
    {
     "data": {
      "text/plain": [
       "[13.641637155099598, 0.16846043]"
      ]
     },
     "execution_count": 35,
     "metadata": {},
     "output_type": "execute_result"
    }
   ],
   "source": [
    "model.evaluate(X_valid, y_valid)"
   ]
  },
  {
   "cell_type": "code",
   "execution_count": 52,
   "metadata": {},
   "outputs": [
    {
     "data": {
      "text/plain": [
       "2.0"
      ]
     },
     "execution_count": 52,
     "metadata": {},
     "output_type": "execute_result"
    }
   ],
   "source": [
    "y_valid[0]"
   ]
  },
  {
   "cell_type": "code",
   "execution_count": 42,
   "metadata": {},
   "outputs": [
    {
     "data": {
      "image/png": "[encoded data removed]",
      "text/plain": [
       "<Figure size 432x288 with 1 Axes>"
      ]
     },
     "metadata": {
      "needs_background": "light"
     },
     "output_type": "display_data"
    }
   ],
   "source": [
    "plot_learning_curves(history.history[\"loss\"], history.history[\"val_loss\"])\n",
    "plt.show()"
   ]
  },
  {
   "cell_type": "code",
   "execution_count": 53,
   "metadata": {},
   "outputs": [
    {
     "ename": "NameError",
     "evalue": "name 'n_steps' is not defined",
     "output_type": "error",
     "traceback": [
      "\u001b[0;31m---------------------------------------------------------------------------\u001b[0m",
      "\u001b[0;31mNameError\u001b[0m                                 Traceback (most recent call last)",
      "\u001b[0;32m<ipython-input-53-4e544aba4e26>\u001b[0m in \u001b[0;36m<module>\u001b[0;34m\u001b[0m\n\u001b[1;32m      1\u001b[0m \u001b[0my_pred\u001b[0m \u001b[0;34m=\u001b[0m \u001b[0mmodel\u001b[0m\u001b[0;34m.\u001b[0m\u001b[0mpredict\u001b[0m\u001b[0;34m(\u001b[0m\u001b[0mX_valid\u001b[0m\u001b[0;34m)\u001b[0m\u001b[0;34m\u001b[0m\u001b[0;34m\u001b[0m\u001b[0m\n\u001b[0;32m----> 2\u001b[0;31m \u001b[0mplot_series\u001b[0m\u001b[0;34m(\u001b[0m\u001b[0mX_valid\u001b[0m\u001b[0;34m[\u001b[0m\u001b[0;34m:\u001b[0m\u001b[0;34m,\u001b[0m \u001b[0;36m1\u001b[0m\u001b[0;34m]\u001b[0m\u001b[0;34m,\u001b[0m \u001b[0my_valid\u001b[0m\u001b[0;34m[\u001b[0m\u001b[0;34m:\u001b[0m\u001b[0;34m]\u001b[0m\u001b[0;34m)\u001b[0m\u001b[0;34m\u001b[0m\u001b[0;34m\u001b[0m\u001b[0m\n\u001b[0m\u001b[1;32m      3\u001b[0m \u001b[0mplt\u001b[0m\u001b[0;34m.\u001b[0m\u001b[0mshow\u001b[0m\u001b[0;34m(\u001b[0m\u001b[0;34m)\u001b[0m\u001b[0;34m\u001b[0m\u001b[0;34m\u001b[0m\u001b[0m\n",
      "\u001b[0;32m<ipython-input-46-5a41f876badf>\u001b[0m in \u001b[0;36mplot_series\u001b[0;34m(series, y, y_pred, x_label, y_label)\u001b[0m\n\u001b[1;32m      2\u001b[0m     \u001b[0mplt\u001b[0m\u001b[0;34m.\u001b[0m\u001b[0mplot\u001b[0m\u001b[0;34m(\u001b[0m\u001b[0mseries\u001b[0m\u001b[0;34m,\u001b[0m \u001b[0;34m\".-\"\u001b[0m\u001b[0;34m)\u001b[0m\u001b[0;34m\u001b[0m\u001b[0;34m\u001b[0m\u001b[0m\n\u001b[1;32m      3\u001b[0m     \u001b[0;32mif\u001b[0m \u001b[0my\u001b[0m \u001b[0;32mis\u001b[0m \u001b[0;32mnot\u001b[0m \u001b[0;32mNone\u001b[0m\u001b[0;34m:\u001b[0m\u001b[0;34m\u001b[0m\u001b[0;34m\u001b[0m\u001b[0m\n\u001b[0;32m----> 4\u001b[0;31m         \u001b[0mplt\u001b[0m\u001b[0;34m.\u001b[0m\u001b[0mplot\u001b[0m\u001b[0;34m(\u001b[0m\u001b[0mn_steps\u001b[0m\u001b[0;34m,\u001b[0m \u001b[0my\u001b[0m\u001b[0;34m,\u001b[0m \u001b[0;34m\"bx\"\u001b[0m\u001b[0;34m,\u001b[0m \u001b[0mmarkersize\u001b[0m\u001b[0;34m=\u001b[0m\u001b[0;36m10\u001b[0m\u001b[0;34m)\u001b[0m\u001b[0;34m\u001b[0m\u001b[0;34m\u001b[0m\u001b[0m\n\u001b[0m\u001b[1;32m      5\u001b[0m     \u001b[0;32mif\u001b[0m \u001b[0my_pred\u001b[0m \u001b[0;32mis\u001b[0m \u001b[0;32mnot\u001b[0m \u001b[0;32mNone\u001b[0m\u001b[0;34m:\u001b[0m\u001b[0;34m\u001b[0m\u001b[0;34m\u001b[0m\u001b[0m\n\u001b[1;32m      6\u001b[0m         \u001b[0mplt\u001b[0m\u001b[0;34m.\u001b[0m\u001b[0mplot\u001b[0m\u001b[0;34m(\u001b[0m\u001b[0mn_steps\u001b[0m\u001b[0;34m,\u001b[0m \u001b[0my_pred\u001b[0m\u001b[0;34m,\u001b[0m \u001b[0;34m\"ro\"\u001b[0m\u001b[0;34m)\u001b[0m\u001b[0;34m\u001b[0m\u001b[0;34m\u001b[0m\u001b[0m\n",
      "\u001b[0;31mNameError\u001b[0m: name 'n_steps' is not defined"
     ]
    },
    {
     "data": {
      "image/png": "[encoded data removed]",
      "text/plain": [
       "<Figure size 432x288 with 1 Axes>"
      ]
     },
     "metadata": {
      "needs_background": "light"
     },
     "output_type": "display_data"
    }
   ],
   "source": [
    "y_pred = model.predict(X_valid)\n",
    "plot_series(X_valid[:, 1], y_valid[:])\n",
    "plt.show()\n"
   ]
  },
  {
   "cell_type": "markdown",
   "metadata": {},
   "source": [
    "#### Simple RNN"
   ]
  },
  {
   "cell_type": "code",
   "execution_count": 55,
   "metadata": {},
   "outputs": [],
   "source": [
    "model = keras.models.Sequential([\n",
    "    keras.layers.SimpleRNN(20, return_sequences=True, input_shape=[None, 1]),\n",
    "])"
   ]
  },
  {
   "cell_type": "code",
   "execution_count": 84,
   "metadata": {},
   "outputs": [
    {
     "name": "stdout",
     "output_type": "stream",
     "text": [
      "(20000, 144, 1)\n",
      "(20000, 1)\n"
     ]
    }
   ],
   "source": [
    "print(X_train.shape)\n",
    "print(y_train.shape)"
   ]
  },
  {
   "cell_type": "code",
   "execution_count": 73,
   "metadata": {},
   "outputs": [],
   "source": [
    "X_train = X_train.reshape(20000, 144, 1)"
   ]
  },
  {
   "cell_type": "code",
   "execution_count": 76,
   "metadata": {},
   "outputs": [],
   "source": [
    "y_train = y_train.reshape(20000,1)"
   ]
  },
  {
   "cell_type": "code",
   "execution_count": 83,
   "metadata": {},
   "outputs": [
    {
     "name": "stdout",
     "output_type": "stream",
     "text": [
      "(19512, 144, 1)\n",
      "(19512, 1)\n"
     ]
    }
   ],
   "source": [
    "print(X_valid.shape)\n",
    "print(y_valid.shape)"
   ]
  },
  {
   "cell_type": "code",
   "execution_count": 80,
   "metadata": {},
   "outputs": [],
   "source": [
    "X_valid = X_valid.reshape(19512,144,1)\n",
    "y_valid = y_valid.reshape(19512,1)"
   ]
  },
  {
   "cell_type": "code",
   "execution_count": 81,
   "metadata": {},
   "outputs": [
    {
     "name": "stdout",
     "output_type": "stream",
     "text": [
      "Train on 20000 samples, validate on 19512 samples\n",
      "Epoch 1/5\n",
      "   32/20000 [..............................] - ETA: 2:40"
     ]
    },
    {
     "ename": "ValueError",
     "evalue": "Dimensions must be equal, but are 144 and 32 for '{{node loss/simple_rnn_3_loss/SquaredDifference}} = SquaredDifference[T=DT_FLOAT](sequential_2/simple_rnn_3/transpose_1, Cast_1)' with input shapes: [32,144,20], [32,1].",
     "output_type": "error",
     "traceback": [
      "\u001b[0;31m---------------------------------------------------------------------------\u001b[0m",
      "\u001b[0;31mInvalidArgumentError\u001b[0m                      Traceback (most recent call last)",
      "\u001b[0;32m~/opt/anaconda3/envs/tensorflow/lib/python3.7/site-packages/tensorflow_core/python/framework/ops.py\u001b[0m in \u001b[0;36m_create_c_op\u001b[0;34m(graph, node_def, inputs, control_inputs, op_def)\u001b[0m\n\u001b[1;32m   1659\u001b[0m   \u001b[0;32mtry\u001b[0m\u001b[0;34m:\u001b[0m\u001b[0;34m\u001b[0m\u001b[0;34m\u001b[0m\u001b[0m\n\u001b[0;32m-> 1660\u001b[0;31m     \u001b[0mc_op\u001b[0m \u001b[0;34m=\u001b[0m \u001b[0mc_api\u001b[0m\u001b[0;34m.\u001b[0m\u001b[0mTF_FinishOperation\u001b[0m\u001b[0;34m(\u001b[0m\u001b[0mop_desc\u001b[0m\u001b[0;34m)\u001b[0m\u001b[0;34m\u001b[0m\u001b[0;34m\u001b[0m\u001b[0m\n\u001b[0m\u001b[1;32m   1661\u001b[0m   \u001b[0;32mexcept\u001b[0m \u001b[0merrors\u001b[0m\u001b[0;34m.\u001b[0m\u001b[0mInvalidArgumentError\u001b[0m \u001b[0;32mas\u001b[0m \u001b[0me\u001b[0m\u001b[0;34m:\u001b[0m\u001b[0;34m\u001b[0m\u001b[0;34m\u001b[0m\u001b[0m\n",
      "\u001b[0;31mInvalidArgumentError\u001b[0m: Dimensions must be equal, but are 144 and 32 for '{{node loss/simple_rnn_3_loss/SquaredDifference}} = SquaredDifference[T=DT_FLOAT](sequential_2/simple_rnn_3/transpose_1, Cast_1)' with input shapes: [32,144,20], [32,1].",
      "\nDuring handling of the above exception, another exception occurred:\n",
      "\u001b[0;31mValueError\u001b[0m                                Traceback (most recent call last)",
      "\u001b[0;32m<ipython-input-81-2d901fdcab3d>\u001b[0m in \u001b[0;36m<module>\u001b[0;34m\u001b[0m\n\u001b[1;32m      1\u001b[0m \u001b[0mmodel\u001b[0m\u001b[0;34m.\u001b[0m\u001b[0mcompile\u001b[0m\u001b[0;34m(\u001b[0m\u001b[0mloss\u001b[0m\u001b[0;34m=\u001b[0m\u001b[0;34m\"mse\"\u001b[0m\u001b[0;34m,\u001b[0m \u001b[0moptimizer\u001b[0m\u001b[0;34m=\u001b[0m\u001b[0;34m\"adam\"\u001b[0m\u001b[0;34m)\u001b[0m\u001b[0;34m\u001b[0m\u001b[0;34m\u001b[0m\u001b[0m\n\u001b[1;32m      2\u001b[0m history = model.fit(X_train, y_train, epochs=5,\n\u001b[0;32m----> 3\u001b[0;31m                     validation_data=(X_valid, y_valid))\n\u001b[0m",
      "\u001b[0;32m~/opt/anaconda3/envs/tensorflow/lib/python3.7/site-packages/tensorflow_core/python/keras/engine/training.py\u001b[0m in \u001b[0;36mfit\u001b[0;34m(self, x, y, batch_size, epochs, verbose, callbacks, validation_split, validation_data, shuffle, class_weight, sample_weight, initial_epoch, steps_per_epoch, validation_steps, validation_freq, max_queue_size, workers, use_multiprocessing, **kwargs)\u001b[0m\n\u001b[1;32m    720\u001b[0m         \u001b[0mmax_queue_size\u001b[0m\u001b[0;34m=\u001b[0m\u001b[0mmax_queue_size\u001b[0m\u001b[0;34m,\u001b[0m\u001b[0;34m\u001b[0m\u001b[0;34m\u001b[0m\u001b[0m\n\u001b[1;32m    721\u001b[0m         \u001b[0mworkers\u001b[0m\u001b[0;34m=\u001b[0m\u001b[0mworkers\u001b[0m\u001b[0;34m,\u001b[0m\u001b[0;34m\u001b[0m\u001b[0;34m\u001b[0m\u001b[0m\n\u001b[0;32m--> 722\u001b[0;31m         use_multiprocessing=use_multiprocessing)\n\u001b[0m\u001b[1;32m    723\u001b[0m \u001b[0;34m\u001b[0m\u001b[0m\n\u001b[1;32m    724\u001b[0m   def evaluate(self,\n",
      "\u001b[0;32m~/opt/anaconda3/envs/tensorflow/lib/python3.7/site-packages/tensorflow_core/python/keras/engine/training_v2.py\u001b[0m in \u001b[0;36mfit\u001b[0;34m(self, model, x, y, batch_size, epochs, verbose, callbacks, validation_split, validation_data, shuffle, class_weight, sample_weight, initial_epoch, steps_per_epoch, validation_steps, validation_freq, max_queue_size, workers, use_multiprocessing, **kwargs)\u001b[0m\n\u001b[1;32m    339\u001b[0m                 \u001b[0mmode\u001b[0m\u001b[0;34m=\u001b[0m\u001b[0mModeKeys\u001b[0m\u001b[0;34m.\u001b[0m\u001b[0mTRAIN\u001b[0m\u001b[0;34m,\u001b[0m\u001b[0;34m\u001b[0m\u001b[0;34m\u001b[0m\u001b[0m\n\u001b[1;32m    340\u001b[0m                 \u001b[0mtraining_context\u001b[0m\u001b[0;34m=\u001b[0m\u001b[0mtraining_context\u001b[0m\u001b[0;34m,\u001b[0m\u001b[0;34m\u001b[0m\u001b[0;34m\u001b[0m\u001b[0m\n\u001b[0;32m--> 341\u001b[0;31m                 total_epochs=epochs)\n\u001b[0m\u001b[1;32m    342\u001b[0m             \u001b[0mcbks\u001b[0m\u001b[0;34m.\u001b[0m\u001b[0mmake_logs\u001b[0m\u001b[0;34m(\u001b[0m\u001b[0mmodel\u001b[0m\u001b[0;34m,\u001b[0m \u001b[0mepoch_logs\u001b[0m\u001b[0;34m,\u001b[0m \u001b[0mtraining_result\u001b[0m\u001b[0;34m,\u001b[0m \u001b[0mModeKeys\u001b[0m\u001b[0;34m.\u001b[0m\u001b[0mTRAIN\u001b[0m\u001b[0;34m)\u001b[0m\u001b[0;34m\u001b[0m\u001b[0;34m\u001b[0m\u001b[0m\n\u001b[1;32m    343\u001b[0m \u001b[0;34m\u001b[0m\u001b[0m\n",
      "\u001b[0;32m~/opt/anaconda3/envs/tensorflow/lib/python3.7/site-packages/tensorflow_core/python/keras/engine/training_v2.py\u001b[0m in \u001b[0;36mrun_one_epoch\u001b[0;34m(model, iterator, execution_function, dataset_size, batch_size, strategy, steps_per_epoch, num_samples, mode, training_context, total_epochs)\u001b[0m\n\u001b[1;32m    126\u001b[0m         step=step, mode=mode, size=current_batch_size) as batch_logs:\n\u001b[1;32m    127\u001b[0m       \u001b[0;32mtry\u001b[0m\u001b[0;34m:\u001b[0m\u001b[0;34m\u001b[0m\u001b[0;34m\u001b[0m\u001b[0m\n\u001b[0;32m--> 128\u001b[0;31m         \u001b[0mbatch_outs\u001b[0m \u001b[0;34m=\u001b[0m \u001b[0mexecution_function\u001b[0m\u001b[0;34m(\u001b[0m\u001b[0miterator\u001b[0m\u001b[0;34m)\u001b[0m\u001b[0;34m\u001b[0m\u001b[0;34m\u001b[0m\u001b[0m\n\u001b[0m\u001b[1;32m    129\u001b[0m       \u001b[0;32mexcept\u001b[0m \u001b[0;34m(\u001b[0m\u001b[0mStopIteration\u001b[0m\u001b[0;34m,\u001b[0m \u001b[0merrors\u001b[0m\u001b[0;34m.\u001b[0m\u001b[0mOutOfRangeError\u001b[0m\u001b[0;34m)\u001b[0m\u001b[0;34m:\u001b[0m\u001b[0;34m\u001b[0m\u001b[0;34m\u001b[0m\u001b[0m\n\u001b[1;32m    130\u001b[0m         \u001b[0;31m# TODO(kaftan): File bug about tf function and errors.OutOfRangeError?\u001b[0m\u001b[0;34m\u001b[0m\u001b[0;34m\u001b[0m\u001b[0;34m\u001b[0m\u001b[0m\n",
      "\u001b[0;32m~/opt/anaconda3/envs/tensorflow/lib/python3.7/site-packages/tensorflow_core/python/keras/engine/training_v2_utils.py\u001b[0m in \u001b[0;36mexecution_function\u001b[0;34m(input_fn)\u001b[0m\n\u001b[1;32m     96\u001b[0m     \u001b[0;31m# `numpy` translates Tensors to values in Eager mode.\u001b[0m\u001b[0;34m\u001b[0m\u001b[0;34m\u001b[0m\u001b[0;34m\u001b[0m\u001b[0m\n\u001b[1;32m     97\u001b[0m     return nest.map_structure(_non_none_constant_value,\n\u001b[0;32m---> 98\u001b[0;31m                               distributed_function(input_fn))\n\u001b[0m\u001b[1;32m     99\u001b[0m \u001b[0;34m\u001b[0m\u001b[0m\n\u001b[1;32m    100\u001b[0m   \u001b[0;32mreturn\u001b[0m \u001b[0mexecution_function\u001b[0m\u001b[0;34m\u001b[0m\u001b[0;34m\u001b[0m\u001b[0m\n",
      "\u001b[0;32m~/opt/anaconda3/envs/tensorflow/lib/python3.7/site-packages/tensorflow_core/python/eager/def_function.py\u001b[0m in \u001b[0;36m__call__\u001b[0;34m(self, *args, **kwds)\u001b[0m\n\u001b[1;32m    569\u001b[0m         \u001b[0mxla_context\u001b[0m\u001b[0;34m.\u001b[0m\u001b[0mExit\u001b[0m\u001b[0;34m(\u001b[0m\u001b[0;34m)\u001b[0m\u001b[0;34m\u001b[0m\u001b[0;34m\u001b[0m\u001b[0m\n\u001b[1;32m    570\u001b[0m     \u001b[0;32melse\u001b[0m\u001b[0;34m:\u001b[0m\u001b[0;34m\u001b[0m\u001b[0;34m\u001b[0m\u001b[0m\n\u001b[0;32m--> 571\u001b[0;31m       \u001b[0mresult\u001b[0m \u001b[0;34m=\u001b[0m \u001b[0mself\u001b[0m\u001b[0;34m.\u001b[0m\u001b[0m_call\u001b[0m\u001b[0;34m(\u001b[0m\u001b[0;34m*\u001b[0m\u001b[0margs\u001b[0m\u001b[0;34m,\u001b[0m \u001b[0;34m**\u001b[0m\u001b[0mkwds\u001b[0m\u001b[0;34m)\u001b[0m\u001b[0;34m\u001b[0m\u001b[0;34m\u001b[0m\u001b[0m\n\u001b[0m\u001b[1;32m    572\u001b[0m \u001b[0;34m\u001b[0m\u001b[0m\n\u001b[1;32m    573\u001b[0m     \u001b[0;32mif\u001b[0m \u001b[0mtracing_count\u001b[0m \u001b[0;34m==\u001b[0m \u001b[0mself\u001b[0m\u001b[0;34m.\u001b[0m\u001b[0m_get_tracing_count\u001b[0m\u001b[0;34m(\u001b[0m\u001b[0;34m)\u001b[0m\u001b[0;34m:\u001b[0m\u001b[0;34m\u001b[0m\u001b[0;34m\u001b[0m\u001b[0m\n",
      "\u001b[0;32m~/opt/anaconda3/envs/tensorflow/lib/python3.7/site-packages/tensorflow_core/python/eager/def_function.py\u001b[0m in \u001b[0;36m_call\u001b[0;34m(self, *args, **kwds)\u001b[0m\n\u001b[1;32m    616\u001b[0m       \u001b[0;31m# This is the first call of __call__, so we have to initialize.\u001b[0m\u001b[0;34m\u001b[0m\u001b[0;34m\u001b[0m\u001b[0;34m\u001b[0m\u001b[0m\n\u001b[1;32m    617\u001b[0m       \u001b[0minitializers\u001b[0m \u001b[0;34m=\u001b[0m \u001b[0;34m[\u001b[0m\u001b[0;34m]\u001b[0m\u001b[0;34m\u001b[0m\u001b[0;34m\u001b[0m\u001b[0m\n\u001b[0;32m--> 618\u001b[0;31m       \u001b[0mself\u001b[0m\u001b[0;34m.\u001b[0m\u001b[0m_initialize\u001b[0m\u001b[0;34m(\u001b[0m\u001b[0margs\u001b[0m\u001b[0;34m,\u001b[0m \u001b[0mkwds\u001b[0m\u001b[0;34m,\u001b[0m \u001b[0madd_initializers_to\u001b[0m\u001b[0;34m=\u001b[0m\u001b[0minitializers\u001b[0m\u001b[0;34m)\u001b[0m\u001b[0;34m\u001b[0m\u001b[0;34m\u001b[0m\u001b[0m\n\u001b[0m\u001b[1;32m    619\u001b[0m     \u001b[0;32mfinally\u001b[0m\u001b[0;34m:\u001b[0m\u001b[0;34m\u001b[0m\u001b[0;34m\u001b[0m\u001b[0m\n\u001b[1;32m    620\u001b[0m       \u001b[0;31m# At this point we know that the initialization is complete (or less\u001b[0m\u001b[0;34m\u001b[0m\u001b[0;34m\u001b[0m\u001b[0;34m\u001b[0m\u001b[0m\n",
      "\u001b[0;32m~/opt/anaconda3/envs/tensorflow/lib/python3.7/site-packages/tensorflow_core/python/eager/def_function.py\u001b[0m in \u001b[0;36m_initialize\u001b[0;34m(self, args, kwds, add_initializers_to)\u001b[0m\n\u001b[1;32m    498\u001b[0m     self._concrete_stateful_fn = (\n\u001b[1;32m    499\u001b[0m         self._stateful_fn._get_concrete_function_internal_garbage_collected(  # pylint: disable=protected-access\n\u001b[0;32m--> 500\u001b[0;31m             *args, **kwds))\n\u001b[0m\u001b[1;32m    501\u001b[0m \u001b[0;34m\u001b[0m\u001b[0m\n\u001b[1;32m    502\u001b[0m     \u001b[0;32mdef\u001b[0m \u001b[0minvalid_creator_scope\u001b[0m\u001b[0;34m(\u001b[0m\u001b[0;34m*\u001b[0m\u001b[0munused_args\u001b[0m\u001b[0;34m,\u001b[0m \u001b[0;34m**\u001b[0m\u001b[0munused_kwds\u001b[0m\u001b[0;34m)\u001b[0m\u001b[0;34m:\u001b[0m\u001b[0;34m\u001b[0m\u001b[0;34m\u001b[0m\u001b[0m\n",
      "\u001b[0;32m~/opt/anaconda3/envs/tensorflow/lib/python3.7/site-packages/tensorflow_core/python/eager/function.py\u001b[0m in \u001b[0;36m_get_concrete_function_internal_garbage_collected\u001b[0;34m(self, *args, **kwargs)\u001b[0m\n\u001b[1;32m   2438\u001b[0m       \u001b[0margs\u001b[0m\u001b[0;34m,\u001b[0m \u001b[0mkwargs\u001b[0m \u001b[0;34m=\u001b[0m \u001b[0;32mNone\u001b[0m\u001b[0;34m,\u001b[0m \u001b[0;32mNone\u001b[0m\u001b[0;34m\u001b[0m\u001b[0;34m\u001b[0m\u001b[0m\n\u001b[1;32m   2439\u001b[0m     \u001b[0;32mwith\u001b[0m \u001b[0mself\u001b[0m\u001b[0;34m.\u001b[0m\u001b[0m_lock\u001b[0m\u001b[0;34m:\u001b[0m\u001b[0;34m\u001b[0m\u001b[0;34m\u001b[0m\u001b[0m\n\u001b[0;32m-> 2440\u001b[0;31m       \u001b[0mgraph_function\u001b[0m\u001b[0;34m,\u001b[0m \u001b[0m_\u001b[0m\u001b[0;34m,\u001b[0m \u001b[0m_\u001b[0m \u001b[0;34m=\u001b[0m \u001b[0mself\u001b[0m\u001b[0;34m.\u001b[0m\u001b[0m_maybe_define_function\u001b[0m\u001b[0;34m(\u001b[0m\u001b[0margs\u001b[0m\u001b[0;34m,\u001b[0m \u001b[0mkwargs\u001b[0m\u001b[0;34m)\u001b[0m\u001b[0;34m\u001b[0m\u001b[0;34m\u001b[0m\u001b[0m\n\u001b[0m\u001b[1;32m   2441\u001b[0m     \u001b[0;32mreturn\u001b[0m \u001b[0mgraph_function\u001b[0m\u001b[0;34m\u001b[0m\u001b[0;34m\u001b[0m\u001b[0m\n\u001b[1;32m   2442\u001b[0m \u001b[0;34m\u001b[0m\u001b[0m\n",
      "\u001b[0;32m~/opt/anaconda3/envs/tensorflow/lib/python3.7/site-packages/tensorflow_core/python/eager/function.py\u001b[0m in \u001b[0;36m_maybe_define_function\u001b[0;34m(self, args, kwargs)\u001b[0m\n\u001b[1;32m   2769\u001b[0m \u001b[0;34m\u001b[0m\u001b[0m\n\u001b[1;32m   2770\u001b[0m       \u001b[0mself\u001b[0m\u001b[0;34m.\u001b[0m\u001b[0m_function_cache\u001b[0m\u001b[0;34m.\u001b[0m\u001b[0mmissed\u001b[0m\u001b[0;34m.\u001b[0m\u001b[0madd\u001b[0m\u001b[0;34m(\u001b[0m\u001b[0mcall_context_key\u001b[0m\u001b[0;34m)\u001b[0m\u001b[0;34m\u001b[0m\u001b[0;34m\u001b[0m\u001b[0m\n\u001b[0;32m-> 2771\u001b[0;31m       \u001b[0mgraph_function\u001b[0m \u001b[0;34m=\u001b[0m \u001b[0mself\u001b[0m\u001b[0;34m.\u001b[0m\u001b[0m_create_graph_function\u001b[0m\u001b[0;34m(\u001b[0m\u001b[0margs\u001b[0m\u001b[0;34m,\u001b[0m \u001b[0mkwargs\u001b[0m\u001b[0;34m)\u001b[0m\u001b[0;34m\u001b[0m\u001b[0;34m\u001b[0m\u001b[0m\n\u001b[0m\u001b[1;32m   2772\u001b[0m       \u001b[0mself\u001b[0m\u001b[0;34m.\u001b[0m\u001b[0m_function_cache\u001b[0m\u001b[0;34m.\u001b[0m\u001b[0mprimary\u001b[0m\u001b[0;34m[\u001b[0m\u001b[0mcache_key\u001b[0m\u001b[0;34m]\u001b[0m \u001b[0;34m=\u001b[0m \u001b[0mgraph_function\u001b[0m\u001b[0;34m\u001b[0m\u001b[0;34m\u001b[0m\u001b[0m\n\u001b[1;32m   2773\u001b[0m       \u001b[0;32mreturn\u001b[0m \u001b[0mgraph_function\u001b[0m\u001b[0;34m,\u001b[0m \u001b[0margs\u001b[0m\u001b[0;34m,\u001b[0m \u001b[0mkwargs\u001b[0m\u001b[0;34m\u001b[0m\u001b[0;34m\u001b[0m\u001b[0m\n",
      "\u001b[0;32m~/opt/anaconda3/envs/tensorflow/lib/python3.7/site-packages/tensorflow_core/python/eager/function.py\u001b[0m in \u001b[0;36m_create_graph_function\u001b[0;34m(self, args, kwargs, override_flat_arg_shapes)\u001b[0m\n\u001b[1;32m   2659\u001b[0m             \u001b[0marg_names\u001b[0m\u001b[0;34m=\u001b[0m\u001b[0marg_names\u001b[0m\u001b[0;34m,\u001b[0m\u001b[0;34m\u001b[0m\u001b[0;34m\u001b[0m\u001b[0m\n\u001b[1;32m   2660\u001b[0m             \u001b[0moverride_flat_arg_shapes\u001b[0m\u001b[0;34m=\u001b[0m\u001b[0moverride_flat_arg_shapes\u001b[0m\u001b[0;34m,\u001b[0m\u001b[0;34m\u001b[0m\u001b[0;34m\u001b[0m\u001b[0m\n\u001b[0;32m-> 2661\u001b[0;31m             capture_by_value=self._capture_by_value),\n\u001b[0m\u001b[1;32m   2662\u001b[0m         \u001b[0mself\u001b[0m\u001b[0;34m.\u001b[0m\u001b[0m_function_attributes\u001b[0m\u001b[0;34m,\u001b[0m\u001b[0;34m\u001b[0m\u001b[0;34m\u001b[0m\u001b[0m\n\u001b[1;32m   2663\u001b[0m         \u001b[0;31m# Tell the ConcreteFunction to clean up its graph once it goes out of\u001b[0m\u001b[0;34m\u001b[0m\u001b[0;34m\u001b[0m\u001b[0;34m\u001b[0m\u001b[0m\n",
      "\u001b[0;32m~/opt/anaconda3/envs/tensorflow/lib/python3.7/site-packages/tensorflow_core/python/framework/func_graph.py\u001b[0m in \u001b[0;36mfunc_graph_from_py_func\u001b[0;34m(name, python_func, args, kwargs, signature, func_graph, autograph, autograph_options, add_control_dependencies, arg_names, op_return_value, collections, capture_by_value, override_flat_arg_shapes)\u001b[0m\n\u001b[1;32m    979\u001b[0m         \u001b[0m_\u001b[0m\u001b[0;34m,\u001b[0m \u001b[0moriginal_func\u001b[0m \u001b[0;34m=\u001b[0m \u001b[0mtf_decorator\u001b[0m\u001b[0;34m.\u001b[0m\u001b[0munwrap\u001b[0m\u001b[0;34m(\u001b[0m\u001b[0mpython_func\u001b[0m\u001b[0;34m)\u001b[0m\u001b[0;34m\u001b[0m\u001b[0;34m\u001b[0m\u001b[0m\n\u001b[1;32m    980\u001b[0m \u001b[0;34m\u001b[0m\u001b[0m\n\u001b[0;32m--> 981\u001b[0;31m       \u001b[0mfunc_outputs\u001b[0m \u001b[0;34m=\u001b[0m \u001b[0mpython_func\u001b[0m\u001b[0;34m(\u001b[0m\u001b[0;34m*\u001b[0m\u001b[0mfunc_args\u001b[0m\u001b[0;34m,\u001b[0m \u001b[0;34m**\u001b[0m\u001b[0mfunc_kwargs\u001b[0m\u001b[0;34m)\u001b[0m\u001b[0;34m\u001b[0m\u001b[0;34m\u001b[0m\u001b[0m\n\u001b[0m\u001b[1;32m    982\u001b[0m \u001b[0;34m\u001b[0m\u001b[0m\n\u001b[1;32m    983\u001b[0m       \u001b[0;31m# invariant: `func_outputs` contains only Tensors, CompositeTensors,\u001b[0m\u001b[0;34m\u001b[0m\u001b[0;34m\u001b[0m\u001b[0;34m\u001b[0m\u001b[0m\n",
      "\u001b[0;32m~/opt/anaconda3/envs/tensorflow/lib/python3.7/site-packages/tensorflow_core/python/eager/def_function.py\u001b[0m in \u001b[0;36mwrapped_fn\u001b[0;34m(*args, **kwds)\u001b[0m\n\u001b[1;32m    437\u001b[0m         \u001b[0;31m# __wrapped__ allows AutoGraph to swap in a converted function. We give\u001b[0m\u001b[0;34m\u001b[0m\u001b[0;34m\u001b[0m\u001b[0;34m\u001b[0m\u001b[0m\n\u001b[1;32m    438\u001b[0m         \u001b[0;31m# the function a weak reference to itself to avoid a reference cycle.\u001b[0m\u001b[0;34m\u001b[0m\u001b[0;34m\u001b[0m\u001b[0;34m\u001b[0m\u001b[0m\n\u001b[0;32m--> 439\u001b[0;31m         \u001b[0;32mreturn\u001b[0m \u001b[0mweak_wrapped_fn\u001b[0m\u001b[0;34m(\u001b[0m\u001b[0;34m)\u001b[0m\u001b[0;34m.\u001b[0m\u001b[0m__wrapped__\u001b[0m\u001b[0;34m(\u001b[0m\u001b[0;34m*\u001b[0m\u001b[0margs\u001b[0m\u001b[0;34m,\u001b[0m \u001b[0;34m**\u001b[0m\u001b[0mkwds\u001b[0m\u001b[0;34m)\u001b[0m\u001b[0;34m\u001b[0m\u001b[0;34m\u001b[0m\u001b[0m\n\u001b[0m\u001b[1;32m    440\u001b[0m     \u001b[0mweak_wrapped_fn\u001b[0m \u001b[0;34m=\u001b[0m \u001b[0mweakref\u001b[0m\u001b[0;34m.\u001b[0m\u001b[0mref\u001b[0m\u001b[0;34m(\u001b[0m\u001b[0mwrapped_fn\u001b[0m\u001b[0;34m)\u001b[0m\u001b[0;34m\u001b[0m\u001b[0;34m\u001b[0m\u001b[0m\n\u001b[1;32m    441\u001b[0m \u001b[0;34m\u001b[0m\u001b[0m\n",
      "\u001b[0;32m~/opt/anaconda3/envs/tensorflow/lib/python3.7/site-packages/tensorflow_core/python/keras/engine/training_v2_utils.py\u001b[0m in \u001b[0;36mdistributed_function\u001b[0;34m(input_iterator)\u001b[0m\n\u001b[1;32m     83\u001b[0m     \u001b[0margs\u001b[0m \u001b[0;34m=\u001b[0m \u001b[0m_prepare_feed_values\u001b[0m\u001b[0;34m(\u001b[0m\u001b[0mmodel\u001b[0m\u001b[0;34m,\u001b[0m \u001b[0minput_iterator\u001b[0m\u001b[0;34m,\u001b[0m \u001b[0mmode\u001b[0m\u001b[0;34m,\u001b[0m \u001b[0mstrategy\u001b[0m\u001b[0;34m)\u001b[0m\u001b[0;34m\u001b[0m\u001b[0;34m\u001b[0m\u001b[0m\n\u001b[1;32m     84\u001b[0m     outputs = strategy.experimental_run_v2(\n\u001b[0;32m---> 85\u001b[0;31m         per_replica_function, args=args)\n\u001b[0m\u001b[1;32m     86\u001b[0m     \u001b[0;31m# Out of PerReplica outputs reduce or pick values to return.\u001b[0m\u001b[0;34m\u001b[0m\u001b[0;34m\u001b[0m\u001b[0;34m\u001b[0m\u001b[0m\n\u001b[1;32m     87\u001b[0m     all_outputs = dist_utils.unwrap_output_dict(\n",
      "\u001b[0;32m~/opt/anaconda3/envs/tensorflow/lib/python3.7/site-packages/tensorflow_core/python/distribute/distribute_lib.py\u001b[0m in \u001b[0;36mexperimental_run_v2\u001b[0;34m(self, fn, args, kwargs)\u001b[0m\n\u001b[1;32m    812\u001b[0m       fn = autograph.tf_convert(\n\u001b[1;32m    813\u001b[0m           fn, autograph_ctx.control_status_ctx(), convert_by_default=False)\n\u001b[0;32m--> 814\u001b[0;31m       \u001b[0;32mreturn\u001b[0m \u001b[0mself\u001b[0m\u001b[0;34m.\u001b[0m\u001b[0m_extended\u001b[0m\u001b[0;34m.\u001b[0m\u001b[0mcall_for_each_replica\u001b[0m\u001b[0;34m(\u001b[0m\u001b[0mfn\u001b[0m\u001b[0;34m,\u001b[0m \u001b[0margs\u001b[0m\u001b[0;34m=\u001b[0m\u001b[0margs\u001b[0m\u001b[0;34m,\u001b[0m \u001b[0mkwargs\u001b[0m\u001b[0;34m=\u001b[0m\u001b[0mkwargs\u001b[0m\u001b[0;34m)\u001b[0m\u001b[0;34m\u001b[0m\u001b[0;34m\u001b[0m\u001b[0m\n\u001b[0m\u001b[1;32m    815\u001b[0m \u001b[0;34m\u001b[0m\u001b[0m\n\u001b[1;32m    816\u001b[0m   \u001b[0;32mdef\u001b[0m \u001b[0mreduce\u001b[0m\u001b[0;34m(\u001b[0m\u001b[0mself\u001b[0m\u001b[0;34m,\u001b[0m \u001b[0mreduce_op\u001b[0m\u001b[0;34m,\u001b[0m \u001b[0mvalue\u001b[0m\u001b[0;34m,\u001b[0m \u001b[0maxis\u001b[0m\u001b[0;34m)\u001b[0m\u001b[0;34m:\u001b[0m\u001b[0;34m\u001b[0m\u001b[0;34m\u001b[0m\u001b[0m\n",
      "\u001b[0;32m~/opt/anaconda3/envs/tensorflow/lib/python3.7/site-packages/tensorflow_core/python/distribute/distribute_lib.py\u001b[0m in \u001b[0;36mcall_for_each_replica\u001b[0;34m(self, fn, args, kwargs)\u001b[0m\n\u001b[1;32m   1872\u001b[0m       \u001b[0mkwargs\u001b[0m \u001b[0;34m=\u001b[0m \u001b[0;34m{\u001b[0m\u001b[0;34m}\u001b[0m\u001b[0;34m\u001b[0m\u001b[0;34m\u001b[0m\u001b[0m\n\u001b[1;32m   1873\u001b[0m     \u001b[0;32mwith\u001b[0m \u001b[0mself\u001b[0m\u001b[0;34m.\u001b[0m\u001b[0m_container_strategy\u001b[0m\u001b[0;34m(\u001b[0m\u001b[0;34m)\u001b[0m\u001b[0;34m.\u001b[0m\u001b[0mscope\u001b[0m\u001b[0;34m(\u001b[0m\u001b[0;34m)\u001b[0m\u001b[0;34m:\u001b[0m\u001b[0;34m\u001b[0m\u001b[0;34m\u001b[0m\u001b[0m\n\u001b[0;32m-> 1874\u001b[0;31m       \u001b[0;32mreturn\u001b[0m \u001b[0mself\u001b[0m\u001b[0;34m.\u001b[0m\u001b[0m_call_for_each_replica\u001b[0m\u001b[0;34m(\u001b[0m\u001b[0mfn\u001b[0m\u001b[0;34m,\u001b[0m \u001b[0margs\u001b[0m\u001b[0;34m,\u001b[0m \u001b[0mkwargs\u001b[0m\u001b[0;34m)\u001b[0m\u001b[0;34m\u001b[0m\u001b[0;34m\u001b[0m\u001b[0m\n\u001b[0m\u001b[1;32m   1875\u001b[0m \u001b[0;34m\u001b[0m\u001b[0m\n\u001b[1;32m   1876\u001b[0m   \u001b[0;32mdef\u001b[0m \u001b[0m_call_for_each_replica\u001b[0m\u001b[0;34m(\u001b[0m\u001b[0mself\u001b[0m\u001b[0;34m,\u001b[0m \u001b[0mfn\u001b[0m\u001b[0;34m,\u001b[0m \u001b[0margs\u001b[0m\u001b[0;34m,\u001b[0m \u001b[0mkwargs\u001b[0m\u001b[0;34m)\u001b[0m\u001b[0;34m:\u001b[0m\u001b[0;34m\u001b[0m\u001b[0;34m\u001b[0m\u001b[0m\n",
      "\u001b[0;32m~/opt/anaconda3/envs/tensorflow/lib/python3.7/site-packages/tensorflow_core/python/distribute/distribute_lib.py\u001b[0m in \u001b[0;36m_call_for_each_replica\u001b[0;34m(self, fn, args, kwargs)\u001b[0m\n\u001b[1;32m   2219\u001b[0m         \u001b[0mself\u001b[0m\u001b[0;34m.\u001b[0m\u001b[0m_container_strategy\u001b[0m\u001b[0;34m(\u001b[0m\u001b[0;34m)\u001b[0m\u001b[0;34m,\u001b[0m\u001b[0;34m\u001b[0m\u001b[0;34m\u001b[0m\u001b[0m\n\u001b[1;32m   2220\u001b[0m         replica_id_in_sync_group=constant_op.constant(0, dtypes.int32)):\n\u001b[0;32m-> 2221\u001b[0;31m       \u001b[0;32mreturn\u001b[0m \u001b[0mfn\u001b[0m\u001b[0;34m(\u001b[0m\u001b[0;34m*\u001b[0m\u001b[0margs\u001b[0m\u001b[0;34m,\u001b[0m \u001b[0;34m**\u001b[0m\u001b[0mkwargs\u001b[0m\u001b[0;34m)\u001b[0m\u001b[0;34m\u001b[0m\u001b[0;34m\u001b[0m\u001b[0m\n\u001b[0m\u001b[1;32m   2222\u001b[0m \u001b[0;34m\u001b[0m\u001b[0m\n\u001b[1;32m   2223\u001b[0m   \u001b[0;32mdef\u001b[0m \u001b[0m_reduce_to\u001b[0m\u001b[0;34m(\u001b[0m\u001b[0mself\u001b[0m\u001b[0;34m,\u001b[0m \u001b[0mreduce_op\u001b[0m\u001b[0;34m,\u001b[0m \u001b[0mvalue\u001b[0m\u001b[0;34m,\u001b[0m \u001b[0mdestinations\u001b[0m\u001b[0;34m)\u001b[0m\u001b[0;34m:\u001b[0m\u001b[0;34m\u001b[0m\u001b[0;34m\u001b[0m\u001b[0m\n",
      "\u001b[0;32m~/opt/anaconda3/envs/tensorflow/lib/python3.7/site-packages/tensorflow_core/python/autograph/impl/api.py\u001b[0m in \u001b[0;36mwrapper\u001b[0;34m(*args, **kwargs)\u001b[0m\n\u001b[1;32m    306\u001b[0m   \u001b[0;32mdef\u001b[0m \u001b[0mwrapper\u001b[0m\u001b[0;34m(\u001b[0m\u001b[0;34m*\u001b[0m\u001b[0margs\u001b[0m\u001b[0;34m,\u001b[0m \u001b[0;34m**\u001b[0m\u001b[0mkwargs\u001b[0m\u001b[0;34m)\u001b[0m\u001b[0;34m:\u001b[0m\u001b[0;34m\u001b[0m\u001b[0;34m\u001b[0m\u001b[0m\n\u001b[1;32m    307\u001b[0m     \u001b[0;32mwith\u001b[0m \u001b[0mag_ctx\u001b[0m\u001b[0;34m.\u001b[0m\u001b[0mControlStatusCtx\u001b[0m\u001b[0;34m(\u001b[0m\u001b[0mstatus\u001b[0m\u001b[0;34m=\u001b[0m\u001b[0mag_ctx\u001b[0m\u001b[0;34m.\u001b[0m\u001b[0mStatus\u001b[0m\u001b[0;34m.\u001b[0m\u001b[0mDISABLED\u001b[0m\u001b[0;34m)\u001b[0m\u001b[0;34m:\u001b[0m\u001b[0;34m\u001b[0m\u001b[0;34m\u001b[0m\u001b[0m\n\u001b[0;32m--> 308\u001b[0;31m       \u001b[0;32mreturn\u001b[0m \u001b[0mfunc\u001b[0m\u001b[0;34m(\u001b[0m\u001b[0;34m*\u001b[0m\u001b[0margs\u001b[0m\u001b[0;34m,\u001b[0m \u001b[0;34m**\u001b[0m\u001b[0mkwargs\u001b[0m\u001b[0;34m)\u001b[0m\u001b[0;34m\u001b[0m\u001b[0;34m\u001b[0m\u001b[0m\n\u001b[0m\u001b[1;32m    309\u001b[0m \u001b[0;34m\u001b[0m\u001b[0m\n\u001b[1;32m    310\u001b[0m   \u001b[0;32mif\u001b[0m \u001b[0minspect\u001b[0m\u001b[0;34m.\u001b[0m\u001b[0misfunction\u001b[0m\u001b[0;34m(\u001b[0m\u001b[0mfunc\u001b[0m\u001b[0;34m)\u001b[0m \u001b[0;32mor\u001b[0m \u001b[0minspect\u001b[0m\u001b[0;34m.\u001b[0m\u001b[0mismethod\u001b[0m\u001b[0;34m(\u001b[0m\u001b[0mfunc\u001b[0m\u001b[0;34m)\u001b[0m\u001b[0;34m:\u001b[0m\u001b[0;34m\u001b[0m\u001b[0;34m\u001b[0m\u001b[0m\n",
      "\u001b[0;32m~/opt/anaconda3/envs/tensorflow/lib/python3.7/site-packages/tensorflow_core/python/keras/engine/training_v2_utils.py\u001b[0m in \u001b[0;36mtrain_on_batch\u001b[0;34m(model, x, y, sample_weight, class_weight, reset_metrics, standalone)\u001b[0m\n\u001b[1;32m    431\u001b[0m       \u001b[0my\u001b[0m\u001b[0;34m,\u001b[0m\u001b[0;34m\u001b[0m\u001b[0;34m\u001b[0m\u001b[0m\n\u001b[1;32m    432\u001b[0m       \u001b[0msample_weights\u001b[0m\u001b[0;34m=\u001b[0m\u001b[0msample_weights\u001b[0m\u001b[0;34m,\u001b[0m\u001b[0;34m\u001b[0m\u001b[0;34m\u001b[0m\u001b[0m\n\u001b[0;32m--> 433\u001b[0;31m       output_loss_metrics=model._output_loss_metrics)\n\u001b[0m\u001b[1;32m    434\u001b[0m \u001b[0;34m\u001b[0m\u001b[0m\n\u001b[1;32m    435\u001b[0m   \u001b[0;32mif\u001b[0m \u001b[0mreset_metrics\u001b[0m\u001b[0;34m:\u001b[0m\u001b[0;34m\u001b[0m\u001b[0;34m\u001b[0m\u001b[0m\n",
      "\u001b[0;32m~/opt/anaconda3/envs/tensorflow/lib/python3.7/site-packages/tensorflow_core/python/keras/engine/training_eager.py\u001b[0m in \u001b[0;36mtrain_on_batch\u001b[0;34m(model, inputs, targets, sample_weights, output_loss_metrics)\u001b[0m\n\u001b[1;32m    308\u001b[0m           \u001b[0msample_weights\u001b[0m\u001b[0;34m=\u001b[0m\u001b[0msample_weights\u001b[0m\u001b[0;34m,\u001b[0m\u001b[0;34m\u001b[0m\u001b[0;34m\u001b[0m\u001b[0m\n\u001b[1;32m    309\u001b[0m           \u001b[0mtraining\u001b[0m\u001b[0;34m=\u001b[0m\u001b[0;32mTrue\u001b[0m\u001b[0;34m,\u001b[0m\u001b[0;34m\u001b[0m\u001b[0;34m\u001b[0m\u001b[0m\n\u001b[0;32m--> 310\u001b[0;31m           output_loss_metrics=output_loss_metrics))\n\u001b[0m\u001b[1;32m    311\u001b[0m   \u001b[0;32mif\u001b[0m \u001b[0;32mnot\u001b[0m \u001b[0misinstance\u001b[0m\u001b[0;34m(\u001b[0m\u001b[0mouts\u001b[0m\u001b[0;34m,\u001b[0m \u001b[0mlist\u001b[0m\u001b[0;34m)\u001b[0m\u001b[0;34m:\u001b[0m\u001b[0;34m\u001b[0m\u001b[0;34m\u001b[0m\u001b[0m\n\u001b[1;32m    312\u001b[0m     \u001b[0mouts\u001b[0m \u001b[0;34m=\u001b[0m \u001b[0;34m[\u001b[0m\u001b[0mouts\u001b[0m\u001b[0;34m]\u001b[0m\u001b[0;34m\u001b[0m\u001b[0;34m\u001b[0m\u001b[0m\n",
      "\u001b[0;32m~/opt/anaconda3/envs/tensorflow/lib/python3.7/site-packages/tensorflow_core/python/keras/engine/training_eager.py\u001b[0m in \u001b[0;36m_process_single_batch\u001b[0;34m(model, inputs, targets, output_loss_metrics, sample_weights, training)\u001b[0m\n\u001b[1;32m    250\u001b[0m               \u001b[0moutput_loss_metrics\u001b[0m\u001b[0;34m=\u001b[0m\u001b[0moutput_loss_metrics\u001b[0m\u001b[0;34m,\u001b[0m\u001b[0;34m\u001b[0m\u001b[0;34m\u001b[0m\u001b[0m\n\u001b[1;32m    251\u001b[0m               \u001b[0msample_weights\u001b[0m\u001b[0;34m=\u001b[0m\u001b[0msample_weights\u001b[0m\u001b[0;34m,\u001b[0m\u001b[0;34m\u001b[0m\u001b[0;34m\u001b[0m\u001b[0m\n\u001b[0;32m--> 252\u001b[0;31m               training=training))\n\u001b[0m\u001b[1;32m    253\u001b[0m       \u001b[0;32mif\u001b[0m \u001b[0mtotal_loss\u001b[0m \u001b[0;32mis\u001b[0m \u001b[0;32mNone\u001b[0m\u001b[0;34m:\u001b[0m\u001b[0;34m\u001b[0m\u001b[0;34m\u001b[0m\u001b[0m\n\u001b[1;32m    254\u001b[0m         raise ValueError('The model cannot be run '\n",
      "\u001b[0;32m~/opt/anaconda3/envs/tensorflow/lib/python3.7/site-packages/tensorflow_core/python/keras/engine/training_eager.py\u001b[0m in \u001b[0;36m_model_loss\u001b[0;34m(model, inputs, targets, output_loss_metrics, sample_weights, training)\u001b[0m\n\u001b[1;32m    165\u001b[0m \u001b[0;34m\u001b[0m\u001b[0m\n\u001b[1;32m    166\u001b[0m         \u001b[0;32mif\u001b[0m \u001b[0mhasattr\u001b[0m\u001b[0;34m(\u001b[0m\u001b[0mloss_fn\u001b[0m\u001b[0;34m,\u001b[0m \u001b[0;34m'reduction'\u001b[0m\u001b[0;34m)\u001b[0m\u001b[0;34m:\u001b[0m\u001b[0;34m\u001b[0m\u001b[0;34m\u001b[0m\u001b[0m\n\u001b[0;32m--> 167\u001b[0;31m           \u001b[0mper_sample_losses\u001b[0m \u001b[0;34m=\u001b[0m \u001b[0mloss_fn\u001b[0m\u001b[0;34m.\u001b[0m\u001b[0mcall\u001b[0m\u001b[0;34m(\u001b[0m\u001b[0mtargets\u001b[0m\u001b[0;34m[\u001b[0m\u001b[0mi\u001b[0m\u001b[0;34m]\u001b[0m\u001b[0;34m,\u001b[0m \u001b[0mouts\u001b[0m\u001b[0;34m[\u001b[0m\u001b[0mi\u001b[0m\u001b[0;34m]\u001b[0m\u001b[0;34m)\u001b[0m\u001b[0;34m\u001b[0m\u001b[0;34m\u001b[0m\u001b[0m\n\u001b[0m\u001b[1;32m    168\u001b[0m           weighted_losses = losses_utils.compute_weighted_loss(\n\u001b[1;32m    169\u001b[0m               \u001b[0mper_sample_losses\u001b[0m\u001b[0;34m,\u001b[0m\u001b[0;34m\u001b[0m\u001b[0;34m\u001b[0m\u001b[0m\n",
      "\u001b[0;32m~/opt/anaconda3/envs/tensorflow/lib/python3.7/site-packages/tensorflow_core/python/keras/losses.py\u001b[0m in \u001b[0;36mcall\u001b[0;34m(self, y_true, y_pred)\u001b[0m\n\u001b[1;32m    230\u001b[0m       y_pred, y_true = tf_losses_util.squeeze_or_expand_dimensions(\n\u001b[1;32m    231\u001b[0m           y_pred, y_true)\n\u001b[0;32m--> 232\u001b[0;31m     \u001b[0;32mreturn\u001b[0m \u001b[0mself\u001b[0m\u001b[0;34m.\u001b[0m\u001b[0mfn\u001b[0m\u001b[0;34m(\u001b[0m\u001b[0my_true\u001b[0m\u001b[0;34m,\u001b[0m \u001b[0my_pred\u001b[0m\u001b[0;34m,\u001b[0m \u001b[0;34m**\u001b[0m\u001b[0mself\u001b[0m\u001b[0;34m.\u001b[0m\u001b[0m_fn_kwargs\u001b[0m\u001b[0;34m)\u001b[0m\u001b[0;34m\u001b[0m\u001b[0;34m\u001b[0m\u001b[0m\n\u001b[0m\u001b[1;32m    233\u001b[0m \u001b[0;34m\u001b[0m\u001b[0m\n\u001b[1;32m    234\u001b[0m   \u001b[0;32mdef\u001b[0m \u001b[0mget_config\u001b[0m\u001b[0;34m(\u001b[0m\u001b[0mself\u001b[0m\u001b[0;34m)\u001b[0m\u001b[0;34m:\u001b[0m\u001b[0;34m\u001b[0m\u001b[0;34m\u001b[0m\u001b[0m\n",
      "\u001b[0;32m~/opt/anaconda3/envs/tensorflow/lib/python3.7/site-packages/tensorflow_core/python/keras/losses.py\u001b[0m in \u001b[0;36mmean_squared_error\u001b[0;34m(y_true, y_pred)\u001b[0m\n\u001b[1;32m    835\u001b[0m   \u001b[0my_pred\u001b[0m \u001b[0;34m=\u001b[0m \u001b[0mops\u001b[0m\u001b[0;34m.\u001b[0m\u001b[0mconvert_to_tensor\u001b[0m\u001b[0;34m(\u001b[0m\u001b[0my_pred\u001b[0m\u001b[0;34m)\u001b[0m\u001b[0;34m\u001b[0m\u001b[0;34m\u001b[0m\u001b[0m\n\u001b[1;32m    836\u001b[0m   \u001b[0my_true\u001b[0m \u001b[0;34m=\u001b[0m \u001b[0mmath_ops\u001b[0m\u001b[0;34m.\u001b[0m\u001b[0mcast\u001b[0m\u001b[0;34m(\u001b[0m\u001b[0my_true\u001b[0m\u001b[0;34m,\u001b[0m \u001b[0my_pred\u001b[0m\u001b[0;34m.\u001b[0m\u001b[0mdtype\u001b[0m\u001b[0;34m)\u001b[0m\u001b[0;34m\u001b[0m\u001b[0;34m\u001b[0m\u001b[0m\n\u001b[0;32m--> 837\u001b[0;31m   \u001b[0;32mreturn\u001b[0m \u001b[0mK\u001b[0m\u001b[0;34m.\u001b[0m\u001b[0mmean\u001b[0m\u001b[0;34m(\u001b[0m\u001b[0mmath_ops\u001b[0m\u001b[0;34m.\u001b[0m\u001b[0msquared_difference\u001b[0m\u001b[0;34m(\u001b[0m\u001b[0my_pred\u001b[0m\u001b[0;34m,\u001b[0m \u001b[0my_true\u001b[0m\u001b[0;34m)\u001b[0m\u001b[0;34m,\u001b[0m \u001b[0maxis\u001b[0m\u001b[0;34m=\u001b[0m\u001b[0;34m-\u001b[0m\u001b[0;36m1\u001b[0m\u001b[0;34m)\u001b[0m\u001b[0;34m\u001b[0m\u001b[0;34m\u001b[0m\u001b[0m\n\u001b[0m\u001b[1;32m    838\u001b[0m \u001b[0;34m\u001b[0m\u001b[0m\n\u001b[1;32m    839\u001b[0m \u001b[0;34m\u001b[0m\u001b[0m\n",
      "\u001b[0;32m~/opt/anaconda3/envs/tensorflow/lib/python3.7/site-packages/tensorflow_core/python/ops/gen_math_ops.py\u001b[0m in \u001b[0;36msquared_difference\u001b[0;34m(x, y, name)\u001b[0m\n\u001b[1;32m  10057\u001b[0m   \u001b[0;32mtry\u001b[0m\u001b[0;34m:\u001b[0m\u001b[0;34m\u001b[0m\u001b[0;34m\u001b[0m\u001b[0m\n\u001b[1;32m  10058\u001b[0m     _, _, _op, _outputs = _op_def_library._apply_op_helper(\n\u001b[0;32m> 10059\u001b[0;31m         \"SquaredDifference\", x=x, y=y, name=name)\n\u001b[0m\u001b[1;32m  10060\u001b[0m   \u001b[0;32mexcept\u001b[0m \u001b[0;34m(\u001b[0m\u001b[0mTypeError\u001b[0m\u001b[0;34m,\u001b[0m \u001b[0mValueError\u001b[0m\u001b[0;34m)\u001b[0m\u001b[0;34m:\u001b[0m\u001b[0;34m\u001b[0m\u001b[0;34m\u001b[0m\u001b[0m\n\u001b[1;32m  10061\u001b[0m     result = _dispatch.dispatch(\n",
      "\u001b[0;32m~/opt/anaconda3/envs/tensorflow/lib/python3.7/site-packages/tensorflow_core/python/framework/op_def_library.py\u001b[0m in \u001b[0;36m_apply_op_helper\u001b[0;34m(op_type_name, name, **keywords)\u001b[0m\n\u001b[1;32m    742\u001b[0m       op = g._create_op_internal(op_type_name, inputs, dtypes=None,\n\u001b[1;32m    743\u001b[0m                                  \u001b[0mname\u001b[0m\u001b[0;34m=\u001b[0m\u001b[0mscope\u001b[0m\u001b[0;34m,\u001b[0m \u001b[0minput_types\u001b[0m\u001b[0;34m=\u001b[0m\u001b[0minput_types\u001b[0m\u001b[0;34m,\u001b[0m\u001b[0;34m\u001b[0m\u001b[0;34m\u001b[0m\u001b[0m\n\u001b[0;32m--> 744\u001b[0;31m                                  attrs=attr_protos, op_def=op_def)\n\u001b[0m\u001b[1;32m    745\u001b[0m \u001b[0;34m\u001b[0m\u001b[0m\n\u001b[1;32m    746\u001b[0m     \u001b[0;31m# `outputs` is returned as a separate return value so that the output\u001b[0m\u001b[0;34m\u001b[0m\u001b[0;34m\u001b[0m\u001b[0;34m\u001b[0m\u001b[0m\n",
      "\u001b[0;32m~/opt/anaconda3/envs/tensorflow/lib/python3.7/site-packages/tensorflow_core/python/framework/func_graph.py\u001b[0m in \u001b[0;36m_create_op_internal\u001b[0;34m(self, op_type, inputs, dtypes, input_types, name, attrs, op_def, compute_device)\u001b[0m\n\u001b[1;32m    593\u001b[0m     return super(FuncGraph, self)._create_op_internal(  # pylint: disable=protected-access\n\u001b[1;32m    594\u001b[0m         \u001b[0mop_type\u001b[0m\u001b[0;34m,\u001b[0m \u001b[0minputs\u001b[0m\u001b[0;34m,\u001b[0m \u001b[0mdtypes\u001b[0m\u001b[0;34m,\u001b[0m \u001b[0minput_types\u001b[0m\u001b[0;34m,\u001b[0m \u001b[0mname\u001b[0m\u001b[0;34m,\u001b[0m \u001b[0mattrs\u001b[0m\u001b[0;34m,\u001b[0m \u001b[0mop_def\u001b[0m\u001b[0;34m,\u001b[0m\u001b[0;34m\u001b[0m\u001b[0;34m\u001b[0m\u001b[0m\n\u001b[0;32m--> 595\u001b[0;31m         compute_device)\n\u001b[0m\u001b[1;32m    596\u001b[0m \u001b[0;34m\u001b[0m\u001b[0m\n\u001b[1;32m    597\u001b[0m   \u001b[0;32mdef\u001b[0m \u001b[0mcapture\u001b[0m\u001b[0;34m(\u001b[0m\u001b[0mself\u001b[0m\u001b[0;34m,\u001b[0m \u001b[0mtensor\u001b[0m\u001b[0;34m,\u001b[0m \u001b[0mname\u001b[0m\u001b[0;34m=\u001b[0m\u001b[0;32mNone\u001b[0m\u001b[0;34m,\u001b[0m \u001b[0mshape\u001b[0m\u001b[0;34m=\u001b[0m\u001b[0;32mNone\u001b[0m\u001b[0;34m)\u001b[0m\u001b[0;34m:\u001b[0m\u001b[0;34m\u001b[0m\u001b[0;34m\u001b[0m\u001b[0m\n",
      "\u001b[0;32m~/opt/anaconda3/envs/tensorflow/lib/python3.7/site-packages/tensorflow_core/python/framework/ops.py\u001b[0m in \u001b[0;36m_create_op_internal\u001b[0;34m(self, op_type, inputs, dtypes, input_types, name, attrs, op_def, compute_device)\u001b[0m\n\u001b[1;32m   3322\u001b[0m           \u001b[0minput_types\u001b[0m\u001b[0;34m=\u001b[0m\u001b[0minput_types\u001b[0m\u001b[0;34m,\u001b[0m\u001b[0;34m\u001b[0m\u001b[0;34m\u001b[0m\u001b[0m\n\u001b[1;32m   3323\u001b[0m           \u001b[0moriginal_op\u001b[0m\u001b[0;34m=\u001b[0m\u001b[0mself\u001b[0m\u001b[0;34m.\u001b[0m\u001b[0m_default_original_op\u001b[0m\u001b[0;34m,\u001b[0m\u001b[0;34m\u001b[0m\u001b[0;34m\u001b[0m\u001b[0m\n\u001b[0;32m-> 3324\u001b[0;31m           op_def=op_def)\n\u001b[0m\u001b[1;32m   3325\u001b[0m       \u001b[0mself\u001b[0m\u001b[0;34m.\u001b[0m\u001b[0m_create_op_helper\u001b[0m\u001b[0;34m(\u001b[0m\u001b[0mret\u001b[0m\u001b[0;34m,\u001b[0m \u001b[0mcompute_device\u001b[0m\u001b[0;34m=\u001b[0m\u001b[0mcompute_device\u001b[0m\u001b[0;34m)\u001b[0m\u001b[0;34m\u001b[0m\u001b[0;34m\u001b[0m\u001b[0m\n\u001b[1;32m   3326\u001b[0m     \u001b[0;32mreturn\u001b[0m \u001b[0mret\u001b[0m\u001b[0;34m\u001b[0m\u001b[0;34m\u001b[0m\u001b[0m\n",
      "\u001b[0;32m~/opt/anaconda3/envs/tensorflow/lib/python3.7/site-packages/tensorflow_core/python/framework/ops.py\u001b[0m in \u001b[0;36m__init__\u001b[0;34m(self, node_def, g, inputs, output_types, control_inputs, input_types, original_op, op_def)\u001b[0m\n\u001b[1;32m   1821\u001b[0m         \u001b[0mop_def\u001b[0m \u001b[0;34m=\u001b[0m \u001b[0mself\u001b[0m\u001b[0;34m.\u001b[0m\u001b[0m_graph\u001b[0m\u001b[0;34m.\u001b[0m\u001b[0m_get_op_def\u001b[0m\u001b[0;34m(\u001b[0m\u001b[0mnode_def\u001b[0m\u001b[0;34m.\u001b[0m\u001b[0mop\u001b[0m\u001b[0;34m)\u001b[0m\u001b[0;34m\u001b[0m\u001b[0;34m\u001b[0m\u001b[0m\n\u001b[1;32m   1822\u001b[0m       self._c_op = _create_c_op(self._graph, node_def, inputs,\n\u001b[0;32m-> 1823\u001b[0;31m                                 control_input_ops, op_def)\n\u001b[0m\u001b[1;32m   1824\u001b[0m       \u001b[0mname\u001b[0m \u001b[0;34m=\u001b[0m \u001b[0mcompat\u001b[0m\u001b[0;34m.\u001b[0m\u001b[0mas_str\u001b[0m\u001b[0;34m(\u001b[0m\u001b[0mnode_def\u001b[0m\u001b[0;34m.\u001b[0m\u001b[0mname\u001b[0m\u001b[0;34m)\u001b[0m\u001b[0;34m\u001b[0m\u001b[0;34m\u001b[0m\u001b[0m\n\u001b[1;32m   1825\u001b[0m     \u001b[0;31m# pylint: enable=protected-access\u001b[0m\u001b[0;34m\u001b[0m\u001b[0;34m\u001b[0m\u001b[0;34m\u001b[0m\u001b[0m\n",
      "\u001b[0;32m~/opt/anaconda3/envs/tensorflow/lib/python3.7/site-packages/tensorflow_core/python/framework/ops.py\u001b[0m in \u001b[0;36m_create_c_op\u001b[0;34m(graph, node_def, inputs, control_inputs, op_def)\u001b[0m\n\u001b[1;32m   1661\u001b[0m   \u001b[0;32mexcept\u001b[0m \u001b[0merrors\u001b[0m\u001b[0;34m.\u001b[0m\u001b[0mInvalidArgumentError\u001b[0m \u001b[0;32mas\u001b[0m \u001b[0me\u001b[0m\u001b[0;34m:\u001b[0m\u001b[0;34m\u001b[0m\u001b[0;34m\u001b[0m\u001b[0m\n\u001b[1;32m   1662\u001b[0m     \u001b[0;31m# Convert to ValueError for backwards compatibility.\u001b[0m\u001b[0;34m\u001b[0m\u001b[0;34m\u001b[0m\u001b[0;34m\u001b[0m\u001b[0m\n\u001b[0;32m-> 1663\u001b[0;31m     \u001b[0;32mraise\u001b[0m \u001b[0mValueError\u001b[0m\u001b[0;34m(\u001b[0m\u001b[0mstr\u001b[0m\u001b[0;34m(\u001b[0m\u001b[0me\u001b[0m\u001b[0;34m)\u001b[0m\u001b[0;34m)\u001b[0m\u001b[0;34m\u001b[0m\u001b[0;34m\u001b[0m\u001b[0m\n\u001b[0m\u001b[1;32m   1664\u001b[0m \u001b[0;34m\u001b[0m\u001b[0m\n\u001b[1;32m   1665\u001b[0m   \u001b[0;32mreturn\u001b[0m \u001b[0mc_op\u001b[0m\u001b[0;34m\u001b[0m\u001b[0;34m\u001b[0m\u001b[0m\n",
      "\u001b[0;31mValueError\u001b[0m: Dimensions must be equal, but are 144 and 32 for '{{node loss/simple_rnn_3_loss/SquaredDifference}} = SquaredDifference[T=DT_FLOAT](sequential_2/simple_rnn_3/transpose_1, Cast_1)' with input shapes: [32,144,20], [32,1]."
     ]
    }
   ],
   "source": [
    "model.compile(loss=\"mse\", optimizer=\"adam\")\n",
    "history = model.fit(X_train, y_train, epochs=5,\n",
    "                    validation_data=(X_valid, y_valid))"
   ]
  },
  {
   "cell_type": "code",
   "execution_count": 80,
   "metadata": {},
   "outputs": [
    {
     "data": {
      "text/plain": [
       "(200000, 140, 1)"
      ]
     },
     "execution_count": 80,
     "metadata": {},
     "output_type": "execute_result"
    }
   ],
   "source": [
    "X_train.shape"
   ]
  },
  {
   "cell_type": "code",
   "execution_count": 79,
   "metadata": {},
   "outputs": [],
   "source": [
    "X_train = X_train.reshape(200000, 140, 1)"
   ]
  },
  {
   "cell_type": "code",
   "execution_count": 86,
   "metadata": {},
   "outputs": [
    {
     "data": {
      "text/plain": [
       "(200000, 1)"
      ]
     },
     "execution_count": 86,
     "metadata": {},
     "output_type": "execute_result"
    }
   ],
   "source": [
    "y_train.shape"
   ]
  },
  {
   "cell_type": "code",
   "execution_count": 85,
   "metadata": {},
   "outputs": [],
   "source": [
    "y_train = y_train.reshape(200000, 1)"
   ]
  },
  {
   "cell_type": "code",
   "execution_count": 87,
   "metadata": {},
   "outputs": [
    {
     "data": {
      "text/plain": [
       "(110228, 140)"
      ]
     },
     "execution_count": 87,
     "metadata": {},
     "output_type": "execute_result"
    }
   ],
   "source": [
    "X_valid.shape"
   ]
  },
  {
   "cell_type": "code",
   "execution_count": 70,
   "metadata": {},
   "outputs": [
    {
     "ename": "ValueError",
     "evalue": "cannot reshape array of size 2809728 into shape (110228,140,1)",
     "output_type": "error",
     "traceback": [
      "\u001b[0;31m---------------------------------------------------------------------------\u001b[0m",
      "\u001b[0;31mValueError\u001b[0m                                Traceback (most recent call last)",
      "\u001b[0;32m<ipython-input-70-b1df5c7eb3fa>\u001b[0m in \u001b[0;36m<module>\u001b[0;34m\u001b[0m\n\u001b[0;32m----> 1\u001b[0;31m \u001b[0mX_valid\u001b[0m \u001b[0;34m=\u001b[0m \u001b[0mX_valid\u001b[0m\u001b[0;34m.\u001b[0m\u001b[0mreshape\u001b[0m\u001b[0;34m(\u001b[0m\u001b[0;36m110228\u001b[0m\u001b[0;34m,\u001b[0m \u001b[0;36m140\u001b[0m\u001b[0;34m,\u001b[0m \u001b[0;36m1\u001b[0m\u001b[0;34m)\u001b[0m\u001b[0;34m\u001b[0m\u001b[0;34m\u001b[0m\u001b[0m\n\u001b[0m",
      "\u001b[0;31mValueError\u001b[0m: cannot reshape array of size 2809728 into shape (110228,140,1)"
     ]
    }
   ],
   "source": [
    "X_valid = X_valid.reshape(110228, 140, 1)"
   ]
  },
  {
   "cell_type": "code",
   "execution_count": 92,
   "metadata": {},
   "outputs": [
    {
     "data": {
      "text/plain": [
       "(1, 110228)"
      ]
     },
     "execution_count": 92,
     "metadata": {},
     "output_type": "execute_result"
    }
   ],
   "source": [
    "y_valid.shape"
   ]
  },
  {
   "cell_type": "code",
   "execution_count": 93,
   "metadata": {},
   "outputs": [],
   "source": [
    "y_valid = y_valid.reshape(110228,1)"
   ]
  },
  {
   "cell_type": "markdown",
   "metadata": {},
   "source": [
    "## LSTM"
   ]
  },
  {
   "cell_type": "code",
   "execution_count": 90,
   "metadata": {},
   "outputs": [],
   "source": [
    "def last_time_step_mse(Y_true, Y_pred):\n",
    "    return keras.metrics.mean_squared_error(Y_true[:, -1], Y_pred[:, -1])\n"
   ]
  },
  {
   "cell_type": "code",
   "execution_count": 95,
   "metadata": {},
   "outputs": [
    {
     "name": "stdout",
     "output_type": "stream",
     "text": [
      "(20000, 144, 1)\n",
      "(20000, 1)\n",
      "(19512, 144, 1)\n",
      "(19512, 1)\n"
     ]
    }
   ],
   "source": [
    "print(X_train.shape)\n",
    "print(y_train.shape)\n",
    "print(X_valid.shape)\n",
    "print(y_valid.shape)"
   ]
  },
  {
   "cell_type": "markdown",
   "metadata": {},
   "source": [
    "#### One LSTM layer"
   ]
  },
  {
   "cell_type": "code",
   "execution_count": 103,
   "metadata": {},
   "outputs": [],
   "source": [
    "np.random.seed(42)\n",
    "tf.random.set_seed(42)\n",
    "\n",
    "model = keras.models.Sequential([\n",
    "    keras.layers.LSTM(20, return_sequences=True, input_shape=[None,1]),\n",
    "    keras.layers.TimeDistributed(keras.layers.Dense(1))\n",
    "])"
   ]
  },
  {
   "cell_type": "code",
   "execution_count": 104,
   "metadata": {},
   "outputs": [
    {
     "name": "stdout",
     "output_type": "stream",
     "text": [
      "Train on 20000 samples, validate on 19512 samples\n",
      "Epoch 1/5\n",
      "20000/20000 [==============================] - 33s 2ms/sample - loss: 0.6850 - last_time_step_mse: 0.6160 - val_loss: 0.4258 - val_last_time_step_mse: 0.3310\n",
      "Epoch 2/5\n",
      "20000/20000 [==============================] - 33s 2ms/sample - loss: 0.4427 - last_time_step_mse: 0.4085 - val_loss: 0.3920 - val_last_time_step_mse: 0.3334\n",
      "Epoch 3/5\n",
      "20000/20000 [==============================] - 31s 2ms/sample - loss: 0.4279 - last_time_step_mse: 0.4078 - val_loss: 0.3765 - val_last_time_step_mse: 0.3340\n",
      "Epoch 4/5\n",
      "20000/20000 [==============================] - 33s 2ms/sample - loss: 0.4206 - last_time_step_mse: 0.4076 - val_loss: 0.3667 - val_last_time_step_mse: 0.3347\n",
      "Epoch 5/5\n",
      "20000/20000 [==============================] - 29s 1ms/sample - loss: 0.4159 - last_time_step_mse: 0.4073 - val_loss: 0.3567 - val_last_time_step_mse: 0.3308\n"
     ]
    }
   ],
   "source": [
    "model.compile(loss=\"mse\", optimizer=\"adam\", metrics=[last_time_step_mse])\n",
    "history = model.fit(X_train, y_train, epochs=5,\n",
    "                    validation_data=(X_valid, y_valid))"
   ]
  },
  {
   "cell_type": "code",
   "execution_count": 105,
   "metadata": {},
   "outputs": [
    {
     "name": "stdout",
     "output_type": "stream",
     "text": [
      "19512/19512 [==============================] - 9s 467us/sample - loss: 0.3567 - last_time_step_mse: 0.3308\n"
     ]
    },
    {
     "data": {
      "text/plain": [
       "[0.35672230372459685, 0.3308063]"
      ]
     },
     "execution_count": 105,
     "metadata": {},
     "output_type": "execute_result"
    }
   ],
   "source": [
    "model.evaluate(X_valid, y_valid)"
   ]
  },
  {
   "cell_type": "code",
   "execution_count": 106,
   "metadata": {},
   "outputs": [
    {
     "data": {
      "image/png": "[encoded data removed]",
      "text/plain": [
       "<Figure size 432x288 with 1 Axes>"
      ]
     },
     "metadata": {
      "needs_background": "light"
     },
     "output_type": "display_data"
    }
   ],
   "source": [
    "plot_learning_curves(history.history[\"loss\"], history.history[\"val_loss\"])\n",
    "plt.show()"
   ]
  },
  {
   "cell_type": "markdown",
   "metadata": {},
   "source": [
    "A simple model works OK.\n"
   ]
  },
  {
   "cell_type": "markdown",
   "metadata": {},
   "source": [
    "#### two LSTM layers"
   ]
  },
  {
   "cell_type": "code",
   "execution_count": 108,
   "metadata": {},
   "outputs": [],
   "source": [
    "np.random.seed(42)\n",
    "tf.random.set_seed(42)\n",
    "\n",
    "model = keras.models.Sequential([\n",
    "    keras.layers.LSTM(20, return_sequences=True, input_shape=[None,1]),\n",
    "    keras.layers.LSTM(20, return_sequences=True),\n",
    "    keras.layers.TimeDistributed(keras.layers.Dense(1))\n",
    "])"
   ]
  },
  {
   "cell_type": "code",
   "execution_count": 109,
   "metadata": {},
   "outputs": [
    {
     "name": "stdout",
     "output_type": "stream",
     "text": [
      "Train on 20000 samples, validate on 19512 samples\n",
      "Epoch 1/5\n",
      "20000/20000 [==============================] - 67s 3ms/sample - loss: 0.5875 - last_time_step_mse: 0.5307 - val_loss: 0.3856 - val_last_time_step_mse: 0.3309\n",
      "Epoch 2/5\n",
      "20000/20000 [==============================] - 62s 3ms/sample - loss: 0.4291 - last_time_step_mse: 0.4082 - val_loss: 0.3610 - val_last_time_step_mse: 0.3327\n",
      "Epoch 3/5\n",
      "20000/20000 [==============================] - 60s 3ms/sample - loss: 0.4155 - last_time_step_mse: 0.4075 - val_loss: 0.3525 - val_last_time_step_mse: 0.3332\n",
      "Epoch 4/5\n",
      "20000/20000 [==============================] - 62s 3ms/sample - loss: 0.4110 - last_time_step_mse: 0.4074 - val_loss: 0.3475 - val_last_time_step_mse: 0.3335\n",
      "Epoch 5/5\n",
      "20000/20000 [==============================] - 59s 3ms/sample - loss: 0.4087 - last_time_step_mse: 0.4070 - val_loss: 0.3403 - val_last_time_step_mse: 0.3308\n"
     ]
    }
   ],
   "source": [
    "model.compile(loss=\"mse\", optimizer=\"adam\", metrics=[last_time_step_mse])\n",
    "history = model.fit(X_train, y_train, epochs=5,\n",
    "                    validation_data=(X_valid, y_valid))\n"
   ]
  },
  {
   "cell_type": "code",
   "execution_count": 110,
   "metadata": {},
   "outputs": [
    {
     "name": "stdout",
     "output_type": "stream",
     "text": [
      "19512/19512 [==============================] - 14s 697us/sample - loss: 0.3403 - last_time_step_mse: 0.3308\n"
     ]
    },
    {
     "data": {
      "text/plain": [
       "[0.3402919402265255, 0.33080637]"
      ]
     },
     "execution_count": 110,
     "metadata": {},
     "output_type": "execute_result"
    }
   ],
   "source": [
    "model.evaluate(X_valid, y_valid)"
   ]
  },
  {
   "cell_type": "code",
   "execution_count": 111,
   "metadata": {},
   "outputs": [
    {
     "data": {
      "image/png": "[encoded data removed]",
      "text/plain": [
       "<Figure size 432x288 with 1 Axes>"
      ]
     },
     "metadata": {
      "needs_background": "light"
     },
     "output_type": "display_data"
    }
   ],
   "source": [
    "plot_learning_curves(history.history[\"loss\"], history.history[\"val_loss\"])\n",
    "plt.show()"
   ]
  },
  {
   "cell_type": "markdown",
   "metadata": {},
   "source": [
    "#### Even more layers"
   ]
  },
  {
   "cell_type": "code",
   "execution_count": 113,
   "metadata": {},
   "outputs": [],
   "source": [
    "np.random.seed(42)\n",
    "tf.random.set_seed(42)\n",
    "\n",
    "model = keras.models.Sequential([\n",
    "    keras.layers.LSTM(20, return_sequences=True, input_shape=[None,1]),\n",
    "    keras.layers.LSTM(20, return_sequences=True),\n",
    "    keras.layers.LSTM(20, return_sequences=True),\n",
    "    keras.layers.TimeDistributed(keras.layers.Dense(1))\n",
    "])"
   ]
  },
  {
   "cell_type": "code",
   "execution_count": null,
   "metadata": {},
   "outputs": [
    {
     "name": "stdout",
     "output_type": "stream",
     "text": [
      "Train on 20000 samples, validate on 19512 samples\n",
      "Epoch 1/25\n",
      "20000/20000 [==============================] - 108s 5ms/sample - loss: 0.5644 - last_time_step_mse: 0.4979 - val_loss: 0.3776 - val_last_time_step_mse: 0.3308\n",
      "Epoch 2/25\n",
      "20000/20000 [==============================] - 102s 5ms/sample - loss: 0.4270 - last_time_step_mse: 0.4083 - val_loss: 0.3570 - val_last_time_step_mse: 0.3322\n",
      "Epoch 3/25\n",
      "20000/20000 [==============================] - 89s 4ms/sample - loss: 0.4137 - last_time_step_mse: 0.4076 - val_loss: 0.3489 - val_last_time_step_mse: 0.3331\n",
      "Epoch 4/25\n",
      "20000/20000 [==============================] - 90s 5ms/sample - loss: 0.4096 - last_time_step_mse: 0.4075 - val_loss: 0.3439 - val_last_time_step_mse: 0.3338\n",
      "Epoch 5/25\n",
      "20000/20000 [==============================] - 91s 5ms/sample - loss: 0.4078 - last_time_step_mse: 0.4071 - val_loss: 0.3363 - val_last_time_step_mse: 0.3309\n",
      "Epoch 6/25\n",
      "20000/20000 [==============================] - 91s 5ms/sample - loss: 0.4074 - last_time_step_mse: 0.4072 - val_loss: 0.3345 - val_last_time_step_mse: 0.3319\n",
      "Epoch 7/25\n",
      "20000/20000 [==============================] - 90s 4ms/sample - loss: 0.4072 - last_time_step_mse: 0.4072 - val_loss: 0.3333 - val_last_time_step_mse: 0.3316\n",
      "Epoch 8/25\n",
      "20000/20000 [==============================] - 93s 5ms/sample - loss: 0.4074 - last_time_step_mse: 0.4074 - val_loss: 0.3316 - val_last_time_step_mse: 0.3310\n",
      "Epoch 9/25\n",
      "20000/20000 [==============================] - 92s 5ms/sample - loss: 0.4067 - last_time_step_mse: 0.4068 - val_loss: 0.3312 - val_last_time_step_mse: 0.3309\n",
      "Epoch 10/25\n",
      "20000/20000 [==============================] - 109s 5ms/sample - loss: 0.4072 - last_time_step_mse: 0.4073 - val_loss: 0.3317 - val_last_time_step_mse: 0.3317\n",
      "Epoch 11/25\n",
      "20000/20000 [==============================] - 97s 5ms/sample - loss: 0.4073 - last_time_step_mse: 0.4080 - val_loss: 0.3314 - val_last_time_step_mse: 0.3316\n",
      "Epoch 12/25\n",
      "20000/20000 [==============================] - 97s 5ms/sample - loss: 0.4066 - last_time_step_mse: 0.4068 - val_loss: 0.3338 - val_last_time_step_mse: 0.3336\n",
      "Epoch 13/25\n",
      "20000/20000 [==============================] - 90s 4ms/sample - loss: 0.4066 - last_time_step_mse: 0.4067 - val_loss: 0.3314 - val_last_time_step_mse: 0.3315\n",
      "Epoch 14/25\n",
      "20000/20000 [==============================] - 90s 5ms/sample - loss: 0.4068 - last_time_step_mse: 0.4070 - val_loss: 0.3324 - val_last_time_step_mse: 0.3325\n",
      "Epoch 15/25\n",
      " 4192/20000 [=====>........................] - ETA: 56s - loss: 0.4009 - last_time_step_mse: 0.4009"
     ]
    }
   ],
   "source": [
    "model.compile(loss=\"mse\", optimizer=\"adam\", metrics=[last_time_step_mse])\n",
    "history = model.fit(X_train, y_train, epochs=25,\n",
    "                    validation_data=(X_valid, y_valid))\n",
    "\n"
   ]
  },
  {
   "cell_type": "code",
   "execution_count": null,
   "metadata": {},
   "outputs": [],
   "source": []
  }
 ],
 "metadata": {
  "kernelspec": {
   "display_name": "Python 3",
   "language": "python",
   "name": "python3"
  },
  "language_info": {
   "codemirror_mode": {
    "name": "ipython",
    "version": 3
   },
   "file_extension": ".py",
   "mimetype": "text/x-python",
   "name": "python",
   "nbconvert_exporter": "python",
   "pygments_lexer": "ipython3",
   "version": "3.7.5"
  }
 },
 "nbformat": 4,
 "nbformat_minor": 2
}
